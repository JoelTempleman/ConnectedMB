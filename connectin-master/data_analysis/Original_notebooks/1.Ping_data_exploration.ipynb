{
 "cells": [
  {
   "cell_type": "markdown",
   "metadata": {},
   "source": [
    "**This entire notebook will run only if collectd data is collected**"
   ]
  },
  {
   "cell_type": "markdown",
   "metadata": {},
   "source": [
    "# Ping data exploration"
   ]
  },
  {
   "cell_type": "markdown",
   "metadata": {},
   "source": [
    "## How data is  collected\n",
    "Ping data is collected every 5 seconds doing single pings to 8.8.8.8\n",
    "\n",
    "**Example**:\n",
    ">$ ping -c 1 8.8.8.8  \n",
    ">PING 8.8.8.8 (8.8.8.8): 56 data bytes  \n",
    ">64 bytes from 8.8.8.8: icmp_seq=0 ttl=119 **time=22.985 ms**  \n",
    ">--- 8.8.8.8 ping statistics ---  \n",
    ">1 packets transmitted, 1 packets received, **0.0% packet loss**  \n",
    ">round-trip min/**avg**/max/**stddev** = 22.985/22.985/**22.985**/**0.000** ms  "
   ]
  },
  {
   "cell_type": "markdown",
   "metadata": {},
   "source": [
    "Data being collected:\n",
    " - **Ping latency** (in miliseconds, 22.985 ms in the example)\n",
    " - __Percentage of packets dropped__  (0.0% in the example, can be only 0% or 100%, data collected for single pings) \n",
    " - **Standart deviation (for latency)**  - always 0 for single pings\n"
   ]
  },
  {
   "cell_type": "markdown",
   "metadata": {},
   "source": [
    "## How data looks like\n",
    "Load libraries:"
   ]
  },
  {
   "cell_type": "code",
   "execution_count": null,
   "metadata": {},
   "outputs": [],
   "source": [
    "from data_exploration import *"
   ]
  },
  {
   "cell_type": "markdown",
   "metadata": {},
   "source": [
    "Set up test time interval:"
   ]
  },
  {
   "cell_type": "code",
   "execution_count": null,
   "metadata": {},
   "outputs": [],
   "source": [
    "time_interval='4w' #5d"
   ]
  },
  {
   "cell_type": "code",
   "execution_count": null,
   "metadata": {},
   "outputs": [],
   "source": [
    "#Set up starting point, by default if will start from current time\n",
    "starting_point=datetime.now().strftime('%Y-%m-%d %H:%M:%S')\n",
    "#starting point=\"2019-01-10 14:00:00\"  # to set upl alternative starting point\n",
    "print(\"Starting point:\",starting_point )"
   ]
  },
  {
   "cell_type": "markdown",
   "metadata": {},
   "source": [
    "Set up influxdb connection:"
   ]
  },
  {
   "cell_type": "code",
   "execution_count": null,
   "metadata": {},
   "outputs": [],
   "source": [
    "client, client_df = connect_to_influxdb()"
   ]
  },
  {
   "cell_type": "markdown",
   "metadata": {},
   "source": [
    "Checking last 10 records in the ping measurment and see how data looks like:"
   ]
  },
  {
   "cell_type": "code",
   "execution_count": null,
   "metadata": {},
   "outputs": [],
   "source": [
    "query_ping = 'SELECT PING,SK_PI FROM PING ORDER BY time DESC LIMIT 10;'\n",
    "ping_df = get_dataframe_from_influxdb(client_df=client_df,query_influx=query_ping,table_name='PING')\n",
    "ping_df"
   ]
  },
  {
   "cell_type": "markdown",
   "metadata": {},
   "source": [
    "Let's take just one device, for example 3:"
   ]
  },
  {
   "cell_type": "code",
   "execution_count": null,
   "metadata": {},
   "outputs": [],
   "source": [
    "query_ping = \"SELECT PING,SK_PI FROM PING WHERE SK_PI='3' ORDER BY time  DESC LIMIT 10 ;\"\n",
    "ping_df = get_dataframe_from_influxdb(client_df=client_df,query_influx=query_ping,table_name='PING')\n",
    "ping_df"
   ]
  },
  {
   "cell_type": "markdown",
   "metadata": {},
   "source": [
    "Let's compare with what we have in MS SQL database:"
   ]
  },
  {
   "cell_type": "code",
   "execution_count": null,
   "metadata": {},
   "outputs": [],
   "source": [
    "cnxn = connect_to_mssql()\n",
    "sql = \"SELECT TOP 10 DATA_DATE, PING, SK_PI,CONNTRACK FROM FCT_PI WHERE SK_PI='3' ORDER BY DATA_DATE DESC;\"\n",
    "pd.read_sql(sql,cnxn)"
   ]
  },
  {
   "cell_type": "markdown",
   "metadata": {},
   "source": [
    "Pings are coming every 4-6 seconds."
   ]
  },
  {
   "cell_type": "markdown",
   "metadata": {},
   "source": [
    "Checking statistics for number of packets dropped:"
   ]
  },
  {
   "cell_type": "code",
   "execution_count": null,
   "metadata": {},
   "outputs": [],
   "source": [
    "query_ping = \"SELECT DISTINCT(PING_DROPRATE) from PING;\"\n",
    "ping_df = get_dataframe_from_influxdb(client_df=client_df,query_influx=query_ping,table_name='PING')\n",
    "ping_df"
   ]
  },
  {
   "cell_type": "markdown",
   "metadata": {},
   "source": [
    "Lets see what is the value of *PING* measurment when *PING_DROPRATE* is equal to 100:"
   ]
  },
  {
   "cell_type": "code",
   "execution_count": null,
   "metadata": {},
   "outputs": [],
   "source": [
    "query_ping = \"SELECT PING, PING_DROPRATE FROM PING WHERE PING_DROPRATE=100 ORDER BY time DESC LIMIT 5;\"\n",
    "ping_df = get_dataframe_from_influxdb(client_df=client_df,query_influx=query_ping,table_name='PING')\n",
    "ping_df"
   ]
  },
  {
   "cell_type": "markdown",
   "metadata": {},
   "source": [
    "*PING* is equal to 0 when PING_DROPRATE=100, its importatnt to note."
   ]
  },
  {
   "cell_type": "markdown",
   "metadata": {},
   "source": [
    "## Number of datapoints per device"
   ]
  },
  {
   "cell_type": "markdown",
   "metadata": {},
   "source": [
    "Getting device numbers(tags SK_PI):"
   ]
  },
  {
   "cell_type": "code",
   "execution_count": null,
   "metadata": {},
   "outputs": [],
   "source": [
    "device_numbers=get_tag_values_influxdb(client_influx=client,table_name='PING', tag_name='SK_PI')\n",
    "device_numbers=list(map(int, device_numbers))\n",
    "device_numbers= sorted(device_numbers)\n",
    "print(device_numbers)"
   ]
  },
  {
   "cell_type": "markdown",
   "metadata": {},
   "source": [
    "Getting number of data points per device for the entire period of time."
   ]
  },
  {
   "cell_type": "code",
   "execution_count": null,
   "metadata": {},
   "outputs": [],
   "source": [
    "query_ping_counts = \"SELECT COUNT(PING) FROM PING WHERE time <= '\"+starting_point+\"'GROUP BY SK_PI;\"\n",
    "ping_counts=get_stats_influxdb(client_influx=client,\n",
    "                               query_influx=query_ping_counts,\n",
    "                               stat_name='count',\n",
    "                               device_numbers=device_numbers)"
   ]
  },
  {
   "cell_type": "markdown",
   "metadata": {},
   "source": [
    "Plotting device numbers and number of data points. "
   ]
  },
  {
   "cell_type": "code",
   "execution_count": null,
   "metadata": {},
   "outputs": [],
   "source": [
    "simple_bar_plot(xvalues=device_numbers,\n",
    "                yvalues=ping_counts,\n",
    "                name=\"ping datapoints\",\n",
    "                title=\"Number of data points per device to the date \"+ starting_point,\n",
    "                ytitle=\"Number of datapoints\")"
   ]
  },
  {
   "cell_type": "markdown",
   "metadata": {},
   "source": [
    "Some of the devices have small number of datapoints, may be they are just installed? Lets check how many dataponts came in last 4 weeks."
   ]
  },
  {
   "cell_type": "markdown",
   "metadata": {},
   "source": [
    "Getting number of datapoints per device in last 4 weeks and list of the devices that have data for this period of time(not all of the have)."
   ]
  },
  {
   "cell_type": "code",
   "execution_count": null,
   "metadata": {},
   "outputs": [],
   "source": [
    "#query_ping_counts_dec = \"SELECT COUNT(PING) FROM PING WHERE time >= '2018-12-01 00:00:00' GROUP BY SK_PI ;\"\n",
    "query_ping_counts_time = \"SELECT COUNT(PING) FROM PING WHERE time >= '\"+starting_point+\"'-\"+time_interval+\" GROUP BY SK_PI ;\"\n",
    "ping_counts_time = get_stats_influxdb(client_influx=client,\n",
    "                                      query_influx=query_ping_counts_time,\n",
    "                                      stat_name='count',\n",
    "                                      device_numbers=device_numbers)"
   ]
  },
  {
   "cell_type": "markdown",
   "metadata": {},
   "source": [
    "Plotting combined barchart - entire number of datapoints vs number of datapoints in last 4 weeks."
   ]
  },
  {
   "cell_type": "code",
   "execution_count": null,
   "metadata": {},
   "outputs": [],
   "source": [
    "combined_bar_plot_2traces(xvalues=device_numbers,\n",
    "                          yvalues1=ping_counts_time,\n",
    "                          yvalues2=[a - b for a, b in zip(ping_counts, ping_counts_time)],\n",
    "                          name1='Last '+time_interval,\n",
    "                          name2='The rest of the time',\n",
    "                          title=\"Comparing number of datapoints in last \"+time_interval+\" vs entire time\" + \" starting from \"+ starting_point,\n",
    "                          ytitle=\"Number of datapoints\")"
   ]
  },
  {
   "cell_type": "markdown",
   "metadata": {},
   "source": [
    "Devices 1,2,4,5,6,8 and possibly 13 and 14 need to be double checked. Looks like they have started reporting and then stopped. Let's check last reporting time for every device."
   ]
  },
  {
   "cell_type": "code",
   "execution_count": null,
   "metadata": {},
   "outputs": [],
   "source": [
    "query_ping_last = \"SELECT LAST(PING), time FROM PING WHERE time <= '\"+starting_point+\"' GROUP BY SK_PI;\"\n",
    "result_ping_last=get_stats_influxdb(client_influx=client,\n",
    "                               query_influx=query_ping_last,\n",
    "                               stat_name='time',\n",
    "                               device_numbers=device_numbers)"
   ]
  },
  {
   "cell_type": "code",
   "execution_count": null,
   "metadata": {},
   "outputs": [],
   "source": [
    "query_ping_first = \"SELECT FIRST(PING), time FROM PING WHERE time <= '\"+starting_point+\"' GROUP BY SK_PI;\"\n",
    "result_ping_first=get_stats_influxdb(client_influx=client,\n",
    "                               query_influx=query_ping_first,\n",
    "                               stat_name='time',\n",
    "                               device_numbers=device_numbers)"
   ]
  },
  {
   "cell_type": "code",
   "execution_count": null,
   "metadata": {},
   "outputs": [],
   "source": [
    "print(\"Collectd reporting times:\")\n",
    "data=[]\n",
    "for i in range(len(device_numbers)):\n",
    "    try:\n",
    "        result_ping_first[i] = dateutil.parser.parse(result_ping_first[i]).strftime('%Y-%m-%d %H:%M:%S')\n",
    "    except:\n",
    "        result_ping_first[i]=None\n",
    "    try:\n",
    "        result_ping_last[i] = dateutil.parser.parse(result_ping_last[i]).strftime('%Y-%m-%d %H:%M:%S')\n",
    "    except:\n",
    "        result_ping_last[i]=None\n",
    "    print(\"Device: \", device_numbers[i],\"  was reporting from \", result_ping_first[i], \" to \",result_ping_last[i])\n",
    "    trace = go.Scatter(x=[result_ping_first[i],result_ping_last[i]],y=[device_numbers[i],device_numbers[i]], \n",
    "                       name = device_numbers[i],marker=dict(color=colors[i]))\n",
    "    data.append(trace)\n",
    "layout = dict(title = \"Device reporting times(collectd)\",xaxis=dict(title=\"Time\"),\n",
    "        yaxis=dict(title=\"Device Number\"))\n",
    "fig = go.Figure(data=data, layout=layout)\n",
    "iplot(fig)"
   ]
  },
  {
   "cell_type": "markdown",
   "metadata": {},
   "source": [
    "Something is happening with devices  1,2,4,5,6,8,13 and 14. They stopped reporting - does it need to be investigated?"
   ]
  },
  {
   "cell_type": "markdown",
   "metadata": {},
   "source": [
    "## Ping latency "
   ]
  },
  {
   "cell_type": "markdown",
   "metadata": {},
   "source": [
    "What is normal ping latency? From [this link](https://www.pingman.com/kb/article/what-s-normal-for-latency-and-packet-loss-42.html):\n",
    "\n",
    ">There are two normal factors that significantly influence the latency of a consumer device (like a cable modem, dsl modem or dial-up modem).\n",
    "\n",
    ">The latency of the connecting device. For a cable modem, this can normally be between 5 and 40 ms. For a DSL modem this is normally 10 to 70ms. For a dial-up modem, this is normally anywhere from 100 to 220ms. For a cellular link, this can be from 200 to 600 ms. For a T1, this is normally 0 to 10 ms.\n",
    "The distance the data is traveling. Data travels at (very roughly) 120,000 miles (or 192,000 kilometers) per second, or 120 miles (192 km) per ms (millisecond) over a network connection. With traceroute, we have to send the data there and back again, so roughly 1 ms of latency is added for every 60 miles (96km, although with the level of accuracy we're using here, we should say '100km') of distance between you and the target.\n",
    "Connecting to a web site across 1500 miles (2400 km) of distance is going to add at least 25 ms to the latency. Normally, it's more like 75 after the data zig-zags around a bit and goes through numerous routers.\n",
    "\n",
    ">This means that a DSL modem on the west coast of the United States, tracing to a server on the east coast of the United States should expect somewhere around 120 ms (depending on the route and a number of other factors, but this is a rough ballpark) - 25 ms for the DSL modem and 100 ms for the distance. Tracing across an ocean, or through a satellite link, or some other link where the distance is further will certainly impact the expected latency more.\n",
    "\n"
   ]
  },
  {
   "cell_type": "markdown",
   "metadata": {},
   "source": [
    "Let's check actual ping latency numbers in last 4 weeks:"
   ]
  },
  {
   "cell_type": "code",
   "execution_count": null,
   "metadata": {},
   "outputs": [],
   "source": [
    "#query_ping_max_dec = \"SELECT MAX(PING), MEAN(PING) FROM PING WHERE time >= '2018-12-01 00:00:00' GROUP BY SK_PI;\"\n",
    "#time_interval='4w'\n",
    "query_ping_stats_time = \"SELECT MAX(PING), MEAN(PING), MEDIAN(PING) FROM PING WHERE PING!=0 AND time >= '\"+starting_point+\"'-\"+\\\n",
    "                         time_interval+\" GROUP BY SK_PI;\"\n",
    "result_ping_stats=get_3_stats_influxdb(client_influx=client,\n",
    "                                       query_influx=query_ping_stats_time,\n",
    "                                       stat_name1='max',\n",
    "                                       stat_name2='mean',\n",
    "                                       stat_name3='median',\n",
    "                                       device_numbers=device_numbers)"
   ]
  },
  {
   "cell_type": "markdown",
   "metadata": {},
   "source": [
    "Plotting mean and max ping latency results for every reporting result in December."
   ]
  },
  {
   "cell_type": "code",
   "execution_count": null,
   "metadata": {},
   "outputs": [],
   "source": [
    "combined_bar_plot_3traces(xvalues=result_ping_stats[\"SK_PI\"],\n",
    "                         yvalues1=result_ping_stats[\"max\"],\n",
    "                         yvalues2=result_ping_stats[\"mean\"],\n",
    "                         yvalues3=result_ping_stats[\"median\"],\n",
    "                         name1=\"Max\",\n",
    "                         name2=\"Mean\",\n",
    "                         name3=\"Median\",\n",
    "                         title=\"Maximum, mean and median ping delay in miliseconds for the last \"+time_interval+ \" starting from \"+ starting_point,\n",
    "                         stack=False)"
   ]
  },
  {
   "cell_type": "markdown",
   "metadata": {},
   "source": [
    "Device 16 has the highest mean and highest max.Devices 7,10,12,17 and 18 have large ping delays as well."
   ]
  },
  {
   "cell_type": "markdown",
   "metadata": {},
   "source": [
    "### Ping latency grouped by duration\n",
    "Lets divide ping latencies into 3 groups:\n",
    " - group1:  1-40Ms delay\n",
    " - group2:  41-100Ms delay\n",
    " - group3:  101+Ms delay  \n",
    " And calculate percentages of ping latencies in each group for every device:"
   ]
  },
  {
   "cell_type": "code",
   "execution_count": null,
   "metadata": {},
   "outputs": [],
   "source": [
    "range1=40\n",
    "range2=100\n",
    "#time_interval='4w'"
   ]
  },
  {
   "cell_type": "code",
   "execution_count": null,
   "metadata": {},
   "outputs": [],
   "source": [
    "query_ping_group1 = \"SELECT COUNT(PING) FROM PING WHERE PING > 0 AND PING < \"+str(range1+1)+\\\n",
    "                   \" AND time >= '\"+starting_point+\"'-\"+time_interval+\" GROUP BY SK_PI;\"\n",
    "ping_group1_time  = get_stats_influxdb(client_influx=client,\n",
    "                                      query_influx=query_ping_group1,\n",
    "                                      stat_name='count',\n",
    "                                      device_numbers=device_numbers)"
   ]
  },
  {
   "cell_type": "code",
   "execution_count": null,
   "metadata": {},
   "outputs": [],
   "source": [
    "query_ping_group2 = \"SELECT COUNT(PING) FROM PING WHERE PING > \"+str(range1)+\\\n",
    "                   \" AND PING < \"+str(range2+1)+\" AND time >= '\"+starting_point+\"'-\"+time_interval+\" GROUP BY SK_PI;\"\n",
    "ping_group2_time = get_stats_influxdb(client_influx=client,\n",
    "                                      query_influx=query_ping_group2,\n",
    "                                      stat_name='count',\n",
    "                                      device_numbers=device_numbers)"
   ]
  },
  {
   "cell_type": "code",
   "execution_count": null,
   "metadata": {},
   "outputs": [],
   "source": [
    "query_ping_group3= \"SELECT COUNT(PING) FROM PING WHERE PING > \"+str(range2+1)+\" AND  time >= '\"+starting_point+\"'-\"+\\\n",
    "                   time_interval+\" GROUP BY SK_PI;\"\n",
    "ping_group3_time = get_stats_influxdb(client_influx=client,\n",
    "                                      query_influx=query_ping_group3,\n",
    "                                      stat_name='count',\n",
    "                                      device_numbers=device_numbers)"
   ]
  },
  {
   "cell_type": "code",
   "execution_count": null,
   "metadata": {
    "scrolled": false
   },
   "outputs": [],
   "source": [
    "combined_bar_plot_3traces(xvalues=device_numbers,\n",
    "                         yvalues1=ping_group1_time,\n",
    "                         yvalues2=ping_group2_time,\n",
    "                         yvalues3=ping_group3_time,\n",
    "                         name1=\"Number of pings with 1-\"+str(range1)+\"Ms delay\",\n",
    "                         name2=\"Number of pings with \"+str(range1+1)+\"-\"+str(range2)+\"Ms delay\",\n",
    "                         name3=\"Number of pings with \"+str(range2+1)+\"+Ms delay\",\n",
    "                         title=\"Ping latency grouped by duration in the last \"+time_interval+ \" starting from \"+ starting_point,\n",
    "                         ytitle=\"Number of datapoints\")"
   ]
  },
  {
   "cell_type": "markdown",
   "metadata": {
    "collapsed": true
   },
   "source": [
    "## Ping droprate \n",
    "We will calculate the etite number of packets dropped by device using formula:SUM(PING_DROPRATE)/100"
   ]
  },
  {
   "cell_type": "code",
   "execution_count": null,
   "metadata": {},
   "outputs": [],
   "source": [
    "query_pingdroprate_mean_time= \"SELECT MEAN(PING_DROPRATE) FROM PING WHERE  time >= '\"+starting_point+\"'-\"+time_interval+\"  GROUP BY SK_PI;\"\n",
    "pingdroprate_mean_time=get_stats_influxdb(client_influx=client,\n",
    "                               query_influx=query_pingdroprate_mean_time,\n",
    "                               stat_name='mean',\n",
    "                               device_numbers=device_numbers)"
   ]
  },
  {
   "cell_type": "code",
   "execution_count": null,
   "metadata": {},
   "outputs": [],
   "source": [
    "simple_bar_plot(xvalues=device_numbers,\n",
    "                yvalues=pingdroprate_mean_time,\n",
    "                name=\"Mean\",\n",
    "                title=\"Average percentage of ping droprate per device in the last \"+time_interval + \" starting from \"+ starting_point,\n",
    "                ytitle=\"Percent\")"
   ]
  },
  {
   "cell_type": "markdown",
   "metadata": {},
   "source": [
    "Device 10 has the highest mean - highst percentage of packets dropped - more than 6%."
   ]
  },
  {
   "cell_type": "code",
   "execution_count": null,
   "metadata": {},
   "outputs": [],
   "source": [
    "query_pingdroprate_counts_time = \"SELECT COUNT(PING_DROPRATE) FROM PING WHERE time >= '\"+starting_point+\"'-\"+time_interval+\\\n",
    "                                 \" AND PING_DROPRATE>0 GROUP BY SK_PI ;\"\n",
    "pingdroprate_counts_time=get_stats_influxdb(client_influx=client,\n",
    "                               query_influx=query_pingdroprate_counts_time,\n",
    "                               stat_name='count',\n",
    "                               device_numbers=device_numbers)"
   ]
  },
  {
   "cell_type": "code",
   "execution_count": null,
   "metadata": {},
   "outputs": [],
   "source": [
    "query_ping_counts_time = \"SELECT COUNT(PING) FROM PING WHERE time >= '\"+starting_point+\"'-\"+time_interval+\" GROUP BY SK_PI ;\"\n",
    "ping_counts_time = get_stats_influxdb(client_influx=client,\n",
    "                                      query_influx=query_ping_counts_time,\n",
    "                                      stat_name='count',\n",
    "                                      device_numbers=device_numbers)"
   ]
  },
  {
   "cell_type": "code",
   "execution_count": null,
   "metadata": {},
   "outputs": [],
   "source": [
    "print(pingdroprate_counts_time)\n",
    "print([a - b for a, b in zip(ping_counts_time, pingdroprate_counts_time)])"
   ]
  },
  {
   "cell_type": "code",
   "execution_count": null,
   "metadata": {},
   "outputs": [],
   "source": [
    "combined_bar_plot_2traces(xvalues=device_numbers,\n",
    "                          yvalues1=pingdroprate_counts_time,\n",
    "                          yvalues2=[a - b for a, b in zip(ping_counts_time, pingdroprate_counts_time)],\n",
    "                          name1='Number of pings dropped',\n",
    "                          name2='Number of pings delievered',\n",
    "                          title=\"Ping droprate(actual number) in the last \"+time_interval+ \" starting from \"+ starting_point,\n",
    "                          ytitle=\"Number of datapoints\")"
   ]
  },
  {
   "cell_type": "markdown",
   "metadata": {},
   "source": [
    "Device #10 and device #16  have the largest number of packets dropped."
   ]
  },
  {
   "cell_type": "code",
   "execution_count": null,
   "metadata": {},
   "outputs": [],
   "source": [
    "#trace = go.Pie(labels=device_numbers, values=device_dropped_counts)\n",
    "#data=[trace]\n",
    "#layout = go.Layout(\n",
    "#        title=\"Total number of packets dropped by device\"\n",
    "#    )\n",
    "#fig = go.Figure(data=data, layout=layout)\n",
    "#iplot(fig)"
   ]
  }
 ],
 "metadata": {
  "kernelspec": {
   "display_name": "Python 3",
   "language": "python",
   "name": "python3"
  },
  "language_info": {
   "codemirror_mode": {
    "name": "ipython",
    "version": 3
   },
   "file_extension": ".py",
   "mimetype": "text/x-python",
   "name": "python",
   "nbconvert_exporter": "python",
   "pygments_lexer": "ipython3",
   "version": "3.6.9"
  },
  "nbTranslate": {
   "displayLangs": [
    "*"
   ],
   "hotkey": "alt-t",
   "langInMainMenu": true,
   "sourceLang": "en",
   "targetLang": "fr",
   "useGoogleTranslate": true
  }
 },
 "nbformat": 4,
 "nbformat_minor": 2
}
