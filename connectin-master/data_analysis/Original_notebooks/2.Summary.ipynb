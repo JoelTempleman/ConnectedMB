{
 "cells": [
  {
   "cell_type": "code",
   "execution_count": null,
   "metadata": {},
   "outputs": [],
   "source": [
    "from IPython.display import display, Math, Latex, HTML\n",
    "HTML('''<script>\n",
    "  function code_toggle() {\n",
    "    if (code_shown){\n",
    "      $('div.input').hide('500');\n",
    "      $('#toggleButton').val('Show Code')\n",
    "    } else {\n",
    "      $('div.input').show('500');\n",
    "      $('#toggleButton').val('Hide Code')\n",
    "    }\n",
    "    code_shown = !code_shown\n",
    "  }\n",
    "  \n",
    "  $( document ).ready(function(){\n",
    "    code_shown=false;\n",
    "    $('div.input').hide()\n",
    "  });\n",
    "</script>\n",
    "<form action=\"javascript:code_toggle()\"><input type=\"submit\" id=\"toggleButton\" value=\"Show Code\"></form>''') "
   ]
  },
  {
   "cell_type": "markdown",
   "metadata": {},
   "source": [
    "# ConnectIN draft analysis, part 2 - Jan 24, 2019\n",
    "\n",
    "This document contains observations for average donwload /upload speeds, ping latency by hour and day of the week.\n",
    "\n",
    "The analysis is configured to run for the 4 weeks before the current date. In this snapshot, this time period includes the Christmas / New Year breaks, as well as the first weeks of January. Given that the devices investigated here are deployed with organizations that would close over the holidays, this might affect the analysis and outcomes here. \n",
    "\n",
    "Data was collected from a total of 18 devices, most of which are located in Manitoba. Some devices stopped reporting and are not displayed on plots. Device  number 3, which is a control device set up in Cybera's offices in Calgary, was excluded from the analysis. \n",
    "\n",
    "Note that the timezone used during data collection is UTC, which was converted to 'America/Winnipeg' to represent correct local time.\n",
    "\n",
    "NB: This is a draft and results need to be further confirmed/verified."
   ]
  },
  {
   "cell_type": "code",
   "execution_count": null,
   "metadata": {},
   "outputs": [],
   "source": [
    "#Load libraries:\n",
    "from data_exploration import *\n",
    "#for plotly distribution plots\n",
    "import plotly.figure_factory as ff\n",
    "\n",
    "import numpy as np"
   ]
  },
  {
   "cell_type": "code",
   "execution_count": null,
   "metadata": {},
   "outputs": [],
   "source": [
    "all_data=False"
   ]
  },
  {
   "cell_type": "code",
   "execution_count": null,
   "metadata": {},
   "outputs": [],
   "source": [
    "#Collect all data?\n",
    "#all_data=True\n",
    "\n",
    "#Set up test time interval:\n",
    "time_interval='4w' #2w\n",
    "\n",
    "#Set up starting point, by default if will start from current time\n",
    "#starting_point=datetime.now().strftime('%Y-%m-%d %H:%M:%S')\n",
    "starting_point=\"2019-01-24 14:00:00\"  # to set upl alternative starting point\n",
    "\n",
    "title_tail=\"\"\n",
    "query_tail=\"\"\n",
    "\n",
    "if not all_data:\n",
    "    ##tail to all the titles\n",
    "    title_tail=\" over the last \"+time_interval+ \" back  from \"+ starting_point\n",
    "    ##tail for all the influxdb queries\n",
    "    query_tail=\" AND time >= '\"+starting_point+\"'-\"+time_interval"
   ]
  },
  {
   "cell_type": "code",
   "execution_count": null,
   "metadata": {},
   "outputs": [],
   "source": [
    "if not all_data:#Set up test time interval:\n",
    "    print(\"Time interval: \", time_interval)\n",
    "    print(\"Starting point:\",starting_point )\n",
    "else:\n",
    "    print(\"Selecting all data from database\")"
   ]
  },
  {
   "cell_type": "code",
   "execution_count": null,
   "metadata": {},
   "outputs": [],
   "source": [
    "#Set up influxdb connection:\n",
    "client, client_df = connect_to_influxdb()"
   ]
  },
  {
   "cell_type": "code",
   "execution_count": null,
   "metadata": {},
   "outputs": [],
   "source": [
    "##Matching coordinates from given mac addresses to device numbers from MS SQL table\n",
    "#coordinates_df = pd.read_csv(\"../coordinates.csv\")\n",
    "#cnxn = connect_to_mssql()\n",
    "#sql = \"SELECT DISTINCT PI_MAC, PK_PI FROM  DIM_PI;\"\n",
    "#df_frommssql=pd.read_sql(sql,cnxn)\n",
    "#coordinates_df=pd.merge(coordinates_df, df_frommssql,  how='left', left_on=['mac'], right_on = ['PI_MAC'])\n",
    "#coordinates_df.rename(columns={'PK_PI':'device_number'}, inplace=True)\n",
    "#coordinates_df = coordinates_df[[\"lat\",\"long\",\"name\",\"mac\",\"device_number\",\"Up\",\"Down\"]]\n",
    "#coordinates_df.to_csv('coordinates2.csv',index=False)\n",
    "#coordinates_df"
   ]
  },
  {
   "cell_type": "code",
   "execution_count": null,
   "metadata": {},
   "outputs": [],
   "source": [
    "coordinates_df = pd.read_csv(\"../coordinates2.csv\")"
   ]
  },
  {
   "cell_type": "markdown",
   "metadata": {},
   "source": [
    "### Download speed"
   ]
  },
  {
   "cell_type": "code",
   "execution_count": null,
   "metadata": {},
   "outputs": [],
   "source": [
    "query_download = \"SELECT * FROM SPEEDTEST_IPERF_DOWNLOAD WHERE PROVIDER!='iperf' AND DOWNLOAD>0\"+ query_tail+\";\"\n",
    "download_df = get_dataframe_from_influxdb(client_df=client_df,query_influx=query_download,table_name='SPEEDTEST_IPERF_DOWNLOAD')\n",
    "download_df=download_df[download_df[\"SK_PI\"]!=3]"
   ]
  },
  {
   "cell_type": "code",
   "execution_count": null,
   "metadata": {
    "scrolled": false
   },
   "outputs": [],
   "source": [
    "device_numbers_d=download_df['SK_PI'].unique()\n",
    "device_numbers_d=list(map(int, device_numbers_d))\n",
    "device_numbers_d= sorted(device_numbers_d)"
   ]
  },
  {
   "cell_type": "code",
   "execution_count": null,
   "metadata": {},
   "outputs": [],
   "source": [
    "download_df[\"hour\"]=pd.to_numeric(download_df[\"time\"].dt.hour)"
   ]
  },
  {
   "cell_type": "code",
   "execution_count": null,
   "metadata": {},
   "outputs": [],
   "source": [
    "#by_hour_by_device_d = mean_max_median_min_by2(input_dataframe=download_df,value1=\"DOWNLOAD\", value2=\"DOWNLOAD\",\n",
    "#                                              value3=\"DOWNLOAD\",value4=\"DOWNLOAD\",group_by_value=\"hour\", rename_columns=True)"
   ]
  },
  {
   "cell_type": "code",
   "execution_count": null,
   "metadata": {},
   "outputs": [],
   "source": [
    "t=\"Normalized download speed by hour\"+title_tail\n",
    "traces=[]\n",
    "for device in device_numbers_d:\n",
    "    #subset=by_hour_by_device_d[by_hour_by_device_d[\"SK_PI\"]==device]\n",
    "    subset=download_df[download_df[\"SK_PI\"]==device]\n",
    "    trace = go.Scatter(\n",
    "        x = subset['hour'],\n",
    "        #y=subset['DOWNLOAD'],\n",
    "        y=(subset['DOWNLOAD']-subset['DOWNLOAD'].mean())/subset['DOWNLOAD'].std(),\n",
    "        #y=subset['mean'],\n",
    "        #y=(subset['mean']-subset['mean'].mean())/subset['mean'].std(),\n",
    "        mode = 'markers',\n",
    "        marker = dict(color=colors[device]),\n",
    "        name = device\n",
    "    )\n",
    "    traces.append(trace)\n",
    "layout = go.Layout(\n",
    "        title=t,\n",
    "        xaxis=dict(title=\"Hour of the day\"),\n",
    "        yaxis=dict(title=\"Difference to normalized speeds (Mbps)\")\n",
    "        )\n",
    "#download_line=go.Scatter(x=by_hour_by_device_d['hour'],y=[50] * len(by_hour_by_device_d['hour']), mode='lines',marker=dict(color='red'), name='50Mbps')\n",
    "#traces.append(download_line)\n",
    "data = traces\n",
    "fig = go.Figure(data=data, layout=layout)\n",
    "iplot(fig)"
   ]
  },
  {
   "cell_type": "markdown",
   "metadata": {},
   "source": [
    "On this plot we see download speed by hour (x axis) for all the devices. Data was normalized around zero - in order to use devices from all of our devices and to spot trends. We can see that during the night/early morning download speeds seem a little higher and go down during working hours. However, it should be noted that this has not been quantified yet or tested for statistical significance. "
   ]
  },
  {
   "cell_type": "code",
   "execution_count": null,
   "metadata": {},
   "outputs": [],
   "source": [
    "coordinates_subset_d=coordinates_df[coordinates_df[\"device_number\"].isin(device_numbers_d)]\n",
    "#coordinates_subset_d=coordinates_subset_d[np.isfinite(coordinates_subset_d['Down'])]\n",
    "coordinates_subset_d=coordinates_subset_d.sort_values(by=\"device_number\", ascending=True)\n",
    "#coordinates_subset_d"
   ]
  },
  {
   "cell_type": "code",
   "execution_count": null,
   "metadata": {},
   "outputs": [],
   "source": [
    "\n",
    "#b_line=go.Scatter(x=coordinates_subset_d[\"device_number\"],y=coordinates_subset_d[\"Down\"], mode='markers',marker=dict(color='blue'), name='Bandwidth bought')\n",
    "\n",
    "t=\"Download speed by device\"+title_tail                                                      \n",
    "simple_boxplot(dataframe=download_df,plot_value='DOWNLOAD',sort_value='SK_PI',\n",
    "               title=t, \n",
    "               ytitle=\"Download speed (Mbps)\",\n",
    "               xtitle=\"Device number\", downloadline=True)#,boughtline=b_line)"
   ]
  },
  {
   "cell_type": "markdown",
   "metadata": {},
   "source": [
    "[This boxplot](https://towardsdatascience.com/understanding-boxplots-5e2df7bcbd51) shows that for most of the devices download speeds are below the CRTC target of -50 Mbps.\n",
    "In blue there is possible bandwidht bought information(from excel spreadsheet provided). It looks correct for device 16 and it's also possibly correct for devices 10,12. For the rest of the devices is information is not reliable.  \n",
    "\n",
    "Let's calculate the statistics - percentage of datapoints below 50Mbps for every device."
   ]
  },
  {
   "cell_type": "code",
   "execution_count": null,
   "metadata": {},
   "outputs": [],
   "source": [
    "download_df[\"below50\"]=0\n",
    "download_df.loc[(download_df[\"DOWNLOAD\"]<50),\"below50\"]=1"
   ]
  },
  {
   "cell_type": "code",
   "execution_count": null,
   "metadata": {},
   "outputs": [],
   "source": [
    "summary_download=download_df.groupby(\"SK_PI\")['below50'].count().reset_index()\n",
    "summary_download.rename(columns={'below50':'download_count'}, inplace=True)\n",
    "\n",
    "mean_download=round(download_df.groupby(\"SK_PI\")['DOWNLOAD'].mean(),2).reset_index()\n",
    "mean_download.rename(columns={'DOWNLOAD':'download_mean'}, inplace=True)\n",
    "\n",
    "std_download=round(download_df.groupby(\"SK_PI\")['DOWNLOAD'].std(),2).reset_index()\n",
    "std_download.rename(columns={'DOWNLOAD':'download_std'}, inplace=True)\n",
    "\n",
    "subset_below50=download_df[download_df['below50']==1]\n",
    "summary_below50=subset_below50.groupby(\"SK_PI\")['below50'].count().reset_index()\n",
    "summary_below50.rename(columns={'below50':'download_below50'}, inplace=True)\n",
    "\n",
    "summary_download=pd.merge(summary_download, summary_below50,  how='outer', left_on=['SK_PI'], right_on = ['SK_PI'])\n",
    "summary_download=pd.merge(summary_download, mean_download,  how='outer', left_on=['SK_PI'], right_on = ['SK_PI'])\n",
    "summary_download=pd.merge(summary_download, std_download,  how='outer', left_on=['SK_PI'], right_on = ['SK_PI'])\n",
    "\n",
    "summary_download.fillna(0, inplace=True)\n",
    "summary_download['Download speeds less than 50  Mbps  (%)']=round(summary_download['download_below50']/summary_download['download_count']*100)\n",
    "summary_download=summary_download.sort_values(by=['SK_PI'], ascending=[True])\n",
    "summary_download[\"device number\"]=summary_download[\"SK_PI\"]\n",
    "summary_download=summary_download.reset_index().set_index(\"device number\")\n",
    "summary_download.drop(['index','SK_PI'], axis=1, inplace=True)\n",
    "summary_download[[\"download_mean\",\"download_std\",\"Download speeds less than 50  Mbps  (%)\"]]"
   ]
  },
  {
   "cell_type": "markdown",
   "metadata": {},
   "source": [
    "Looks like device #8 is the only device that has 100% of data above 50Mbps for download speed. Devices 5, 7, 9, 10, 11, 12, 15, 16, 17, 18 are clearly in underserved areas - 99%-100% of datapoints below CRTC target.\n",
    "For device #14 the situation is not clear - 32% of data is below 50Mbps and 68% above. \n",
    "\n",
    "We will take a more detailed look at device #14.\n"
   ]
  },
  {
   "cell_type": "code",
   "execution_count": null,
   "metadata": {
    "scrolled": false
   },
   "outputs": [],
   "source": [
    "device_number=14\n",
    "subset=download_df[download_df[\"SK_PI\"]==device_number]\n",
    "hist_data = [subset['DOWNLOAD']]\n",
    "group_labels = ['device '+str(device_number)+ ' download speed']\n",
    "\n",
    "fig = ff.create_distplot(hist_data, group_labels,bin_size=10)\n",
    "fig['layout']['xaxis'].update(title='Download speed (Mbps)')\n",
    "iplot(fig)"
   ]
  },
  {
   "cell_type": "markdown",
   "metadata": {},
   "source": [
    "This plot shows distribution of data for device #14, we can see two distinct clusters - low speeds and high speeds. Data varies from around 30 Mbps and around 160 Mbps and there is nothing in between. Below shows the raw speed data for device 14 and the other devices using a tool called Grafana (a visualization tool that we have set up to display time series data)."
   ]
  },
  {
   "cell_type": "markdown",
   "metadata": {},
   "source": [
    "![](images/grafana_download14.png)"
   ]
  },
  {
   "cell_type": "markdown",
   "metadata": {},
   "source": [
    "The panel above definetely shows the New Year break (relatively high speeds) and speeds are going down before and after the break with lots of fluctuation."
   ]
  },
  {
   "cell_type": "markdown",
   "metadata": {},
   "source": [
    "![](images/grafana_download14_1.png)"
   ]
  },
  {
   "cell_type": "markdown",
   "metadata": {},
   "source": [
    "This panel shows how device #14 (green) is different from the rest of devices.The fluctuation from low and high speeds are quite noticable, whereas the other lines are much more stable and do not display the same large fluctuations in speed. \n",
    "\n",
    "Let's try analyzing the same device by hour of the day."
   ]
  },
  {
   "cell_type": "code",
   "execution_count": null,
   "metadata": {},
   "outputs": [],
   "source": [
    "subset=download_df[download_df[\"SK_PI\"]==device_number]\n",
    "t=\"Download speed by hour for the device \" + str(device_number)+title_tail\n",
    "simple_boxplot(dataframe=subset,plot_value='DOWNLOAD',sort_value='hour',\n",
    "               title=t,\n",
    "               xtitle=\"Hour of the day\", downloadline=True)"
   ]
  },
  {
   "cell_type": "markdown",
   "metadata": {},
   "source": [
    "Some hours are relatively stable (4am, 7am, 10am, 3pm, 5pm, 7pm) and the rest of hours have lots of variety. We can't spot any trend here.   \n",
    "Let's check by day of the week."
   ]
  },
  {
   "cell_type": "code",
   "execution_count": null,
   "metadata": {},
   "outputs": [],
   "source": [
    "download_df[\"weekday\"]=download_df[\"time\"].dt.weekday_name\n",
    "download_df[\"weekday\"] = pd.Categorical(download_df[\"weekday\"], [\"Monday\", \"Tuesday\", \"Wednesday\", \"Thursday\", \"Friday\", \"Saturday\", \"Sunday\"])"
   ]
  },
  {
   "cell_type": "code",
   "execution_count": null,
   "metadata": {},
   "outputs": [],
   "source": [
    "subset=download_df[download_df[\"SK_PI\"]==device_number]\n",
    "t=\"Download speed by day of the week for the device \" + str(device_number)+title_tail\n",
    "simple_boxplot(dataframe=subset,plot_value='DOWNLOAD',sort_value='weekday',\n",
    "               title=t,\n",
    "               ytitle=\"Mbps\",downloadline=True, weekdays=True, jitter=True)"
   ]
  },
  {
   "cell_type": "markdown",
   "metadata": {},
   "source": [
    "On the jitterplots (dots) left from every boxplot we can see distinct clusters for every day of the week with high and low speeds. At the same time,looking at medians,  we can see that Monday Tuesday and Friday have the worst/lowest speeds compared to Wednesday, Thursday and Saturday. Sunday has the best results.\n",
    "\n",
    "Another thing we can check is test servers. Let's look at this plot:"
   ]
  },
  {
   "cell_type": "markdown",
   "metadata": {},
   "source": [
    "![](images/plotly_testservers_14.png)"
   ]
  },
  {
   "cell_type": "markdown",
   "metadata": {},
   "source": [
    "For device #14, the majority of datapoints  are coming from 2 test servers: Westman Communication (Brandon, MB) and Morenet (Morden, MB).   \n",
    "Let's check in Grafana the datapoints coming from different test servers:"
   ]
  },
  {
   "cell_type": "markdown",
   "metadata": {},
   "source": [
    "![](images/grafana_download14_3.png)"
   ]
  },
  {
   "cell_type": "markdown",
   "metadata": {},
   "source": [
    "We can clearly see that download speeds measured unsing Morden test server are the high speeds cluster and data measured using Brandon test server is the low speeds cluster.\n",
    "\n",
    "We know that device #14 is located in Dacota Plains, MB. These two test servers geographically are not far from Dacota Plains. Why are the speeds so noticeble different? How different is the packet route  to reach these servers?"
   ]
  },
  {
   "cell_type": "code",
   "execution_count": null,
   "metadata": {},
   "outputs": [],
   "source": [
    "#devices_download_below50=summary_download[summary_download['download_below50_percent']>50]['SK_PI'].unique()\n",
    "#hist_data=[]\n",
    "#group_labels=[]\n",
    "#colors_d=[]\n",
    "#for device_number in devices_download_below50:\n",
    "#    hist_data.append(download_df[download_df[\"SK_PI\"]==device_number][\"DOWNLOAD\"])\n",
    "#    group_labels.append(device_number)\n",
    "#    colors_d.append(colors[device_number])\n",
    "\n",
    "#fig = ff.create_distplot(hist_data, group_labels, colors=colors_d,\n",
    "#                         bin_size=1, show_rug=False)\n",
    "#\n",
    "#fig['layout'].update(title='Download speed: distribution for all devices')\n",
    "#iplot(fig)"
   ]
  },
  {
   "cell_type": "markdown",
   "metadata": {},
   "source": [
    "## Upload speed"
   ]
  },
  {
   "cell_type": "code",
   "execution_count": null,
   "metadata": {},
   "outputs": [],
   "source": [
    "query_upload = \"SELECT * FROM SPEEDTEST_IPERF_UPLOAD WHERE PROVIDER!='iperf' AND UPLOAD>0\"+ query_tail+\";\"\n",
    "upload_df = get_dataframe_from_influxdb(client_df=client_df,query_influx=query_upload,table_name='SPEEDTEST_IPERF_UPLOAD')\n",
    "upload_df=upload_df[upload_df[\"SK_PI\"]!=3]"
   ]
  },
  {
   "cell_type": "code",
   "execution_count": null,
   "metadata": {},
   "outputs": [],
   "source": [
    "device_numbers_u=upload_df['SK_PI'].unique()\n",
    "device_numbers_u=list(map(int, device_numbers_u))\n",
    "device_numbers_u= sorted(device_numbers_u)"
   ]
  },
  {
   "cell_type": "code",
   "execution_count": null,
   "metadata": {},
   "outputs": [],
   "source": [
    "upload_df[\"hour\"]=pd.to_numeric(upload_df[\"time\"].dt.hour)\n",
    "#by_hour_by_device_u = mean_max_median_min_by2(input_dataframe=upload_df,value1=\"UPLOAD\", value2=\"UPLOAD\",\n",
    "#                                              value3=\"UPLOAD\",value4=\"UPLOAD\",group_by_value=\"hour\", rename_columns=True)"
   ]
  },
  {
   "cell_type": "code",
   "execution_count": null,
   "metadata": {},
   "outputs": [],
   "source": [
    "traces=[]\n",
    "t=\"Normalized upload speed by hour\"+title_tail\n",
    "traces=[]\n",
    "for device in device_numbers_d:\n",
    "    #subset=by_hour_by_device_u[by_hour_by_device_u[\"SK_PI\"]==device]\n",
    "    subset=upload_df[upload_df[\"SK_PI\"]==device]\n",
    "    trace = go.Scatter(\n",
    "        x = subset['hour'],\n",
    "        #y=subset['UPLOAD'],\n",
    "        y=(subset['UPLOAD']-subset['UPLOAD'].mean())/subset['UPLOAD'].std(),\n",
    "        #y=subset['mean'],\n",
    "        #y=(subset['mean']-subset['mean'].mean())/subset['mean'].std(),\n",
    "        mode = 'markers',\n",
    "        marker = dict(color=colors[device]),\n",
    "        name = device\n",
    "    )\n",
    "    traces.append(trace)\n",
    "layout = go.Layout(\n",
    "        title=t,\n",
    "        xaxis=dict(title=\"Hour of the day\"),\n",
    "        yaxis=dict(title=\"Difference to normalized speeds (Mbps)\")\n",
    "        )\n",
    "#download_line=go.Scatter(x=by_hour_by_device_d['hour'],y=[50] * len(by_hour_by_device_d['hour']), mode='lines',marker=dict(color='red'), name='50Mbps')\n",
    "#traces.append(download_line)\n",
    "data = traces\n",
    "fig = go.Figure(data=data, layout=layout)\n",
    "iplot(fig)"
   ]
  },
  {
   "cell_type": "markdown",
   "metadata": {},
   "source": [
    "This plot shows the upload speeds for all the devices normalized around zero.\n",
    "We can see the same trend - speeds are little bit higher during the night morning and take a dip during bussiness hours."
   ]
  },
  {
   "cell_type": "code",
   "execution_count": null,
   "metadata": {},
   "outputs": [],
   "source": [
    "coordinates_subset_u=coordinates_df[coordinates_df[\"device_number\"].isin(device_numbers_u)]\n",
    "#coordinates_subset_u=coordinates_subset_u[np.isfinite(coordinates_subset_u['Up'])]\n",
    "coordinates_subset_u=coordinates_subset_u.sort_values(by=\"device_number\", ascending=True)"
   ]
  },
  {
   "cell_type": "code",
   "execution_count": null,
   "metadata": {},
   "outputs": [],
   "source": [
    "#b_line=go.Scatter(x=coordinates_subset_u[\"device_number\"],\n",
    "#                  y=coordinates_subset_u[\"Up\"], mode='markers',marker=dict(color='blue'), name='Bandwidth bought')\n",
    "\n",
    "t=\"Upload speed by device\"+title_tail\n",
    "simple_boxplot(dataframe=upload_df,plot_value='UPLOAD',sort_value='SK_PI',\n",
    "               title=t, \n",
    "               ytitle=\"Upload speed (Mbps)\",\n",
    "               xtitle=\"Device number\",uploadline=True)#, boughtline=b_line)"
   ]
  },
  {
   "cell_type": "markdown",
   "metadata": {},
   "source": [
    "On this plot we see that for upload speed the situation is a little bit better: some of the devices are abouve the CRTC target of 10 Mbps (red dots).\n",
    "In blue there is possible bandwidht bought information(from excel spreadsheet provided). It looks correct  possibly correct for device 10. For the rest of the devices is information is not reliable.   \n",
    "\n",
    "Let's calculate the statistics - percentage of datapoints below 10Mbps for every device."
   ]
  },
  {
   "cell_type": "code",
   "execution_count": null,
   "metadata": {},
   "outputs": [],
   "source": [
    "upload_df[\"below10\"]=0\n",
    "upload_df.loc[(upload_df[\"UPLOAD\"]<10),\"below10\"]=1\n",
    "#upload_df.head()"
   ]
  },
  {
   "cell_type": "code",
   "execution_count": null,
   "metadata": {},
   "outputs": [],
   "source": [
    "summary_upload=upload_df.groupby(\"SK_PI\")['below10'].count().reset_index()\n",
    "summary_upload.rename(columns={'below10':'upload_count'}, inplace=True)\n",
    "\n",
    "mean_upload=round(upload_df.groupby(\"SK_PI\")['UPLOAD'].mean(),2).reset_index()\n",
    "mean_upload.rename(columns={'UPLOAD':'upload_mean'}, inplace=True)\n",
    "\n",
    "std_upload=round(upload_df.groupby(\"SK_PI\")['UPLOAD'].std(),2).reset_index()\n",
    "std_upload.rename(columns={'UPLOAD':'upload_std'}, inplace=True)\n",
    "\n",
    "subset_below10=upload_df[upload_df['below10']==1]\n",
    "summary_below10=subset_below10.groupby(\"SK_PI\")['below10'].count().reset_index()\n",
    "summary_below10.rename(columns={'below10':'upload_below10'}, inplace=True)\n",
    "\n",
    "summary_upload=pd.merge(summary_upload, summary_below10,  how='outer', left_on=['SK_PI'], right_on = ['SK_PI'])\n",
    "summary_upload=pd.merge(summary_upload, mean_upload,  how='outer', left_on=['SK_PI'], right_on = ['SK_PI'])\n",
    "summary_upload=pd.merge(summary_upload, std_upload,  how='outer', left_on=['SK_PI'], right_on = ['SK_PI'])\n",
    "\n",
    "summary_upload.fillna(0, inplace=True)\n",
    "summary_upload[\"Upload speeds less than 10  Mbps  (%)\"]=round(summary_upload['upload_below10']/summary_upload['upload_count']*100)\n",
    "summary_upload=summary_upload.sort_values(by=['SK_PI'], ascending=[ True])\n",
    "\n",
    "summary_upload[\"device number\"]=summary_upload[\"SK_PI\"]\n",
    "summary_upload=summary_upload.reset_index().set_index(\"device number\")\n",
    "summary_upload.drop(['index','SK_PI'], axis=1, inplace=True)\n",
    "summary_upload[[\"upload_mean\",\"upload_std\",\"Upload speeds less than 10  Mbps  (%)\"]]"
   ]
  },
  {
   "cell_type": "markdown",
   "metadata": {},
   "source": [
    "We can clearly see that devices 5, 10, 12, 16 and 18  have 99%-100% of data below 10Mbps.  \n",
    "Devices 8, 9, 11, 14, 15, 17 look good: they have 1%-0% of data below 10Mbps.  \n",
    "It's not quite clear for device #7 - it has 77% of data above and 23%of data below CRTC target.  \n",
    "Let's calculate some other metrics for this device:"
   ]
  },
  {
   "cell_type": "code",
   "execution_count": null,
   "metadata": {},
   "outputs": [],
   "source": [
    "device_number=7\n",
    "subset=upload_df[upload_df[\"SK_PI\"]==device_number]\n",
    "hist_data = [subset['UPLOAD']]\n",
    "group_labels = ['device '+str(device_number)+ ' upload speed']\n",
    "fig = ff.create_distplot(hist_data, group_labels,bin_size=0.25)\n",
    "fig['layout']['xaxis'].update(title='Upload speed (Mbps)')\n",
    "iplot(fig)\n"
   ]
  },
  {
   "cell_type": "markdown",
   "metadata": {},
   "source": [
    "Looking at the distribution plot - we can see that data is concentrated around 6-10Mbps and is not spread as widely as it was for device #14.  The same pattern emerges from the raw data drawn from Grafana below."
   ]
  },
  {
   "cell_type": "markdown",
   "metadata": {},
   "source": [
    "![](images/grafana_upload7.png)"
   ]
  },
  {
   "cell_type": "markdown",
   "metadata": {},
   "source": [
    "Let's check statistics by hour for this device as well:"
   ]
  },
  {
   "cell_type": "code",
   "execution_count": null,
   "metadata": {},
   "outputs": [],
   "source": [
    "upload_df[\"hour\"]=pd.to_numeric(upload_df[\"time\"].dt.hour)\n",
    "subset=upload_df[upload_df[\"SK_PI\"]==device_number]\n",
    "t=\"Upload speed by hour for the device \" + str(device_number)+title_tail\n",
    "simple_boxplot(dataframe=subset,plot_value='UPLOAD',sort_value='hour',\n",
    "               title=t,\n",
    "               ytitle=\"Upload speed (Mbps)\",\n",
    "               xtitle=\"Hour of the day\", uploadline=True)"
   ]
  },
  {
   "cell_type": "markdown",
   "metadata": {},
   "source": [
    "On this plot we can see that the only time when device #7 meets the CRTC target and the upload speed is above 10Mbps - is early in the morning (4am-7am). The rest of the time  the upload speed is  below 10Mbps."
   ]
  },
  {
   "cell_type": "code",
   "execution_count": null,
   "metadata": {},
   "outputs": [],
   "source": [
    "upload_df[\"time_group\"]=\"\"\n",
    "upload_df.loc[(upload_df[\"hour\"]>23)|(upload_df[\"hour\"]<=7),\"time_group\"]=\"night 23:00-07:00\"\n",
    "upload_df.loc[(upload_df[\"hour\"]>7)&(upload_df[\"hour\"]<=17),\"time_group\"]=\"day 7:00-17:00\"\n",
    "upload_df.loc[(upload_df[\"hour\"]>17)&(upload_df[\"hour\"]<=23),\"time_group\"]=\"evening 17:00-23:00\""
   ]
  },
  {
   "cell_type": "code",
   "execution_count": null,
   "metadata": {},
   "outputs": [],
   "source": [
    "subset=upload_df[upload_df[\"SK_PI\"]==device_number]\n",
    "t=\"Upload speed by timegroup for the device \"+str(device_number)+title_tail\n",
    "simple_boxplot(dataframe=subset,plot_value='UPLOAD',sort_value='time_group',\n",
    "               title=t,\n",
    "               ytitle=\"Mbps\",uploadline=True, jitter=True)"
   ]
  },
  {
   "cell_type": "markdown",
   "metadata": {},
   "source": [
    "The same picture emerges on this boxplot - the highest speeds (and median of 9.74Mbps) is seen during the night. Day time has a slightly higher median than what is seen during the evening (8Mbps and 6.8Mbps, respectively). Note that we have not tested for statistical significance yet. "
   ]
  },
  {
   "cell_type": "code",
   "execution_count": null,
   "metadata": {},
   "outputs": [],
   "source": [
    "upload_df[\"weekday\"]=upload_df[\"time\"].dt.weekday_name\n",
    "upload_df[\"weekday\"] = pd.Categorical(upload_df[\"weekday\"], [\"Monday\", \"Tuesday\", \"Wednesday\", \"Thursday\", \"Friday\", \"Saturday\", \"Sunday\"])"
   ]
  },
  {
   "cell_type": "code",
   "execution_count": null,
   "metadata": {},
   "outputs": [],
   "source": [
    "subset=upload_df[upload_df[\"SK_PI\"]==device_number]\n",
    "t=\"Upload speed by day of the week for the device \"+str(device_number)+title_tail\n",
    "simple_boxplot(dataframe=subset,plot_value='UPLOAD',sort_value='weekday',\n",
    "               title=t,\n",
    "               ytitle=\"Mbps\",uploadline=True, weekdays=True, jitter=True)"
   ]
  },
  {
   "cell_type": "markdown",
   "metadata": {},
   "source": [
    "Chcking upload speeds for  device #7 by day of the week does not show any trends. (Wednesday is the fastest for some reason?). And no distinct results if be group by working day/weekend (on the plot below)."
   ]
  },
  {
   "cell_type": "code",
   "execution_count": null,
   "metadata": {},
   "outputs": [],
   "source": [
    "upload_df[\"day_group\"]=\"Weekday\"\n",
    "upload_df.loc[(upload_df[\"weekday\"]==\"Sunday\")|(upload_df[\"weekday\"]==\"Saturday\"),\"day_group\"]=\"Weekend\"\n",
    "subset=upload_df[upload_df[\"SK_PI\"]==device_number]\n",
    "t=\"Upload speed by day group for the device \"+str(device_number)+title_tail\n",
    "simple_boxplot(dataframe=subset,plot_value='UPLOAD',sort_value='day_group',\n",
    "               title=t,\n",
    "               ytitle=\"Mbps\",uploadline=True, jitter=True)"
   ]
  },
  {
   "cell_type": "code",
   "execution_count": null,
   "metadata": {},
   "outputs": [],
   "source": [
    "#devices_upload_below10=summary_upload[summary_upload['upload_below10_percent']>50]['SK_PI'].unique()\n",
    "#hist_data=[]\n",
    "#group_labels=[]\n",
    "#colors_d=[]\n",
    "#for device_number in devices_upload_below10:\n",
    "#    hist_data.append(upload_df[upload_df[\"SK_PI\"]==device_number][\"UPLOAD\"])\n",
    "#    group_labels.append(device_number)\n",
    "#    colors_d.append(colors[device_number])\n",
    "#\n",
    "#fig = ff.create_distplot(hist_data, group_labels, colors=colors_d,\n",
    "#                         bin_size=0.25, show_rug=False)\n",
    "#\n",
    "# Add title\n",
    "#fig['layout'].update(title='Upload speed: distribution for all devices')\n",
    "#iplot(fig)"
   ]
  },
  {
   "cell_type": "code",
   "execution_count": null,
   "metadata": {},
   "outputs": [],
   "source": [
    "summary_upload_download=summary_upload.join(summary_download, how='outer')\n",
    "summary_upload_download=summary_upload_download.sort_values(by=['Download speeds less than 50  Mbps  (%)','Upload speeds less than 10  Mbps  (%)'], ascending=[False, False])\n",
    "summary_upload_download[['Upload speeds less than 10  Mbps  (%)','Download speeds less than 50  Mbps  (%)']]"
   ]
  },
  {
   "cell_type": "markdown",
   "metadata": {},
   "source": [
    "Combining datasets for unpload and download speeds together show that devices 5, 10, 16, 12, 18 and 7 have the majority of dataponts below CRTC targets for both upload and download speeds.  \n",
    "\n",
    "Devices 15, 17, 9, 11 meet the CRTC target for upload speed but do not hit the 50Mbps for download speed.  \n",
    "Device #14 has only 32% of data below CRTC target for download (but with high fluctuation as we have seen before).  \n",
    "And device #8 is the only device that consistently meets the upload/download speeds targets."
   ]
  },
  {
   "cell_type": "markdown",
   "metadata": {},
   "source": [
    "Let's add latitude and longitude of the 8 devices that we have coordinates for and display them on a map:"
   ]
  },
  {
   "cell_type": "code",
   "execution_count": null,
   "metadata": {},
   "outputs": [],
   "source": [
    "coordinates_df.set_index('device_number', inplace=True)\n",
    "summary_ud_loc=summary_upload_download.join(coordinates_df, how='inner')\n",
    "summary_ud_loc[['Upload speeds less than 10  Mbps  (%)','Download speeds less than 50  Mbps  (%)','lat','lon']]"
   ]
  },
  {
   "cell_type": "code",
   "execution_count": null,
   "metadata": {},
   "outputs": [],
   "source": [
    "summary_ud_loc['text1'] = summary_ud_loc.index.astype(str)+'.'+summary_ud_loc['name'] +': Average download speed '+\\\n",
    "                          summary_ud_loc['download_mean'].astype(str) + 'Mbps , standart deviaton: '+\\\n",
    "                          summary_ud_loc['download_std'].astype(str)\n",
    "data = [ dict(\n",
    "        type = 'scattergeo',\n",
    "        locationmode = 'north america',\n",
    "        lon = summary_ud_loc['lon'],\n",
    "        lat = summary_ud_loc['lat'],\n",
    "        text = summary_ud_loc['text1'],\n",
    "        mode = 'markers',\n",
    "        marker = dict(\n",
    "            size = 15,\n",
    "            opacity = 0.8,\n",
    "            reversescale = True,\n",
    "            autocolorscale = False,\n",
    "            symbol = 'circle',\n",
    "            line = dict(\n",
    "                width=1,\n",
    "                color='rgba(102, 102, 102)'\n",
    "            ),\n",
    "            colorscale='Jet',\n",
    "            #colorscale = scl,\n",
    "            cmin = 0,\n",
    "            color = summary_ud_loc['download_mean'],\n",
    "            cmax = summary_ud_loc['download_mean'].max(),\n",
    "            colorbar=dict(\n",
    "               # title=\"Percentage of download speed data below 50Mbs\"\n",
    "            )\n",
    "        ))]\n",
    "\n",
    "layout = dict(\n",
    "        title = 'Devices colored by average download speed',\n",
    "        colorbar = True,\n",
    "        geo = dict(\n",
    "            scope = 'north america',\n",
    "            showland = True,\n",
    "            landcolor = \"rgb(212, 212, 212)\",\n",
    "            countrycolor = \"rgb(255, 255, 255)\",\n",
    "            showlakes = True,\n",
    "            lakecolor = \"rgb(255, 255, 255)\",\n",
    "            showsubunits = True,\n",
    "            showcountries = True,\n",
    "            resolution = 50,\n",
    "            projection = dict(\n",
    "                type = 'kavrayskiy7',\n",
    "            ),\n",
    "             lonaxis = dict(\n",
    "                gridwidth = 2,\n",
    "                range= [ -110, -80 ],\n",
    "                dtick = 10\n",
    "            ),\n",
    "            lataxis = dict (\n",
    "                range= [ 47.0, 60.0 ],\n",
    "                dtick = 10\n",
    "            )\n",
    "        ),\n",
    "    )\n",
    "\n",
    "fig = dict( data=data, layout=layout )\n",
    "iplot( fig, validate=False)"
   ]
  },
  {
   "cell_type": "markdown",
   "metadata": {},
   "source": [
    "On this map we have devices colored by average downlod speed: green and blue colours represent average speeds at or above the CRTC target of 50 Mbps. \n",
    "Most of the devices have speeds below or around 30Mbps - the are colored orange to red.\n",
    "Device #14 - Dacota Plains  - has an average dowload speed of 108Mbps but a standart deviation of 56 which indicates that the data varies a lot.\n"
   ]
  },
  {
   "cell_type": "code",
   "execution_count": null,
   "metadata": {},
   "outputs": [],
   "source": [
    "summary_ud_loc['text'] = summary_ud_loc.index.astype(str)+'.'+summary_ud_loc['name'] +': Download speed: '+\\\n",
    "                         summary_ud_loc['Download speeds less than 50  Mbps  (%)'].astype(str)+\\\n",
    "                        '% of the data is below 50Mbps'\n",
    "data = [ dict(\n",
    "        type = 'scattergeo',\n",
    "        locationmode = 'north america',\n",
    "        lon = summary_ud_loc['lon'],\n",
    "        lat = summary_ud_loc['lat'],\n",
    "        text = summary_ud_loc['text'],\n",
    "        mode = 'markers',\n",
    "        marker = dict(\n",
    "            size = 15,\n",
    "            opacity = 0.8,\n",
    "            reversescale = True,\n",
    "            autocolorscale = False,\n",
    "            symbol = 'circle',\n",
    "            line = dict(\n",
    "                width=1,\n",
    "                color='rgba(102, 102, 102)'\n",
    "            ),\n",
    "            colorscale='Greens',\n",
    "            #colorscale = scl,\n",
    "            cmin = 0,\n",
    "            color = summary_ud_loc['Download speeds less than 50  Mbps  (%)'],\n",
    "            cmax = summary_ud_loc['Download speeds less than 50  Mbps  (%)'].max(),\n",
    "            colorbar=dict(\n",
    "               # title=\"Percentage of download speed data below 50Mbs\"\n",
    "            )\n",
    "        ))]\n",
    "\n",
    "layout = dict(\n",
    "        title = 'Devices colored by percentage of download speed data less than 50  Mbps',\n",
    "        colorbar = True,\n",
    "        geo = dict(\n",
    "            scope = 'north america',\n",
    "            showland = True,\n",
    "            landcolor = \"rgb(212, 212, 212)\",\n",
    "            countrycolor = \"rgb(255, 255, 255)\",\n",
    "            showlakes = True,\n",
    "            lakecolor = \"rgb(255, 255, 255)\",\n",
    "            showsubunits = True,\n",
    "            showcountries = True,\n",
    "            resolution = 50,\n",
    "            projection = dict(\n",
    "                type = 'kavrayskiy7',\n",
    "            ),\n",
    "              lonaxis = dict(\n",
    "                gridwidth = 2,\n",
    "                range= [ -110, -80 ],\n",
    "                dtick = 10\n",
    "            ),\n",
    "            lataxis = dict (\n",
    "                range= [ 47.0, 60.0 ],\n",
    "                dtick = 10\n",
    "            )\n",
    "        ),\n",
    "    )\n",
    "\n",
    "fig = dict( data=data, layout=layout )\n",
    "iplot( fig, validate=False)"
   ]
  },
  {
   "cell_type": "markdown",
   "metadata": {},
   "source": [
    "On this map we have devices colored by percentage of datapoints below 50Mbps. Most of the devices are dark green: 100% of the data is below the target. The light green is again device #14 with 32% of data below 50Mbps."
   ]
  },
  {
   "cell_type": "markdown",
   "metadata": {},
   "source": [
    "These results can be compared with the map listed on CRTC web site: \"Areas to Enhance Broadband Access\" (https://crtc.gc.ca/eng/internet/band.htm).\n",
    "All the 8 devices that we have on our map listed as \"underserved\" on the CRTC map as well."
   ]
  },
  {
   "cell_type": "markdown",
   "metadata": {},
   "source": [
    "![](images/manitoba_crtc.png)"
   ]
  },
  {
   "cell_type": "markdown",
   "metadata": {
    "collapsed": true
   },
   "source": [
    "### Ping latency"
   ]
  },
  {
   "cell_type": "markdown",
   "metadata": {},
   "source": [
    "Let's check ping latency for all the devices grouped by hour. \n",
    "For the plot below - we have used data coming from collectd. This data is coming every 5 seconds (compared to the speedtest data, which comes in every 3hours and 42 mins) - so there are much more datapoints in the database."
   ]
  },
  {
   "cell_type": "code",
   "execution_count": null,
   "metadata": {},
   "outputs": [],
   "source": [
    "#device_numbers=get_tag_values_influxdb(client_influx=client,table_name='PING', tag_name='SK_PI')\n",
    "#device_numbers=list(map(int, device_numbers))\n",
    "#device_numbers= sorted(device_numbers)\n",
    "#ping_mean_query = \"SELECT MAX(PING),MEAN(PING), MEDIAN(PING) FROM PING WHERE PING!=0\"+ query_tail+\" GROUP BY time(1h), SK_PI;\""
   ]
  },
  {
   "cell_type": "code",
   "execution_count": null,
   "metadata": {},
   "outputs": [],
   "source": [
    "#ping_df=get_3_stats_influxdb(client_influx=client,\n",
    "#                                           query_influx=ping_mean_query,\n",
    "#                                           stat_name1='max',\n",
    "#                                           stat_name2='mean',\n",
    "#                                           stat_name3='median',\n",
    "#                                           device_numbers=device_numbers)\n",
    "#ping_df=ping_df[ping_df[\"SK_PI\"]!=3]"
   ]
  },
  {
   "cell_type": "code",
   "execution_count": null,
   "metadata": {},
   "outputs": [],
   "source": [
    "#device_numbers_p=ping_df['SK_PI'].unique()\n",
    "#device_numbers_p=list(map(int, device_numbers_p))\n",
    "#device_numbers_p= sorted(device_numbers_p)"
   ]
  },
  {
   "cell_type": "code",
   "execution_count": null,
   "metadata": {},
   "outputs": [],
   "source": [
    "#ping_df[\"hour\"]=pd.to_numeric(ping_df[\"time\"].dt.hour)"
   ]
  },
  {
   "cell_type": "code",
   "execution_count": null,
   "metadata": {},
   "outputs": [],
   "source": [
    "#t=\"Ping latency(collectd) by hour\"+title_tail\n",
    "#simple_boxplot(dataframe=ping_df,plot_value='mean',sort_value='hour',\n",
    "#               title=t,\n",
    "#               ytitle=\"Miliseconds\",\n",
    "#               xtitle=\"Hour of the day\")"
   ]
  },
  {
   "cell_type": "markdown",
   "metadata": {},
   "source": [
    "On this plot we can see a clear spike in latencies during business hours (8am to 4pm) and a down time during the night (12am to 7am)."
   ]
  },
  {
   "cell_type": "code",
   "execution_count": null,
   "metadata": {},
   "outputs": [],
   "source": [
    "#ping_df[\"weekday\"]=ping_df[\"time\"].dt.weekday_name\n",
    "#ping_df[\"weekday\"] = pd.Categorical(ping_df[\"weekday\"], [\"Monday\", \"Tuesday\", \"Wednesday\", \"Thursday\", \"Friday\", \"Saturday\", \"Sunday\"])"
   ]
  },
  {
   "cell_type": "code",
   "execution_count": null,
   "metadata": {},
   "outputs": [],
   "source": [
    "#t=\"Ping latency(collectd) by day of the week\"+title_tail\n",
    "#simple_boxplot(dataframe=ping_df,plot_value='mean',sort_value='weekday',\n",
    "#               title=t,\n",
    "#               ytitle=\"Miliseconds\", weekdays=True)"
   ]
  },
  {
   "cell_type": "markdown",
   "metadata": {},
   "source": [
    "If we check by day of the week - Saturday and Sunday show lower latencies than business days.   \n",
    "And the same is summarized on the plot below:"
   ]
  },
  {
   "cell_type": "code",
   "execution_count": null,
   "metadata": {},
   "outputs": [],
   "source": [
    "#ping_df[\"day_group\"]=\"Weekday\"\n",
    "#ping_df.loc[(ping_df[\"weekday\"]==\"Sunday\")|(ping_df[\"weekday\"]==\"Saturday\"),\"day_group\"]=\"Weekend\""
   ]
  },
  {
   "cell_type": "code",
   "execution_count": null,
   "metadata": {},
   "outputs": [],
   "source": [
    "#t=\"Ping latency(collectd) by day group\"+title_tail\n",
    "#simple_boxplot(dataframe=ping_df,plot_value='mean',sort_value='day_group',\n",
    "#               title=t,\n",
    "#               ytitle=\"Miliseconds\")"
   ]
  },
  {
   "cell_type": "markdown",
   "metadata": {},
   "source": [
    "Cheking ping latencies for device #7 that we have examined before we can see the same trend - night time and early morning have the lowest latencies:"
   ]
  },
  {
   "cell_type": "code",
   "execution_count": null,
   "metadata": {},
   "outputs": [],
   "source": [
    "#by_hour_by_device_p1=mean_max_median_by2(input_dataframe=ping_df,value1=\"mean\", value2=\"max\",\n",
    "#                                          value3=\"median\",group_by_value=\"hour\")\n",
    "#device_number=7\n",
    "#subset=by_hour_by_device_p1[by_hour_by_device_p1[\"SK_PI\"]==device_number]\n",
    "#t=\"Ping latency(collectd) by hour for the device \"+str(device_number)+title_tail\n",
    "#combined_bar_plot_3traces(xvalues=subset[\"hour\"],\n",
    "#                         yvalues1=subset[\"max\"],\n",
    "#                         yvalues2=subset[\"mean\"],\n",
    "#                         yvalues3=subset[\"median\"],\n",
    "#                         name1=\"Max\",\n",
    "#                         name2=\"Mean\",\n",
    "#                         name3=\"Median\",\n",
    "#                         title=t,\n",
    "#                         xtitle=\"hour\",\n",
    "#                         stack=False)#,updatemenus=updatemenus1, annotations=annotations1)"
   ]
  },
  {
   "cell_type": "code",
   "execution_count": null,
   "metadata": {},
   "outputs": [],
   "source": [
    "query_ping = \"SELECT * FROM SPEEDTEST_IPERF_PING WHERE PROVIDER!='iperf' AND PING!=0\"+ query_tail+\";\"\n",
    "ping_speedtest_dataframe = get_dataframe_from_influxdb(client_df=client_df,\n",
    "                                                       query_influx=query_ping,\n",
    "                                                       table_name='SPEEDTEST_IPERF_PING')\n",
    "ping_speedtest_dataframe=ping_speedtest_dataframe[ping_speedtest_dataframe[\"SK_PI\"]!=3]"
   ]
  },
  {
   "cell_type": "code",
   "execution_count": null,
   "metadata": {},
   "outputs": [],
   "source": [
    "ping_speedtest_dataframe[\"hour\"]=pd.to_numeric(ping_speedtest_dataframe[\"time\"].dt.hour)"
   ]
  },
  {
   "cell_type": "code",
   "execution_count": null,
   "metadata": {},
   "outputs": [],
   "source": [
    "by_hour_by_device_p2=mean_max_median_by2(input_dataframe=ping_speedtest_dataframe,value1=\"PING\", value2=\"PING\",\n",
    "                                          value3=\"PING\",group_by_value=\"hour\", rename_columns=True)"
   ]
  },
  {
   "cell_type": "code",
   "execution_count": null,
   "metadata": {},
   "outputs": [],
   "source": [
    "device_number=14\n",
    "subset=by_hour_by_device_p2[by_hour_by_device_p2[\"SK_PI\"]==device_number]\n",
    "t=\"Ping latency(speedtest) by hour for the device \"+str(device_number)+title_tail\n",
    "combined_bar_plot_3traces(xvalues=subset[\"hour\"],\n",
    "                         yvalues1=subset[\"max\"],\n",
    "                         yvalues2=subset[\"mean\"],\n",
    "                         yvalues3=subset[\"median\"],\n",
    "                         name1=\"Max\",\n",
    "                         name2=\"Mean\",\n",
    "                         name3=\"Median\",\n",
    "                         title=t,\n",
    "                         xtitle=\"hour\",\n",
    "                         stack=False)"
   ]
  },
  {
   "cell_type": "markdown",
   "metadata": {
    "collapsed": true
   },
   "source": [
    "Device #14 does not have any collectd data as data acquisition stopped (most likely due to an error). In this case, we are checking ping latency coming from speedtest. Here we don't notice any obvious trends, except for a spike at 6am, all data looks quite even."
   ]
  },
  {
   "cell_type": "markdown",
   "metadata": {},
   "source": [
    "## Next steps\n",
    "\n",
    "For next steps, we will focus the analysis on solifidying the conclusions that can be drawn from the data. That is, we will set up statistical tests to help determine whether speeds observed are significantly different from the targets set by the CRTC. We will also examine the iperf test data - another testing tool that has not been analyzed yet. "
   ]
  },
  {
   "cell_type": "code",
   "execution_count": null,
   "metadata": {},
   "outputs": [],
   "source": []
  }
 ],
 "metadata": {
  "kernelspec": {
   "display_name": "Python 3",
   "language": "python",
   "name": "python3"
  },
  "language_info": {
   "codemirror_mode": {
    "name": "ipython",
    "version": 3
   },
   "file_extension": ".py",
   "mimetype": "text/x-python",
   "name": "python",
   "nbconvert_exporter": "python",
   "pygments_lexer": "ipython3",
   "version": "3.6.9"
  },
  "nbTranslate": {
   "displayLangs": [
    "*"
   ],
   "hotkey": "alt-t",
   "langInMainMenu": true,
   "sourceLang": "en",
   "targetLang": "fr",
   "useGoogleTranslate": true
  }
 },
 "nbformat": 4,
 "nbformat_minor": 2
}
