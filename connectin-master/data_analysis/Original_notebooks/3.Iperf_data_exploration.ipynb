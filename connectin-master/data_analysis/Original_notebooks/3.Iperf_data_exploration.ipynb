{
 "cells": [
  {
   "cell_type": "markdown",
   "metadata": {},
   "source": [
    "# Iperf data exploration"
   ]
  },
  {
   "cell_type": "markdown",
   "metadata": {},
   "source": [
    "## How data is  collected\n",
    "Iperf data is collected by running iperf3 test with test server **clearskystatus.info**\n",
    "\n",
    "**Commands**:  \n",
    "Bandwidth test:\n",
    ">/usr/bin/iperf3 -c clearskystatus.info\n",
    "\n",
    "Reverse bandwidth test(server sends data to the client):\n",
    ">/usr/bin/iperf3 -c clearskystatus.info -R"
   ]
  },
  {
   "cell_type": "markdown",
   "metadata": {},
   "source": [
    "Data being collected:\n",
    " - **Ping latency** \n",
    " - **Upload speed**\n",
    " - **Download speed**"
   ]
  },
  {
   "cell_type": "markdown",
   "metadata": {},
   "source": [
    "## How data looks like"
   ]
  },
  {
   "cell_type": "code",
   "execution_count": null,
   "metadata": {},
   "outputs": [],
   "source": [
    "from data_exploration import *\n",
    "import numpy as np"
   ]
  },
  {
   "cell_type": "code",
   "execution_count": null,
   "metadata": {},
   "outputs": [],
   "source": [
    "#Set up starting point, by default if will start from current time\n",
    "starting_point=datetime.now().strftime('%Y-%m-%d %H:%M:%S')\n",
    "#starting point=\"2019-01-10 14:00:00\"  # to set upl alternative starting point\n",
    "print(\"Starting point:\",starting_point )\n",
    "\n",
    "title_tail=\" to the date \"+ starting_point"
   ]
  },
  {
   "cell_type": "code",
   "execution_count": null,
   "metadata": {},
   "outputs": [],
   "source": [
    "time_interval='4w' #5d"
   ]
  },
  {
   "cell_type": "markdown",
   "metadata": {},
   "source": [
    "Set up influxdb connection:"
   ]
  },
  {
   "cell_type": "code",
   "execution_count": null,
   "metadata": {},
   "outputs": [],
   "source": [
    "client, client_df = connect_to_influxdb()"
   ]
  },
  {
   "cell_type": "code",
   "execution_count": null,
   "metadata": {},
   "outputs": [],
   "source": [
    "query1 = \"SELECT * FROM SPEEDTEST_IPERF_UPLOAD WHERE PROVIDER='iperf' ORDER BY time DESC LIMIT 10;\"\n",
    "df1 = get_dataframe_from_influxdb(client_df=client_df,query_influx=query1,table_name='SPEEDTEST_IPERF_UPLOAD')\n",
    "df1"
   ]
  },
  {
   "cell_type": "markdown",
   "metadata": {},
   "source": [
    "Let's take just one device, for example 4:"
   ]
  },
  {
   "cell_type": "code",
   "execution_count": null,
   "metadata": {},
   "outputs": [],
   "source": [
    "query1 = \"SELECT * FROM SPEEDTEST_IPERF_UPLOAD WHERE PROVIDER='iperf' AND SK_PI='4' ORDER BY time DESC LIMIT 10;\"\n",
    "df1 = get_dataframe_from_influxdb(client_df=client_df,query_influx=query1,table_name='SPEEDTEST_IPERF_UPLOAD')\n",
    "df1"
   ]
  },
  {
   "cell_type": "markdown",
   "metadata": {},
   "source": [
    "Checking upload speed coming for the same device from speedtest:"
   ]
  },
  {
   "cell_type": "code",
   "execution_count": null,
   "metadata": {},
   "outputs": [],
   "source": [
    "query1 = \"SELECT * FROM SPEEDTEST_IPERF_UPLOAD WHERE PROVIDER!='iperf' AND SK_PI='4' ORDER BY time DESC LIMIT 10;\"\n",
    "df1 = get_dataframe_from_influxdb(client_df=client_df,query_influx=query1,table_name='SPEEDTEST_IPERF_UPLOAD')\n",
    "df1"
   ]
  },
  {
   "cell_type": "markdown",
   "metadata": {},
   "source": [
    "Looks like iperf is collecting data in Kbps vs Speedtest is collecting data in Mbps.\n",
    "Kbps can be converted to Mbps by multiplying by 0.001"
   ]
  },
  {
   "cell_type": "markdown",
   "metadata": {},
   "source": [
    "Checking download speed and ping latency coming from the same device:"
   ]
  },
  {
   "cell_type": "code",
   "execution_count": null,
   "metadata": {},
   "outputs": [],
   "source": [
    "query2 = \"SELECT * FROM SPEEDTEST_IPERF_DOWNLOAD WHERE PROVIDER='iperf' AND SK_PI='4' ORDER BY time DESC LIMIT 10;\"\n",
    "df2 = get_dataframe_from_influxdb(client_df=client_df,query_influx=query2,table_name='SPEEDTEST_IPERF_DOWNLOAD')\n",
    "df2"
   ]
  },
  {
   "cell_type": "code",
   "execution_count": null,
   "metadata": {},
   "outputs": [],
   "source": [
    "query3 = \"SELECT * FROM SPEEDTEST_IPERF_PING WHERE PROVIDER='iperf' AND SK_PI='4' ORDER BY time DESC LIMIT 10;\"\n",
    "df3 = get_dataframe_from_influxdb(client_df=client_df,query_influx=query3,table_name='SPEEDTEST_IPERF_PING')\n",
    "df3"
   ]
  },
  {
   "cell_type": "markdown",
   "metadata": {},
   "source": [
    "Comparing with ping latency coming from speedtest:"
   ]
  },
  {
   "cell_type": "code",
   "execution_count": null,
   "metadata": {},
   "outputs": [],
   "source": [
    "query3 = \"SELECT * FROM SPEEDTEST_IPERF_PING WHERE PROVIDER!='iperf' AND SK_PI='4' ORDER BY time DESC LIMIT 10;\"\n",
    "df3 = get_dataframe_from_influxdb(client_df=client_df,query_influx=query3,table_name='SPEEDTEST_IPERF_PING')\n",
    "df3"
   ]
  },
  {
   "cell_type": "markdown",
   "metadata": {},
   "source": [
    "Latencies are slightly different but not much, looks like units are the same - Miliseconds."
   ]
  },
  {
   "cell_type": "markdown",
   "metadata": {},
   "source": [
    "Let's compare with what we have in MS SQL database:"
   ]
  },
  {
   "cell_type": "code",
   "execution_count": null,
   "metadata": {},
   "outputs": [],
   "source": [
    "cnxn = connect_to_mssql()\n",
    "sql = \"SELECT TOP 10 * FROM FCT_SPEEDTEST WHERE PROVIDER='iperf' AND SK_PI='4' ORDER BY DATA_DATE DESC;\"\n",
    "pd.read_sql(sql,cnxn)"
   ]
  },
  {
   "cell_type": "markdown",
   "metadata": {},
   "source": [
    "Are there any zeros or NaNs?"
   ]
  },
  {
   "cell_type": "code",
   "execution_count": null,
   "metadata": {},
   "outputs": [],
   "source": [
    "sql = \"SELECT  * FROM FCT_SPEEDTEST WHERE PROVIDER='iperf' AND (UPLOAD=0 OR DOWNLOAD=0 OR PING=0) ORDER BY DATA_DATE DESC;\"\n",
    "pd.read_sql(sql,cnxn)"
   ]
  },
  {
   "cell_type": "code",
   "execution_count": null,
   "metadata": {},
   "outputs": [],
   "source": [
    "sql = \"SELECT  * FROM FCT_SPEEDTEST WHERE PROVIDER='iperf' AND (UPLOAD IS NULL OR DOWNLOAD IS NULL OR PING IS NULL) ORDER BY DATA_DATE DESC;\"\n",
    "pd.read_sql(sql,cnxn)"
   ]
  },
  {
   "cell_type": "markdown",
   "metadata": {},
   "source": [
    "No zeros and no NaNs"
   ]
  },
  {
   "cell_type": "markdown",
   "metadata": {},
   "source": [
    "## Number of datapoints per device"
   ]
  },
  {
   "cell_type": "code",
   "execution_count": null,
   "metadata": {},
   "outputs": [],
   "source": [
    "device_numbers=get_tag_values_influxdb(client_influx=client,table_name='SPEEDTEST_IPERF_DOWNLOAD', tag_name='SK_PI')\n",
    "device_numbers=list(map(int, device_numbers))\n",
    "device_numbers= sorted(device_numbers)\n",
    "print(device_numbers)"
   ]
  },
  {
   "cell_type": "markdown",
   "metadata": {},
   "source": [
    "Getting number of data points per device for the entire period of time."
   ]
  },
  {
   "cell_type": "code",
   "execution_count": null,
   "metadata": {},
   "outputs": [],
   "source": [
    "query_download_counts = \"SELECT COUNT(DOWNLOAD) FROM SPEEDTEST_IPERF_DOWNLOAD WHERE PROVIDER='iperf' AND time<= '\"+starting_point+\"' AND DOWNLOAD>0 GROUP BY SK_PI;\"\n",
    "download_counts=get_stats_influxdb(client_influx=client,\n",
    "                               query_influx=query_download_counts,\n",
    "                               stat_name='count',\n",
    "                               device_numbers=device_numbers)"
   ]
  },
  {
   "cell_type": "code",
   "execution_count": null,
   "metadata": {},
   "outputs": [],
   "source": [
    "simple_bar_plot(xvalues=device_numbers,\n",
    "                yvalues=download_counts,\n",
    "                name=\"ping datapoints\",\n",
    "                title=\"Number of data points per device \"+ title_tail,\n",
    "                ytitle=\"Number of datapoints\")"
   ]
  },
  {
   "cell_type": "markdown",
   "metadata": {},
   "source": [
    "Some of the devices have small number of datapoints, may be they are just installed? Lets check how many dataponts came in last 4 weeks."
   ]
  },
  {
   "cell_type": "markdown",
   "metadata": {},
   "source": [
    "Getting number of datapoints per device in last 4 weeks."
   ]
  },
  {
   "cell_type": "code",
   "execution_count": null,
   "metadata": {},
   "outputs": [],
   "source": [
    "query_download_counts_time = \"SELECT COUNT(DOWNLOAD) FROM SPEEDTEST_IPERF_DOWNLOAD WHERE time >= '\"+starting_point+\"'-\"+time_interval+\" AND PROVIDER='iperf' AND DOWNLOAD>0 GROUP BY SK_PI ;\"\n",
    "download_counts_time = get_stats_influxdb(client_influx=client,\n",
    "                                      query_influx=query_download_counts_time,\n",
    "                                      stat_name='count',\n",
    "                                      device_numbers=device_numbers)"
   ]
  },
  {
   "cell_type": "markdown",
   "metadata": {},
   "source": [
    "Plotting combined barchart - entire number of datapoints vs number of datapoints in last 4 weeks."
   ]
  },
  {
   "cell_type": "code",
   "execution_count": null,
   "metadata": {},
   "outputs": [],
   "source": [
    "combined_bar_plot_2traces(xvalues=device_numbers,\n",
    "                          yvalues1=download_counts_time,\n",
    "                          yvalues2=[a - b for a, b in zip(download_counts, download_counts_time)],\n",
    "                          name1='Last '+time_interval,\n",
    "                          name2='The rest of the time',\n",
    "                          title=\"Comparing number of datapoints in last \"+time_interval+\" vs entire time \"+ title_tail,\n",
    "                          ytitle=\"Number of datapoints\")"
   ]
  },
  {
   "cell_type": "markdown",
   "metadata": {},
   "source": [
    "There are no datapoints in the last 4 weeks. Let's check last reporting time for every device."
   ]
  },
  {
   "cell_type": "code",
   "execution_count": null,
   "metadata": {},
   "outputs": [],
   "source": [
    "query_upload_last = \"SELECT LAST(UPLOAD), time FROM SPEEDTEST_IPERF_UPLOAD WHERE PROVIDER='iperf' AND time <= '\"+starting_point+\"' AND UPLOAD>0 GROUP BY SK_PI;\"\n",
    "result_upload_last=get_stats_influxdb(client_influx=client,\n",
    "                               query_influx=query_upload_last,\n",
    "                               stat_name='time',\n",
    "                               device_numbers=device_numbers)"
   ]
  },
  {
   "cell_type": "code",
   "execution_count": null,
   "metadata": {},
   "outputs": [],
   "source": [
    "query_upload_first = \"SELECT FIRST(UPLOAD), time FROM SPEEDTEST_IPERF_UPLOAD WHERE PROVIDER='iperf' AND time <= '\"+starting_point+\"' AND UPLOAD>0 GROUP BY SK_PI;\"\n",
    "result_upload_first=get_stats_influxdb(client_influx=client,\n",
    "                               query_influx=query_upload_first,\n",
    "                               stat_name='time',\n",
    "                               device_numbers=device_numbers)"
   ]
  },
  {
   "cell_type": "code",
   "execution_count": null,
   "metadata": {},
   "outputs": [],
   "source": [
    "#print(\"Iperf reporting times:\")\n",
    "data=[]\n",
    "for i in range(len(device_numbers)):\n",
    "    try:\n",
    "        result_upload_first[i] = dateutil.parser.parse(result_upload_first[i]).strftime('%Y-%m-%d %H:%M:%S')\n",
    "    except:\n",
    "        result_upload_first[i]=None\n",
    "    try:    \n",
    "        result_upload_last[i] = dateutil.parser.parse(result_upload_last[i]).strftime('%Y-%m-%d %H:%M:%S')\n",
    "    except:\n",
    "        result_upload_last[i]=None\n",
    "    #print(\"Device: \", device_numbers[i],\"  was reporting from \", result_upload_first[i], \" to \",result_upload_last[i])\n",
    "    trace = go.Scatter(x=[result_upload_first[i],result_upload_last[i]],y=[device_numbers[i],device_numbers[i]], \n",
    "                       name = device_numbers[i],marker=dict(color=colors[i]))\n",
    "    data.append(trace)\n",
    "layout = dict(title = \"Device reporting times(iperf) \"+ title_tail,xaxis=dict(title=\"Time\"),\n",
    "        yaxis=dict(title=\"Device Number\"))\n",
    "fig = go.Figure(data=data, layout=layout)\n",
    "iplot(fig)"
   ]
  },
  {
   "cell_type": "markdown",
   "metadata": {},
   "source": [
    "Looks like iperf3 stopped listening on the test server on Dec3.  \n",
    "Able to ping `clearskystatus.info` but all iperf3 test failing:\n",
    "   >/usr/bin/iperf3 -c clearskystatus.info  \n",
    "   >iperf3: error - unable to connect to server: Operation timed out"
   ]
  },
  {
   "cell_type": "markdown",
   "metadata": {},
   "source": [
    "## How often data was collected"
   ]
  },
  {
   "cell_type": "markdown",
   "metadata": {},
   "source": [
    "Lets check devices 2 and 4 and see how often data was collected:"
   ]
  },
  {
   "cell_type": "code",
   "execution_count": null,
   "metadata": {},
   "outputs": [],
   "source": [
    "query2 = \"SELECT * FROM SPEEDTEST_IPERF_DOWNLOAD WHERE PROVIDER='iperf' AND SK_PI='4' ORDER BY time DESC LIMIT 10;\"\n",
    "df2 = get_dataframe_from_influxdb(client_df=client_df,query_influx=query2,table_name='SPEEDTEST_IPERF_DOWNLOAD')\n",
    "df2"
   ]
  },
  {
   "cell_type": "code",
   "execution_count": null,
   "metadata": {},
   "outputs": [],
   "source": [
    "query2 = \"SELECT * FROM SPEEDTEST_IPERF_DOWNLOAD WHERE PROVIDER='iperf' AND SK_PI='4' ORDER BY time DESC LIMIT 10;\"\n",
    "df2 = get_dataframe_from_influxdb(client_df=client_df,query_influx=query2,table_name='SPEEDTEST_IPERF_DOWNLOAD')\n",
    "df2"
   ]
  },
  {
   "cell_type": "markdown",
   "metadata": {},
   "source": [
    "Just by observing the data there is no consistency. \n",
    "Let's calculate the time intervals for all available datapoints for today for devices 2 and 4."
   ]
  },
  {
   "cell_type": "code",
   "execution_count": null,
   "metadata": {},
   "outputs": [],
   "source": [
    "query_device4 = \"SELECT * FROM SPEEDTEST_IPERF_DOWNLOAD WHERE PROVIDER='iperf' AND SK_PI='4' AND time<= '\"+starting_point+\"';\"\n",
    "df_device4 = get_dataframe_from_influxdb(client_df=client_df,query_influx=query_device4,table_name='SPEEDTEST_IPERF_DOWNLOAD')\n",
    "df_device4.head()"
   ]
  },
  {
   "cell_type": "code",
   "execution_count": null,
   "metadata": {},
   "outputs": [],
   "source": [
    "df_device4['interval'] = df_device4['time'] - df_device4['time'].shift(+1)\n",
    "df_device4['interval']=round(df_device4['interval'].dt.total_seconds() / 60)"
   ]
  },
  {
   "cell_type": "code",
   "execution_count": null,
   "metadata": {},
   "outputs": [],
   "source": [
    "df_device4 = df_device4[np.isfinite(df_device4['interval'])]\n",
    "df_device4.head()"
   ]
  },
  {
   "cell_type": "code",
   "execution_count": null,
   "metadata": {},
   "outputs": [],
   "source": [
    "time_intervals=df_device4['interval'].unique()\n",
    "time_intervals= sorted(time_intervals)\n",
    "print(\"Time intervals for device 4: \",time_intervals)"
   ]
  },
  {
   "cell_type": "code",
   "execution_count": null,
   "metadata": {},
   "outputs": [],
   "source": [
    "print(\"Frequencies for every time interval for device4:\")\n",
    "df_device4.groupby(['interval']).size()"
   ]
  },
  {
   "cell_type": "code",
   "execution_count": null,
   "metadata": {},
   "outputs": [],
   "source": [
    "query_device2 = \"SELECT * FROM SPEEDTEST_IPERF_DOWNLOAD WHERE PROVIDER='iperf' AND SK_PI='2' AND time<= '\"+starting_point+\"';\"\n",
    "df_device2 = get_dataframe_from_influxdb(client_df=client_df,query_influx=query_device2,table_name='SPEEDTEST_IPERF_DOWNLOAD')\n",
    "df_device2['interval'] = df_device2['time'] - df_device2['time'].shift(+1)\n",
    "df_device2['interval']=round(df_device2['interval'].dt.total_seconds() / 60)\n",
    "df_device2 = df_device2[np.isfinite(df_device2['interval'])]\n",
    "print(\"Frequencies for every time interval for device2:\")\n",
    "df_device2.groupby(['interval']).size()"
   ]
  },
  {
   "cell_type": "code",
   "execution_count": null,
   "metadata": {},
   "outputs": [],
   "source": [
    "#trace=go.Histogram(x=df_device4['interval'],xbins=dict(size=222))\n",
    "#fig = go.Figure(data=[trace])\n",
    "#fig['layout'].update(title='Download speed histogram per device')\n",
    "#iplot(fig)"
   ]
  },
  {
   "cell_type": "code",
   "execution_count": null,
   "metadata": {},
   "outputs": [],
   "source": [
    "#import plotly.figure_factory as ff\n",
    "#hist_data = [df_device4['interval']]\n",
    "#group_labels = ['device 4 time interval']\n",
    "#fig = ff.create_distplot(hist_data, group_labels,bin_size=60)\n",
    "#fig['layout']['xaxis'].update(title='Download speed (Mbps)')\n",
    "#iplot(fig)"
   ]
  },
  {
   "cell_type": "markdown",
   "metadata": {},
   "source": [
    "Most of data is collected with 222 mins intervals(or 444 or 666) but its not consistent"
   ]
  },
  {
   "cell_type": "markdown",
   "metadata": {},
   "source": [
    "Comparing these intervals with speedtest we can see in grafana that they alternating(not happening at the same time)"
   ]
  },
  {
   "cell_type": "markdown",
   "metadata": {},
   "source": [
    "![](images/grafana_ping2.png)"
   ]
  },
  {
   "cell_type": "markdown",
   "metadata": {},
   "source": [
    "## Statistics by device"
   ]
  },
  {
   "cell_type": "markdown",
   "metadata": {},
   "source": [
    "Since there is not a lot of data - we will select the entire database back from todays date."
   ]
  },
  {
   "cell_type": "code",
   "execution_count": null,
   "metadata": {},
   "outputs": [],
   "source": [
    "query_download = \"SELECT * FROM SPEEDTEST_IPERF_DOWNLOAD WHERE PROVIDER='iperf'AND DOWNLOAD>0 AND time <'\"+starting_point+\"';\"\n",
    "download_df = get_dataframe_from_influxdb(client_df=client_df,query_influx=query_download,\n",
    "                                          table_name='SPEEDTEST_IPERF_DOWNLOAD')\n",
    "download_df['DOWNLOAD']=download_df['DOWNLOAD']*0.001"
   ]
  },
  {
   "cell_type": "code",
   "execution_count": null,
   "metadata": {},
   "outputs": [],
   "source": [
    "query_upload = \"SELECT * FROM SPEEDTEST_IPERF_UPLOAD WHERE PROVIDER='iperf'AND UPLOAD>0 AND time < '\"+starting_point+\"';\"\n",
    "upload_df = get_dataframe_from_influxdb(client_df=client_df,query_influx=query_upload,\n",
    "                                          table_name='SPEEDTEST_IPERF_UPLOAD')\n",
    "upload_df['UPLOAD']=upload_df['UPLOAD']*0.001"
   ]
  },
  {
   "cell_type": "code",
   "execution_count": null,
   "metadata": {},
   "outputs": [],
   "source": [
    "query_ping = \"SELECT * FROM SPEEDTEST_IPERF_PING WHERE PROVIDER='iperf'AND PING>0 AND time < '\"+starting_point+\"';\"\n",
    "ping_df = get_dataframe_from_influxdb(client_df=client_df,query_influx=query_ping,\n",
    "                                          table_name='SPEEDTEST_IPERF_PING')"
   ]
  },
  {
   "cell_type": "code",
   "execution_count": null,
   "metadata": {},
   "outputs": [],
   "source": [
    "download_summary=mean_max_median_min_by1(download_df,'DOWNLOAD')\n",
    "device_numbers_d=download_summary[\"SK_PI\"].unique()\n",
    "download_line=go.Scatter(x=device_numbers_d,y=[50] * len(device_numbers_d), mode='markers',marker=dict(color='red'), name='50Mbps')\n",
    "combined_bar_plot_4traces(xvalues=download_summary[\"SK_PI\"],\n",
    "                         yvalues1=download_summary[\"max\"],\n",
    "                         yvalues2=download_summary[\"mean\"],\n",
    "                         yvalues3=download_summary[\"median\"],\n",
    "                         yvalues4=download_summary[\"min\"],\n",
    "                         name1=\"Max\",\n",
    "                         name2=\"Mean\",\n",
    "                         name3=\"Median\",\n",
    "                         name4=\"Min\",\n",
    "                         title=\"Download speed by device\"+ title_tail,\n",
    "                         ytitle=\"Mbps\",\n",
    "                         line=download_line,\n",
    "                         stack=False)"
   ]
  },
  {
   "cell_type": "code",
   "execution_count": null,
   "metadata": {},
   "outputs": [],
   "source": [
    "upload_summary=mean_max_median_min_by1(upload_df,'UPLOAD')\n",
    "device_numbers_u=upload_summary[\"SK_PI\"].unique()\n",
    "upload_line=go.Scatter(x=device_numbers_u,y=[10] * len(device_numbers_u), mode='markers',marker=dict(color='red'), name='10Mbps')\n",
    "\n",
    "combined_bar_plot_4traces(xvalues=upload_summary[\"SK_PI\"],\n",
    "                         yvalues1=upload_summary[\"max\"],\n",
    "                         yvalues2=upload_summary[\"mean\"],\n",
    "                         yvalues3=upload_summary[\"median\"],\n",
    "                         yvalues4=upload_summary[\"min\"],\n",
    "                         name1=\"Max\",\n",
    "                         name2=\"Mean\",\n",
    "                         name3=\"Median\",\n",
    "                         name4=\"Min\",\n",
    "                         title=\"Upload speed by device\"+ title_tail,\n",
    "                         ytitle=\"Mbps\",\n",
    "                         line=upload_line,\n",
    "                         stack=False)"
   ]
  },
  {
   "cell_type": "code",
   "execution_count": null,
   "metadata": {},
   "outputs": [],
   "source": [
    "ping_summary=mean_max_median_min_by1(ping_df,'PING')\n",
    "combined_bar_plot_4traces(xvalues=ping_summary[\"SK_PI\"],\n",
    "                         yvalues1=ping_summary[\"max\"],\n",
    "                         yvalues2=ping_summary[\"mean\"],\n",
    "                         yvalues3=ping_summary[\"median\"],\n",
    "                         yvalues4=ping_summary[\"min\"],  \n",
    "                         name1=\"Max\",\n",
    "                         name2=\"Mean\",\n",
    "                         name3=\"Median\",\n",
    "                         name4=\"Min\",\n",
    "                         title=\"Ping latency by device back\"+ title_tail,\n",
    "                         ytitle=\"Miliseconds\",\n",
    "                         stack=False)"
   ]
  },
  {
   "cell_type": "code",
   "execution_count": null,
   "metadata": {},
   "outputs": [],
   "source": [
    "simple_boxplot(dataframe=download_df,plot_value='DOWNLOAD',sort_value='SK_PI',\n",
    "               title=\"Download speed by device \"+ title_tail,\n",
    "               ytitle=\"Mbps\", downloadline=True)"
   ]
  },
  {
   "cell_type": "code",
   "execution_count": null,
   "metadata": {},
   "outputs": [],
   "source": [
    "simple_boxplot(dataframe=upload_df,plot_value='UPLOAD',sort_value='SK_PI',\n",
    "               title=\"Upload speed by device \"+ title_tail,\n",
    "               ytitle=\"Mbps\", uploadline=True)"
   ]
  },
  {
   "cell_type": "code",
   "execution_count": null,
   "metadata": {},
   "outputs": [],
   "source": [
    "simple_boxplot(dataframe=ping_df,plot_value='PING',sort_value='SK_PI',\n",
    "               title=\"Ping latency by device \"+ title_tail,\n",
    "               ytitle=\"Miliseconds\")"
   ]
  },
  {
   "cell_type": "markdown",
   "metadata": {},
   "source": [
    "## Statistic by time of the day, day of the week"
   ]
  },
  {
   "cell_type": "markdown",
   "metadata": {},
   "source": [
    "### Download speed"
   ]
  },
  {
   "cell_type": "code",
   "execution_count": null,
   "metadata": {},
   "outputs": [],
   "source": [
    "download_df[\"hour\"]=pd.to_numeric(download_df[\"time\"].dt.hour)"
   ]
  },
  {
   "cell_type": "code",
   "execution_count": null,
   "metadata": {},
   "outputs": [],
   "source": [
    "t=\"Normalized download speed by hour \"+ title_tail\n",
    "traces=[]\n",
    "for device in device_numbers_d:\n",
    "    subset=download_df[download_df[\"SK_PI\"]==device]\n",
    "    trace = go.Scatter(\n",
    "        x = subset['hour'],\n",
    "        y=(subset['DOWNLOAD']-subset['DOWNLOAD'].mean())/subset['DOWNLOAD'].std(),\n",
    "        mode = 'markers',\n",
    "        marker = dict(color=colors[device]),\n",
    "        name = str(device)\n",
    "    )\n",
    "    traces.append(trace)\n",
    "layout = go.Layout(\n",
    "        title=t,\n",
    "        xaxis=dict(title=\"Hour of the day\"),\n",
    "        yaxis=dict(title=\"Difference to normalized speeds (Mbps)\")\n",
    "        )\n",
    "data = traces\n",
    "fig = go.Figure(data=data, layout=layout)\n",
    "iplot(fig)"
   ]
  },
  {
   "cell_type": "code",
   "execution_count": null,
   "metadata": {},
   "outputs": [],
   "source": [
    "device_number=2\n",
    "subset=download_df[download_df[\"SK_PI\"]==device_number]\n",
    "t=\"Download speed by hour for the device \" + str(device_number)+\" \"+ title_tail\n",
    "simple_boxplot(dataframe=subset,plot_value='DOWNLOAD',sort_value='hour',\n",
    "               title=t,\n",
    "               xtitle=\"Hour of the day\", downloadline=True)"
   ]
  },
  {
   "cell_type": "code",
   "execution_count": null,
   "metadata": {},
   "outputs": [],
   "source": [
    "download_df[\"time_group\"]=\"\"\n",
    "download_df.loc[(download_df[\"hour\"]>23)|(download_df[\"hour\"]<=7),\"time_group\"]=\"night 23:00-07:00\"\n",
    "download_df.loc[(download_df[\"hour\"]>7)&(download_df[\"hour\"]<=17),\"time_group\"]=\"day 7:00-17:00\"\n",
    "download_df.loc[(download_df[\"hour\"]>17)&(download_df[\"hour\"]<=23),\"time_group\"]=\"evening 17:00-23:00\""
   ]
  },
  {
   "cell_type": "code",
   "execution_count": null,
   "metadata": {},
   "outputs": [],
   "source": [
    "#subset=download_df[download_df[\"SK_PI\"]==device_number]\n",
    "#t=\"Upload speed by timegroup for the device \"+str(device_number)+title_tail\n",
    "#simple_boxplot(dataframe=subset,plot_value='DOWNLOAD',sort_value='time_group',\n",
    "#               title=t,\n",
    " #              ytitle=\"Mbps\",downloadline=True, jitter=True)"
   ]
  },
  {
   "cell_type": "code",
   "execution_count": null,
   "metadata": {},
   "outputs": [],
   "source": [
    "download_df[\"weekday\"]=download_df[\"time\"].dt.weekday_name\n",
    "download_df[\"weekday\"] = pd.Categorical(download_df[\"weekday\"], [\"Monday\", \"Tuesday\", \"Wednesday\", \"Thursday\", \"Friday\", \"Saturday\", \"Sunday\"])"
   ]
  },
  {
   "cell_type": "code",
   "execution_count": null,
   "metadata": {},
   "outputs": [],
   "source": [
    "device_number=2\n",
    "subset=download_df[download_df[\"SK_PI\"]==device_number]\n",
    "t=\"Download speed by day of the week\"+title_tail\n",
    "simple_boxplot(dataframe=download_df,plot_value='DOWNLOAD',sort_value='weekday',\n",
    "               title=t,\n",
    "               ytitle=\"Mbps\", weekdays=True,jitter=True)"
   ]
  },
  {
   "cell_type": "code",
   "execution_count": null,
   "metadata": {},
   "outputs": [],
   "source": [
    "download_df[\"day_group\"]=\"Weekday\"\n",
    "download_df.loc[(download_df[\"weekday\"]==\"Sunday\")|(download_df[\"weekday\"]==\"Saturday\"),\"day_group\"]=\"Weekend\""
   ]
  },
  {
   "cell_type": "code",
   "execution_count": null,
   "metadata": {},
   "outputs": [],
   "source": [
    "t=\"Download speed by day group\"+title_tail\n",
    "simple_boxplot(dataframe=download_df,plot_value='DOWNLOAD',sort_value='day_group',\n",
    "               title=t,\n",
    "               ytitle=\"Mbps\", jitter=True, downloadline=True)"
   ]
  },
  {
   "cell_type": "markdown",
   "metadata": {},
   "source": [
    "### Upload speed"
   ]
  },
  {
   "cell_type": "code",
   "execution_count": null,
   "metadata": {},
   "outputs": [],
   "source": [
    "upload_df[\"hour\"]=pd.to_numeric(upload_df[\"time\"].dt.hour)"
   ]
  },
  {
   "cell_type": "code",
   "execution_count": null,
   "metadata": {},
   "outputs": [],
   "source": [
    "traces=[]\n",
    "t=\"Normalized upload speed by hour \"+title_tail\n",
    "traces=[]\n",
    "for device in device_numbers_u:\n",
    "    subset=upload_df[upload_df[\"SK_PI\"]==device]\n",
    "    trace = go.Scatter(\n",
    "        x = subset['hour'],\n",
    "        y=(subset['UPLOAD']-subset['UPLOAD'].mean())/subset['UPLOAD'].std(),\n",
    "        mode = 'markers',\n",
    "        marker = dict(color=colors[device]),\n",
    "        name = str(device)\n",
    "    )\n",
    "    traces.append(trace)\n",
    "layout = go.Layout(\n",
    "        title=t,\n",
    "        xaxis=dict(title=\"Hour of the day\"),\n",
    "        yaxis=dict(title=\"Difference to normalized speeds (Mbps)\")\n",
    "        )\n",
    "data = traces\n",
    "fig = go.Figure(data=data, layout=layout)\n",
    "iplot(fig)"
   ]
  },
  {
   "cell_type": "code",
   "execution_count": null,
   "metadata": {},
   "outputs": [],
   "source": [
    "upload_df[\"hour\"]=pd.to_numeric(upload_df[\"time\"].dt.hour)\n",
    "\n",
    "device_number=3\n",
    "subset=upload_df[upload_df[\"SK_PI\"]==device_number]\n",
    "t=\"Upload speed by hour for the device \" + str(device_number)+\" \"+title_tail\n",
    "simple_boxplot(dataframe=subset,plot_value='UPLOAD',sort_value='hour',\n",
    "               title=t,\n",
    "               ytitle=\"Upload speed (Mbps)\",\n",
    "               xtitle=\"Hour of the day\", uploadline=True)"
   ]
  },
  {
   "cell_type": "code",
   "execution_count": null,
   "metadata": {},
   "outputs": [],
   "source": [
    "upload_df[\"time_group\"]=\"\"\n",
    "upload_df.loc[(upload_df[\"hour\"]>23)|(upload_df[\"hour\"]<=7),\"time_group\"]=\"night 23:00-07:00\"\n",
    "upload_df.loc[(upload_df[\"hour\"]>7)&(upload_df[\"hour\"]<=17),\"time_group\"]=\"day 7:00-17:00\"\n",
    "upload_df.loc[(upload_df[\"hour\"]>17)&(upload_df[\"hour\"]<=23),\"time_group\"]=\"evening 17:00-23:00\""
   ]
  },
  {
   "cell_type": "code",
   "execution_count": null,
   "metadata": {},
   "outputs": [],
   "source": [
    "subset=upload_df[upload_df[\"SK_PI\"]==device_number]\n",
    "t=\"Upload speed by timegroup for the device \"+str(device_number)+title_tail\n",
    "simple_boxplot(dataframe=subset,plot_value='UPLOAD',sort_value='time_group',\n",
    "               title=t,\n",
    "               ytitle=\"Mbps\",uploadline=True, jitter=True)"
   ]
  },
  {
   "cell_type": "code",
   "execution_count": null,
   "metadata": {},
   "outputs": [],
   "source": [
    "upload_df[\"weekday\"]=upload_df[\"time\"].dt.weekday_name\n",
    "upload_df[\"weekday\"] = pd.Categorical(upload_df[\"weekday\"], [\"Monday\", \"Tuesday\", \"Wednesday\", \"Thursday\", \"Friday\", \"Saturday\", \"Sunday\"])"
   ]
  },
  {
   "cell_type": "code",
   "execution_count": null,
   "metadata": {},
   "outputs": [],
   "source": [
    "subset=upload_df[upload_df[\"SK_PI\"]==device_number]\n",
    "t=\"Upload speed by day of the week for the device \"+str(device_number)+title_tail\n",
    "simple_boxplot(dataframe=subset,plot_value='UPLOAD',sort_value='weekday',\n",
    "               title=t,\n",
    "               ytitle=\"Mbps\",uploadline=True, weekdays=True, jitter=True)"
   ]
  },
  {
   "cell_type": "markdown",
   "metadata": {},
   "source": [
    "### Ping latency"
   ]
  },
  {
   "cell_type": "code",
   "execution_count": null,
   "metadata": {},
   "outputs": [],
   "source": [
    "ping_df[\"hour\"]=pd.to_numeric(ping_df[\"time\"].dt.hour)\n",
    "device_numbers_p=ping_df[\"SK_PI\"].unique()"
   ]
  },
  {
   "cell_type": "code",
   "execution_count": null,
   "metadata": {},
   "outputs": [],
   "source": [
    "traces=[]\n",
    "t=\"Normalized ping latency by hour \"+title_tail\n",
    "traces=[]\n",
    "for device in device_numbers_p:\n",
    "    subset=ping_df[ping_df[\"SK_PI\"]==device]\n",
    "    trace = go.Scatter(\n",
    "        x = subset['hour'],\n",
    "        y=(subset['PING']-subset['PING'].mean())/subset['PING'].std(),\n",
    "        mode = 'markers',\n",
    "        marker = dict(color=colors[device]),\n",
    "        name = str(device)\n",
    "    )\n",
    "    traces.append(trace)\n",
    "layout = go.Layout(\n",
    "        title=t,\n",
    "        xaxis=dict(title=\"Hour of the day\"),\n",
    "        yaxis=dict(title=\"Difference to normalized latencies (Miliseconda)\")\n",
    "        )\n",
    "data = traces\n",
    "fig = go.Figure(data=data, layout=layout)\n",
    "iplot(fig)"
   ]
  },
  {
   "cell_type": "code",
   "execution_count": null,
   "metadata": {},
   "outputs": [],
   "source": [
    "t=\"Ping latency by hour\"+title_tail\n",
    "simple_boxplot(dataframe=ping_df,plot_value='PING',sort_value='hour',\n",
    "               title=t,\n",
    "               ytitle=\"Miliseconds\",\n",
    "               xtitle=\"Hour of the day\")"
   ]
  },
  {
   "cell_type": "code",
   "execution_count": null,
   "metadata": {},
   "outputs": [],
   "source": [
    "device_number=7\n",
    "by_hour_by_device_p2=mean_max_median_by2(input_dataframe=ping_df,value1=\"PING\", value2=\"PING\",\n",
    "                                          value3=\"PING\",group_by_value=\"hour\", rename_columns=True)\n",
    "subset=by_hour_by_device_p2[by_hour_by_device_p2[\"SK_PI\"]==device_number]\n",
    "t=\"Ping latency(speedtest) by hour for the device \"+str(device_number)+title_tail\n",
    "combined_bar_plot_3traces(xvalues=subset[\"hour\"],\n",
    "                         yvalues1=subset[\"max\"],\n",
    "                         yvalues2=subset[\"mean\"],\n",
    "                         yvalues3=subset[\"median\"],\n",
    "                         name1=\"Max\",\n",
    "                         name2=\"Mean\",\n",
    "                         name3=\"Median\",\n",
    "                         title=t,\n",
    "                         xtitle=\"hour\",\n",
    "                         stack=False)"
   ]
  },
  {
   "cell_type": "code",
   "execution_count": null,
   "metadata": {},
   "outputs": [],
   "source": [
    "ping_df[\"weekday\"]=ping_df[\"time\"].dt.weekday_name\n",
    "ping_df[\"weekday\"] = pd.Categorical(ping_df[\"weekday\"], [\"Monday\", \"Tuesday\", \"Wednesday\", \"Thursday\", \"Friday\", \"Saturday\", \"Sunday\"])"
   ]
  },
  {
   "cell_type": "code",
   "execution_count": null,
   "metadata": {},
   "outputs": [],
   "source": [
    "t=\"Ping latency(speedtest) by day of the week\"+title_tail\n",
    "simple_boxplot(dataframe=ping_df,plot_value='PING',sort_value='weekday',\n",
    "               title=t,\n",
    "               ytitle=\"Miliseconds\", weekdays=True)"
   ]
  },
  {
   "cell_type": "code",
   "execution_count": null,
   "metadata": {},
   "outputs": [],
   "source": [
    "device_number=7\n",
    "by_hour_by_device_p2=mean_max_median_by2(input_dataframe=ping_df,value1=\"PING\", value2=\"PING\",\n",
    "                                          value3=\"PING\",group_by_value=\"weekday\", rename_columns=True)\n",
    "subset=by_hour_by_device_p2[by_hour_by_device_p2[\"SK_PI\"]==device_number]\n",
    "t=\"Ping latency(speedtest) by hour for the device \"+str(device_number)+title_tail\n",
    "combined_bar_plot_3traces(xvalues=subset[\"weekday\"],\n",
    "                         yvalues1=subset[\"max\"],\n",
    "                         yvalues2=subset[\"mean\"],\n",
    "                         yvalues3=subset[\"median\"],\n",
    "                         name1=\"Max\",\n",
    "                         name2=\"Mean\",\n",
    "                         name3=\"Median\",\n",
    "                         title=t,\n",
    "                         xtitle=\"weekday\",\n",
    "                         stack=False)"
   ]
  }
 ],
 "metadata": {
  "kernelspec": {
   "display_name": "Python 3",
   "language": "python",
   "name": "python3"
  },
  "language_info": {
   "codemirror_mode": {
    "name": "ipython",
    "version": 3
   },
   "file_extension": ".py",
   "mimetype": "text/x-python",
   "name": "python",
   "nbconvert_exporter": "python",
   "pygments_lexer": "ipython3",
   "version": "3.6.9"
  },
  "nbTranslate": {
   "displayLangs": [
    "*"
   ],
   "hotkey": "alt-t",
   "langInMainMenu": true,
   "sourceLang": "en",
   "targetLang": "fr",
   "useGoogleTranslate": true
  }
 },
 "nbformat": 4,
 "nbformat_minor": 2
}
