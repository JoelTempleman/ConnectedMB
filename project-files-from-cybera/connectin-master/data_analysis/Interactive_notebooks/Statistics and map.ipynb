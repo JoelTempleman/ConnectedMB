{
 "cells": [
  {
   "cell_type": "markdown",
   "metadata": {},
   "source": [
    "### Read data from influxdb"
   ]
  },
  {
   "cell_type": "code",
   "execution_count": null,
   "metadata": {},
   "outputs": [],
   "source": [
    "from data_exploration import *"
   ]
  },
  {
   "cell_type": "code",
   "execution_count": null,
   "metadata": {},
   "outputs": [],
   "source": [
    "client, client_df = connect_to_influxdb()"
   ]
  },
  {
   "cell_type": "code",
   "execution_count": null,
   "metadata": {},
   "outputs": [],
   "source": [
    "df = get_all_data(client_df)"
   ]
  },
  {
   "cell_type": "markdown",
   "metadata": {},
   "source": [
    "### Calculate summary statistics by time period by device"
   ]
  },
  {
   "cell_type": "code",
   "execution_count": null,
   "metadata": {},
   "outputs": [],
   "source": [
    "def show_data(ev):\n",
    "    clear_output(wait=True)\n",
    "    display(Box(children = [device_name1,measurement_type1,time_period1,show_button1]))\n",
    "    \n",
    "    subset = df.copy()\n",
    "    if time_period2.value==\"1month\":\n",
    "        subset = get_offset_date(subset, 1)\n",
    "    elif time_period2.value==\"6months\":\n",
    "        subset = get_offset_date(subset, 6)\n",
    "    \n",
    "    fig = go.Figure()\n",
    "    for test_type  in [\"iperf\",\"speedtest\"]:\n",
    "        df1 = subset[(subset[\"test_type\"]==test_type) & (subset[\"SK_PI\"] == device_name1.value) & (subset[\"MES_TYPE\"] == measurement_type1.value)]\n",
    "        stat=pd.DataFrame()\n",
    "        if not df1.empty:\n",
    "            fig.add_trace(go.Histogram(x=df1[\"result\"],histnorm='percent',name=measurement_type1.value+\" \" + test_type,\n",
    "                                       marker_color=colors_iperf_speedtest[test_type],xbins=dict(size=10)))\n",
    "            #fig.add_trace(go.Box(x=df1[\"result\"],name=measurement_type1.value+\" \" + test_type,marker_color=colors_iperf_speedtest[test_type]))\n",
    "            fig.update_layout(xaxis_title_text='Mbps')\n",
    "            if measurement_type1.value in [\"UPLOAD\",\"DOWNLOAD\"]:\n",
    "                treshold = limits[measurement_type1.value]\n",
    "                fig.add_shape(go.layout.Shape(type=\"line\",x0=treshold,y0=0,x1=treshold,y1=100,name=str(treshold)+\"Mbps\",\n",
    "                                              line=dict(color=\"red\",dash=\"dot\")))\n",
    "                stat = summary_stat(df1,treshold)\n",
    "                stat[\"t-test\"] = \"N/A\"\n",
    "                devices = stat[(stat[\"size\"]>test_size)][\"SK_PI\"]\n",
    "                for device in devices:\n",
    "                    stat.loc[stat[\"SK_PI\"]==device,\"t-test\"] = get_ttest_device(df1[\"result\"],treshold)\n",
    "            else:\n",
    "                stat = summary_stat(df1)\n",
    "                fig.update_layout(xaxis_title_text='Miliseconds')  \n",
    "        if not stat.empty:\n",
    "            print(test_type +\" summary:\")\n",
    "            display(stat) \n",
    "    \n",
    "    fig.update_layout(barmode='overlay')\n",
    "    fig.update_traces(opacity=0.5)\n",
    "    fig.update_layout(title_text='Data distribution - '+ measurement_type1.value, yaxis_title_text='Percentage of tests')   \n",
    "    fig.show()"
   ]
  },
  {
   "cell_type": "code",
   "execution_count": null,
   "metadata": {},
   "outputs": [],
   "source": [
    "device_name1 = widgets.Dropdown(options = df['SK_PI'].sort_values().unique(), description ='Device number: ',style = {'description_width': 'initial'}, disabled=False)\n",
    "measurement_type1 =  widgets.Dropdown(options = df['MES_TYPE'].unique(), description ='Measurement type: ',style = {'description_width': 'initial'}, disabled=False)\n",
    "time_period1 = widgets.Dropdown(options = ['1month','6months','all'], description ='Time period: ',style = {'description_width': 'initial'}, disabled=False)\n",
    "\n",
    "show_button1 = widgets.Button(button_style= 'info', description=\"Show Data\")\n",
    "show_button1.on_click(show_data)\n",
    "\n",
    "display(Box(children = [device_name1,measurement_type1,time_period1,show_button1]))"
   ]
  },
  {
   "cell_type": "markdown",
   "metadata": {},
   "source": [
    "### Calculate summary statistics by time period for all devices ad draw a map"
   ]
  },
  {
   "cell_type": "code",
   "execution_count": null,
   "metadata": {},
   "outputs": [],
   "source": [
    "## helper function\n",
    "def show_map(ev):\n",
    "    clear_output(wait=True)\n",
    "    display(Box(children = [measurement_type2,test_type2,color_by2,time_period2,show_button2]))\n",
    "    \n",
    "    subset = df.copy()\n",
    "    if time_period2.value==\"1month\":\n",
    "        subset = get_offset_date(subset, 1)\n",
    "    elif time_period2.value==\"6months\":\n",
    "        subset = get_offset_date(subset, 6)\n",
    "        \n",
    "    subset = subset[(subset[\"test_type\"]==test_type2.value) & (subset[\"MES_TYPE\"] == measurement_type2.value)]\n",
    "    \n",
    "    if measurement_type2.value in [\"UPLOAD\",\"DOWNLOAD\"]:\n",
    "        treshold = limits[measurement_type2.value]               \n",
    "        stat = summary_stat(subset,treshold)\n",
    "        stat[\"t-test\"] = \"N/A\"\n",
    "        devices = stat[(stat[\"size\"]>test_size)][\"SK_PI\"]\n",
    "        for device in devices:\n",
    "            subset_device = subset[subset[\"SK_PI\"]==device]\n",
    "            stat.loc[stat[\"SK_PI\"]==device,\"t-test\"] = get_ttest_device(subset_device[\"result\"],treshold)\n",
    "    else:\n",
    "        stat = summary_stat(subset)\n",
    "    display_stat = stat.copy()\n",
    "    display_stat.rename(columns={'SK_PI': 'device_number', 'size': 'number_of_tests','MES_TYPE': 'measurement'}, inplace=True)\n",
    "    display_stat[\"test_type\"] = test_type2.value\n",
    "    #del display_stat['MES_TYPE']\n",
    "    display(display_stat) \n",
    "    \n",
    "    coordinates_df = pd.DataFrame(columns=[\"device_number\",\"name\",\"lon\",\"lat\"])\n",
    "    if path.exists(coordinates_path):\n",
    "        coordinates_df =  pd.read_csv(coordinates_path)\n",
    "    stat1 = pd.merge(stat, coordinates_df,left_on=\"SK_PI\", right_on=\"device_number\",how=\"inner\")\n",
    "    fig = get_fig_map(stat1,color_by2.value,'Devices colored by '+color_by2.value+' '+ measurement_type2.value)\n",
    "    iplot( fig, validate=False)"
   ]
  },
  {
   "cell_type": "code",
   "execution_count": null,
   "metadata": {},
   "outputs": [],
   "source": [
    "measurement_type2 =  widgets.Dropdown(options = df['MES_TYPE'].unique(), description ='Measurement type: ',style = {'description_width': 'initial'}, disabled=False)\n",
    "test_type2 = widgets.Dropdown(options = df['test_type'].unique(), description ='Test type: ',style = {'description_width': 'initial'}, disabled=False)\n",
    "color_by2 = widgets.Dropdown(options = [\"mean\",\"median\",\"std\",\"min\",\"max\"], description ='Color by: ',style = {'description_width': 'initial'}, disabled=False)\n",
    "time_period2 = widgets.Dropdown(options = ['1month','6months','all'], description ='Time period: ',style = {'description_width': 'initial'}, disabled=False)\n",
    "\n",
    "show_button2 = widgets.Button(button_style= 'info', description=\"Show Data\")\n",
    "show_button2.on_click(show_map)\n",
    "\n",
    "display(Box(children = [measurement_type2,test_type2,color_by2,time_period2,show_button2]))"
   ]
  }
 ],
 "metadata": {
  "kernelspec": {
   "display_name": "Python 3",
   "language": "python",
   "name": "python3"
  },
  "language_info": {
   "codemirror_mode": {
    "name": "ipython",
    "version": 3
   },
   "file_extension": ".py",
   "mimetype": "text/x-python",
   "name": "python",
   "nbconvert_exporter": "python",
   "pygments_lexer": "ipython3",
   "version": "3.6.9"
  }
 },
 "nbformat": 4,
 "nbformat_minor": 4
}
