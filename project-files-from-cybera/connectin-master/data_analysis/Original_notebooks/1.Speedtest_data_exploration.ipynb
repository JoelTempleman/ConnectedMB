{
 "cells": [
  {
   "cell_type": "markdown",
   "metadata": {},
   "source": [
    "# Speedtest data exploration"
   ]
  },
  {
   "cell_type": "markdown",
   "metadata": {},
   "source": [
    "### How data is  collected"
   ]
  },
  {
   "cell_type": "markdown",
   "metadata": {},
   "source": [
    "Running speedtest application (?) similar to speedtest.net Calculating upload, download speed + png latency"
   ]
  },
  {
   "cell_type": "markdown",
   "metadata": {},
   "source": [
    "### How data looks like\n",
    "Load libraries:"
   ]
  },
  {
   "cell_type": "code",
   "execution_count": null,
   "metadata": {},
   "outputs": [],
   "source": [
    "from data_exploration import *"
   ]
  },
  {
   "cell_type": "code",
   "execution_count": null,
   "metadata": {},
   "outputs": [],
   "source": [
    "import pyodbc\n",
    "with open('/home/connectin/config.json', 'r') as f:\n",
    "    main_config = json.load(f)\n",
    "def connect_to_mssql():\n",
    "    connection = pyodbc.connect(driver=main_config['driver'], server=os.environ['MSSQL_HOST'],\n",
    "                                port=os.environ['MSSQL_PORT'], uid=os.environ['MSSQL_USER'],\n",
    "                                pwd=os.environ['MSSQL_PASSWORD'], database=os.environ['MSSQL_DATABASE'])\n",
    "    return connection"
   ]
  },
  {
   "cell_type": "markdown",
   "metadata": {},
   "source": [
    "Set up test time interval:"
   ]
  },
  {
   "cell_type": "code",
   "execution_count": null,
   "metadata": {},
   "outputs": [],
   "source": [
    "time_interval='4w' #5d"
   ]
  },
  {
   "cell_type": "code",
   "execution_count": null,
   "metadata": {},
   "outputs": [],
   "source": [
    "#Set up starting point, by default if will start from current time\n",
    "starting_point=datetime.now().strftime('%Y-%m-%d %H:%M:%S')\n",
    "#starting point=\"2019-01-10 14:00:00\"  # to set upl alternative starting point\n",
    "print(\"Starting point:\",starting_point )"
   ]
  },
  {
   "cell_type": "markdown",
   "metadata": {},
   "source": [
    "Set up influxdb connection:"
   ]
  },
  {
   "cell_type": "code",
   "execution_count": null,
   "metadata": {},
   "outputs": [],
   "source": [
    "client, client_df = connect_to_influxdb()"
   ]
  },
  {
   "cell_type": "markdown",
   "metadata": {},
   "source": [
    "Checking last 10 records for the SPEEDTEST_UPLOAD  measurment and see how data looks like:"
   ]
  },
  {
   "cell_type": "code",
   "execution_count": null,
   "metadata": {},
   "outputs": [],
   "source": [
    "query_upload = \"SELECT * FROM SPEEDTEST_IPERF_UPLOAD WHERE PROVIDER!='iperf' ORDER BY time DESC LIMIT 10;\"\n",
    "upload_df = get_dataframe_from_influxdb(client_df=client_df,query_influx=query_upload,table_name='SPEEDTEST_IPERF_UPLOAD')\n",
    "upload_df"
   ]
  },
  {
   "cell_type": "markdown",
   "metadata": {},
   "source": [
    "Let's take just one device, for example 3:"
   ]
  },
  {
   "cell_type": "code",
   "execution_count": null,
   "metadata": {},
   "outputs": [],
   "source": [
    "query_upload = \"SELECT * FROM SPEEDTEST_IPERF_UPLOAD WHERE PROVIDER!='iperf' AND SK_PI='3' ORDER BY time DESC LIMIT 10;\"\n",
    "upload_df = get_dataframe_from_influxdb(client_df=client_df,query_influx=query_upload,table_name='SPEEDTEST_IPERF_UPLOAD')\n",
    "upload_df"
   ]
  },
  {
   "cell_type": "markdown",
   "metadata": {},
   "source": [
    "Let's compare with what we have in MS SQL database:"
   ]
  },
  {
   "cell_type": "code",
   "execution_count": null,
   "metadata": {},
   "outputs": [],
   "source": [
    "cnxn = connect_to_mssql()\n",
    "sql = \"SELECT TOP 10 * FROM FCT_SPEEDTEST WHERE PROVIDER!='iperf' AND SK_PI='3' ORDER BY DATA_DATE DESC;\"\n",
    "pd.read_sql(sql,cnxn)"
   ]
  },
  {
   "cell_type": "markdown",
   "metadata": {},
   "source": [
    "Are there any zeros in mssql database?"
   ]
  },
  {
   "cell_type": "code",
   "execution_count": null,
   "metadata": {},
   "outputs": [],
   "source": [
    "sql = \"SELECT * FROM FCT_SPEEDTEST WHERE PROVIDER!='iperf' AND (UPLOAD=0 OR DOWNLOAD=0 OR PING=0);\"\n",
    "pd.read_sql(sql,cnxn)"
   ]
  },
  {
   "cell_type": "markdown",
   "metadata": {},
   "source": [
    "Something is possibly wrong with these measurments, we wille exclude zeros for now."
   ]
  },
  {
   "cell_type": "markdown",
   "metadata": {},
   "source": [
    "### How may data points per device?"
   ]
  },
  {
   "cell_type": "markdown",
   "metadata": {},
   "source": [
    "Getting device numbers(tags SK_PI):"
   ]
  },
  {
   "cell_type": "code",
   "execution_count": null,
   "metadata": {},
   "outputs": [],
   "source": [
    "device_numbers=get_tag_values_influxdb(client_influx=client,table_name='SPEEDTEST_IPERF_UPLOAD', tag_name='SK_PI')\n",
    "device_numbers=list(map(int, device_numbers))\n",
    "device_numbers= sorted(device_numbers)\n",
    "print(device_numbers)"
   ]
  },
  {
   "cell_type": "markdown",
   "metadata": {},
   "source": [
    "Getting number of data points per device for the entire period of time."
   ]
  },
  {
   "cell_type": "code",
   "execution_count": null,
   "metadata": {},
   "outputs": [],
   "source": [
    "query_upload_counts = \"SELECT COUNT(UPLOAD) FROM SPEEDTEST_IPERF_UPLOAD WHERE PROVIDER!='iperf' AND time<= '\"+starting_point+\"' AND UPLOAD>0 GROUP BY SK_PI;\"\n",
    "upload_counts=get_stats_influxdb(client_influx=client,\n",
    "                               query_influx=query_upload_counts,\n",
    "                               stat_name='count',\n",
    "                               device_numbers=device_numbers)"
   ]
  },
  {
   "cell_type": "markdown",
   "metadata": {},
   "source": [
    "Plotting device numbers and number of data points. "
   ]
  },
  {
   "cell_type": "code",
   "execution_count": null,
   "metadata": {},
   "outputs": [],
   "source": [
    "simple_bar_plot(xvalues=device_numbers,\n",
    "                yvalues=upload_counts,\n",
    "                name=\"upload datapoints\",\n",
    "                title=\"Number of data points per device to the date \"+starting_point,\n",
    "                ytitle=\"Number of datapoints\")"
   ]
  },
  {
   "cell_type": "markdown",
   "metadata": {},
   "source": [
    "Some of the devices have small number of datapoints, may be they are just installed? Lets check how many dataponts came in last 4 weeks."
   ]
  },
  {
   "cell_type": "markdown",
   "metadata": {},
   "source": [
    "Getting number of datapoints per device in last 4 weeks."
   ]
  },
  {
   "cell_type": "code",
   "execution_count": null,
   "metadata": {},
   "outputs": [],
   "source": [
    "query_upload_counts_time = \"SELECT COUNT(UPLOAD) FROM SPEEDTEST_IPERF_UPLOAD WHERE time >= '\"+starting_point+\"'-\"+time_interval+\" AND PROVIDER!='iperf' AND UPLOAD>0 GROUP BY SK_PI ;\"\n",
    "upload_counts_time = get_stats_influxdb(client_influx=client,\n",
    "                                      query_influx=query_upload_counts_time,\n",
    "                                      stat_name='count',\n",
    "                                      device_numbers=device_numbers)"
   ]
  },
  {
   "cell_type": "markdown",
   "metadata": {},
   "source": [
    "Plotting combined barchart - entire number of datapoints vs number of datapoints in last 4 weeks."
   ]
  },
  {
   "cell_type": "code",
   "execution_count": null,
   "metadata": {},
   "outputs": [],
   "source": [
    "combined_bar_plot_2traces(xvalues=device_numbers,\n",
    "                          yvalues1=upload_counts_time,\n",
    "                          yvalues2=[a - b for a, b in zip(upload_counts, upload_counts_time)],\n",
    "                          name1='Last '+time_interval,\n",
    "                          name2='The rest of the time',\n",
    "                          title=\"Comparing number of datapoints in last \"+time_interval+\" vs entire time starting from \"+starting_point,\n",
    "                          ytitle=\"Number of datapoints\")"
   ]
  },
  {
   "cell_type": "markdown",
   "metadata": {},
   "source": [
    "Devices 1,2,4,6 and 8 have data but not in the last 4 weeks.Let's check last reporting time for every device."
   ]
  },
  {
   "cell_type": "code",
   "execution_count": null,
   "metadata": {},
   "outputs": [],
   "source": [
    "query_upload_last = \"SELECT LAST(UPLOAD), time FROM SPEEDTEST_IPERF_UPLOAD WHERE PROVIDER!='iperf' AND time <= '\"+starting_point+\"' AND UPLOAD>0 GROUP BY SK_PI;\"\n",
    "result_upload_last=get_stats_influxdb(client_influx=client,\n",
    "                               query_influx=query_upload_last,\n",
    "                               stat_name='time',\n",
    "                               device_numbers=device_numbers)"
   ]
  },
  {
   "cell_type": "code",
   "execution_count": null,
   "metadata": {},
   "outputs": [],
   "source": [
    "query_upload_first = \"SELECT FIRST(UPLOAD), time FROM SPEEDTEST_IPERF_UPLOAD WHERE PROVIDER!='iperf' AND time <= '\"+starting_point+\"' AND UPLOAD>0 GROUP BY SK_PI;\"\n",
    "result_upload_first=get_stats_influxdb(client_influx=client,\n",
    "                               query_influx=query_upload_first,\n",
    "                               stat_name='time',\n",
    "                               device_numbers=device_numbers)"
   ]
  },
  {
   "cell_type": "code",
   "execution_count": null,
   "metadata": {},
   "outputs": [],
   "source": [
    "print(\"Speedtest reporting times:\")\n",
    "data=[]\n",
    "for i in range(len(device_numbers)):\n",
    "    try:\n",
    "        result_upload_first[i] = dateutil.parser.parse(result_upload_first[i]).strftime('%Y-%m-%d %H:%M:%S')\n",
    "    except:\n",
    "        result_upload_first[i]=None\n",
    "    try:    \n",
    "        result_upload_last[i] = dateutil.parser.parse(result_upload_last[i]).strftime('%Y-%m-%d %H:%M:%S')\n",
    "    except:\n",
    "        result_upload_last[i]=None\n",
    "    print(\"Device: \", device_numbers[i],\"  was reporting from \", result_upload_first[i], \" to \",result_upload_last[i])\n",
    "    trace = go.Scatter(x=[result_upload_first[i],result_upload_last[i]],y=[device_numbers[i],device_numbers[i]], \n",
    "                       name = device_numbers[i],marker=dict(color=colors[i]))\n",
    "    data.append(trace)\n",
    "layout = dict(title = \"Device reporting times(speedtest)\",xaxis=dict(title=\"Time\"),\n",
    "        yaxis=dict(title=\"Device Number\"))\n",
    "fig = go.Figure(data=data, layout=layout)\n",
    "iplot(fig)"
   ]
  },
  {
   "cell_type": "markdown",
   "metadata": {},
   "source": [
    "### Statistics by device"
   ]
  },
  {
   "cell_type": "code",
   "execution_count": null,
   "metadata": {},
   "outputs": [],
   "source": [
    "query_download = \"SELECT * FROM SPEEDTEST_IPERF_DOWNLOAD WHERE PROVIDER!='iperf'AND DOWNLOAD>0 AND time >='\"+starting_point+\"'-\"+\\\n",
    "                         time_interval;\n",
    "download_df = get_dataframe_from_influxdb(client_df=client_df,query_influx=query_download,\n",
    "                                          table_name='SPEEDTEST_IPERF_DOWNLOAD')"
   ]
  },
  {
   "cell_type": "code",
   "execution_count": null,
   "metadata": {},
   "outputs": [],
   "source": [
    "query_upload = \"SELECT * FROM SPEEDTEST_IPERF_UPLOAD WHERE PROVIDER!='iperf'AND UPLOAD>0 AND time >= '\"+starting_point+\"'-\"+\\\n",
    "                         time_interval;\n",
    "upload_df = get_dataframe_from_influxdb(client_df=client_df,query_influx=query_upload,\n",
    "                                          table_name='SPEEDTEST_IPERF_UPLOAD')"
   ]
  },
  {
   "cell_type": "code",
   "execution_count": null,
   "metadata": {},
   "outputs": [],
   "source": [
    "query_ping = \"SELECT * FROM SPEEDTEST_IPERF_PING WHERE PROVIDER!='iperf'AND PING>0 AND time >= '\"+starting_point+\"'-\"+\\\n",
    "                         time_interval;\n",
    "ping_df = get_dataframe_from_influxdb(client_df=client_df,query_influx=query_ping,\n",
    "                                          table_name='SPEEDTEST_IPERF_PING')\n",
    "ping_df = ping_df[ping_df.PING != 1800000.000] ## Removed outier that was found in the ms sql table"
   ]
  },
  {
   "cell_type": "code",
   "execution_count": null,
   "metadata": {},
   "outputs": [],
   "source": [
    "download_summary=mean_max_median_by1(download_df,'DOWNLOAD')\n",
    "device_numbers_d=download_summary[\"SK_PI\"].unique()\n",
    "download_line=go.Scatter(x=device_numbers_d,y=[50] * len(device_numbers_d), mode='markers',marker=dict(color='red'), name='50Mps')\n",
    "combined_bar_plot_3traces(xvalues=download_summary[\"SK_PI\"],\n",
    "                         yvalues1=download_summary[\"max\"],\n",
    "                         yvalues2=download_summary[\"mean\"],\n",
    "                         yvalues3=download_summary[\"median\"],\n",
    "                         name1=\"Max\",\n",
    "                         name2=\"Mean\",\n",
    "                         name3=\"Median\",\n",
    "                         title=\"Download speed over the last \"+time_interval+ \" starting from \"+ starting_point,\n",
    "                         ytitle=\"Mbps\",\n",
    "                         line=download_line,\n",
    "                         stack=False)"
   ]
  },
  {
   "cell_type": "code",
   "execution_count": null,
   "metadata": {},
   "outputs": [],
   "source": [
    "upload_summary=mean_max_median_by1(upload_df,'UPLOAD')\n",
    "device_numbers_u=upload_summary[\"SK_PI\"].unique()\n",
    "upload_line=go.Scatter(x=device_numbers_u,y=[10] * len(device_numbers_u), mode='markers',marker=dict(color='red'), name='10Mbps')\n",
    "\n",
    "combined_bar_plot_3traces(xvalues=upload_summary[\"SK_PI\"],\n",
    "                         yvalues1=upload_summary[\"max\"],\n",
    "                         yvalues2=upload_summary[\"mean\"],\n",
    "                         yvalues3=upload_summary[\"median\"],\n",
    "                         name1=\"Max\",\n",
    "                         name2=\"Mean\",\n",
    "                         name3=\"Median\",\n",
    "                         title=\"Upload speed over the last \"+time_interval+ \" starting from \"+ starting_point,\n",
    "                         ytitle=\"Mbps\",\n",
    "                         line=upload_line,\n",
    "                         stack=False)"
   ]
  },
  {
   "cell_type": "code",
   "execution_count": null,
   "metadata": {},
   "outputs": [],
   "source": [
    "ping_summary=mean_max_median_by1(ping_df,'PING')\n",
    "combined_bar_plot_3traces(xvalues=ping_summary[\"SK_PI\"],\n",
    "                         yvalues1=ping_summary[\"max\"],\n",
    "                         yvalues2=ping_summary[\"mean\"],\n",
    "                         yvalues3=ping_summary[\"median\"],\n",
    "                         name1=\"Max\",\n",
    "                         name2=\"Mean\",\n",
    "                         name3=\"Median\",\n",
    "                         title=\"Ping latency over the last \"+time_interval+ \" starting from \"+ starting_point,\n",
    "                         ytitle=\"Miliseconds\",\n",
    "                         stack=False)"
   ]
  },
  {
   "cell_type": "code",
   "execution_count": null,
   "metadata": {},
   "outputs": [],
   "source": [
    "simple_boxplot(dataframe=download_df,plot_value='DOWNLOAD',sort_value='SK_PI',\n",
    "               title=\"Download speed over the last \"+time_interval+ \" starting from \"+ starting_point, \n",
    "               ytitle=\"Mbps\")"
   ]
  },
  {
   "cell_type": "code",
   "execution_count": null,
   "metadata": {},
   "outputs": [],
   "source": [
    "simple_boxplot(dataframe=upload_df,plot_value='UPLOAD',sort_value='SK_PI',\n",
    "               title=\"Upload speed over the last \"+time_interval+ \" starting from \"+ starting_point, \n",
    "               ytitle=\"Mbps\")"
   ]
  },
  {
   "cell_type": "code",
   "execution_count": null,
   "metadata": {},
   "outputs": [],
   "source": [
    "simple_boxplot(dataframe=ping_df,plot_value='PING',sort_value='SK_PI',\n",
    "               title=\"Ping latency over the last \"+time_interval+ \" starting from \"+ starting_point, \n",
    "               ytitle=\"Miliseconds\")"
   ]
  },
  {
   "cell_type": "markdown",
   "metadata": {},
   "source": [
    "### Test servers\n",
    "Are there any NaNs or empty strings?"
   ]
  },
  {
   "cell_type": "code",
   "execution_count": null,
   "metadata": {},
   "outputs": [],
   "source": [
    "print(sum(pd.isnull(upload_df[\"TEST_SERVER\"])))\n",
    "print(sum(pd.isnull(upload_df[\"PROVINCE\"])))\n",
    "print(sum(upload_df[\"TEST_SERVER\"] == ''))\n",
    "print(sum(upload_df[\"PROVINCE\"] == ''))"
   ]
  },
  {
   "cell_type": "code",
   "execution_count": null,
   "metadata": {},
   "outputs": [],
   "source": [
    "print(\"There are \",len(upload_df[\"PROVINCE\"].unique()), \" provinces: \", upload_df[\"PROVINCE\"].unique(), \"\\n\")\n",
    "print(\"There are \",len(upload_df[\"TEST_SERVER\"].unique()), \" test servers\", upload_df[\"TEST_SERVER\"].unique(), \"\\n\")\n",
    "\n",
    "pd.options.mode.chained_assignment = None\n",
    "upload_df[\"server\"] = upload_df[\"TEST_SERVER\"] + \" \" +upload_df[\"PROVINCE\"]\n",
    "print(\"There are \",len(upload_df[\"server\"].unique()), \" test servers+provinces\", upload_df[\"server\"].unique(), \"\\n\")"
   ]
  },
  {
   "cell_type": "markdown",
   "metadata": {},
   "source": [
    "#### How many test servers per device?"
   ]
  },
  {
   "cell_type": "code",
   "execution_count": null,
   "metadata": {},
   "outputs": [],
   "source": [
    "pd.options.mode.chained_assignment = None\n",
    "upload_df[\"server\"] = upload_df[\"TEST_SERVER\"] + \" \" +upload_df[\"PROVINCE\"]\n",
    "download_df[\"server\"] = download_df[\"TEST_SERVER\"] + \" \" +download_df[\"PROVINCE\"]\n",
    "ping_df[\"server\"] = ping_df[\"TEST_SERVER\"] + \" \" +ping_df[\"PROVINCE\"]\n",
    "\n",
    "points_by_device=upload_df.groupby(['SK_PI']).size().reset_index(name='counts').sort_values('SK_PI')\n",
    "\n",
    "test_servers_per_device = upload_df.groupby('SK_PI').apply(lambda x: x['server'].unique()).apply(pd.Series)\n",
    "test_servers_per_device['server_count'] = test_servers_per_device.apply(lambda x: x.count(), axis=1)\n",
    "test_server_counts_per_device = pd.Series(test_servers_per_device['server_count']).value_counts().reset_index()\n",
    "points_by_device_by_server=upload_df.groupby(['SK_PI', 'server']).size().reset_index()"
   ]
  },
  {
   "cell_type": "code",
   "execution_count": null,
   "metadata": {},
   "outputs": [],
   "source": [
    "simple_bar_plot(xvalues=test_servers_per_device.index,\n",
    "                yvalues=test_servers_per_device[\"server_count\"],\n",
    "                name = \"Number of providers\",title=\"Number of test servers per device over the last \"+time_interval+ \" starting from \"+ starting_point,\n",
    "                ytitle=\"Number of providers\")"
   ]
  },
  {
   "cell_type": "code",
   "execution_count": null,
   "metadata": {},
   "outputs": [],
   "source": [
    "simple_pie_chart(labels=test_server_counts_per_device['index'],\n",
    "            values=test_server_counts_per_device['server_count'],\n",
    "                 title=\"Number of test servers per device over the last \"+time_interval+ \" starting from \"+ starting_point,)"
   ]
  },
  {
   "cell_type": "code",
   "execution_count": null,
   "metadata": {},
   "outputs": [],
   "source": [
    "combined_bar_plot_multitraces(dataframe=points_by_device_by_server,\n",
    "                              device_numbers=device_numbers,\n",
    "                              points_by_device=points_by_device,\n",
    "                              sort_value='server',\n",
    "                              ytitle=\"Percentage of data points\",\n",
    "                              title=\"Percentage of data points per device per test server over the last \"+time_interval+ \" starting from \"+ starting_point)"
   ]
  },
  {
   "cell_type": "code",
   "execution_count": null,
   "metadata": {},
   "outputs": [],
   "source": [
    "upload_summary=mean_max_median_by1(upload_df,'UPLOAD',index_col='server')\n",
    "upload_line=go.Scatter(x=upload_summary[\"server\"].unique(),y=[10] * len(upload_summary[\"server\"].unique()), mode='markers',marker=dict(color='red'), name='10Mps')\n",
    "combined_bar_plot_3traces(xvalues=upload_summary[\"server\"],\n",
    "                         yvalues1=upload_summary[\"max\"],\n",
    "                         yvalues2=upload_summary[\"mean\"],\n",
    "                         yvalues3=upload_summary[\"median\"],\n",
    "                         name1=\"Max\",\n",
    "                         name2=\"Mean\",\n",
    "                         name3=\"Median\",\n",
    "                         title=\"Upload speed by test server over the last \"+time_interval+ \" starting from \"+ starting_point,\n",
    "                         ytitle=\"Mbps\",\n",
    "                         xtitle=\"Provider\",\n",
    "                         line=upload_line,\n",
    "                         stack=False,\n",
    "                         margin=True)"
   ]
  },
  {
   "cell_type": "code",
   "execution_count": null,
   "metadata": {},
   "outputs": [],
   "source": [
    "download_summary=mean_max_median_by1(download_df,'DOWNLOAD',index_col='server')\n",
    "download_line=go.Scatter(x=upload_summary['server'].unique(),y=[50] * len(upload_summary['server'].unique()), mode='markers',marker=dict(color='red'), name='50Mps')\n",
    "combined_bar_plot_3traces(xvalues=download_summary['server'],\n",
    "                         yvalues1=download_summary[\"max\"],\n",
    "                         yvalues2=download_summary[\"mean\"],\n",
    "                         yvalues3=download_summary[\"median\"],\n",
    "                         name1=\"Max\",\n",
    "                         name2=\"Mean\",\n",
    "                         name3=\"Median\",\n",
    "                         title=\"Download speed by test server over the last \"+time_interval+ \" starting from \"+ starting_point,\n",
    "                         ytitle=\"Mbps\",\n",
    "                         xtitle=\"Test server\",\n",
    "                         line=download_line,\n",
    "                         stack=False,\n",
    "                         margin=True)"
   ]
  },
  {
   "cell_type": "code",
   "execution_count": null,
   "metadata": {},
   "outputs": [],
   "source": [
    "ping_summary=mean_max_median_by1(ping_df,'PING',index_col='server')\n",
    "combined_bar_plot_3traces(xvalues=ping_summary['server'],\n",
    "                         yvalues1=ping_summary[\"max\"],\n",
    "                         yvalues2=ping_summary[\"mean\"],\n",
    "                         yvalues3=ping_summary[\"median\"],\n",
    "                         name1=\"Max\",\n",
    "                         name2=\"Mean\",\n",
    "                         name3=\"Median\",\n",
    "                         title=\"Ping latency by  test server over the last \"+time_interval+ \" starting from \"+ starting_point,\n",
    "                         ytitle=\"Miliseconds\",\n",
    "                         xtitle=\"Test server\",\n",
    "                         stack=False,\n",
    "                         margin=True)"
   ]
  },
  {
   "cell_type": "markdown",
   "metadata": {},
   "source": [
    "### Providers\n",
    "Are there any NaNs or empty strings?"
   ]
  },
  {
   "cell_type": "code",
   "execution_count": null,
   "metadata": {},
   "outputs": [],
   "source": [
    "print(sum(pd.isnull(upload_df[\"PROVIDER\"])))\n",
    "print(sum(upload_df[\"PROVIDER\"] == ''))"
   ]
  },
  {
   "cell_type": "code",
   "execution_count": null,
   "metadata": {},
   "outputs": [],
   "source": [
    "print(\"There are \",len(upload_df[\"PROVIDER\"].unique()), \" providers\", upload_df[\"PROVIDER\"].unique(), \"\\n\")"
   ]
  },
  {
   "cell_type": "markdown",
   "metadata": {},
   "source": [
    "#### How many providers per device?"
   ]
  },
  {
   "cell_type": "code",
   "execution_count": null,
   "metadata": {},
   "outputs": [],
   "source": [
    "points_by_device=upload_df.groupby(['SK_PI']).size().reset_index(name='counts').sort_values('SK_PI')\n",
    "providers_per_device = upload_df.groupby('SK_PI').apply(lambda x: x[\"PROVIDER\"].unique()).apply(pd.Series)\n",
    "providers_per_device['provider_count'] = providers_per_device.apply(lambda x: x.count(), axis=1)\n",
    "provider_counts_per_device = pd.Series(providers_per_device['provider_count']).value_counts().reset_index()\n",
    "points_by_device_by_provider=upload_df.groupby(['SK_PI', 'PROVIDER']).size().reset_index()"
   ]
  },
  {
   "cell_type": "code",
   "execution_count": null,
   "metadata": {},
   "outputs": [],
   "source": [
    "simple_bar_plot(xvalues=providers_per_device.index,\n",
    "                yvalues=providers_per_device[\"provider_count\"],\n",
    "                name = \"Number of providers\",title=\"Number of providers per device over the last \"+time_interval + \" starting from \"+ starting_point,\n",
    "                ytitle=\"Number of providers\")"
   ]
  },
  {
   "cell_type": "code",
   "execution_count": null,
   "metadata": {},
   "outputs": [],
   "source": [
    "simple_pie_chart(labels=provider_counts_per_device['index'],\n",
    "            values=provider_counts_per_device[\"provider_count\"],title=\"Number of providers per device over the last \"+time_interval+ \" starting from \"+ starting_point)"
   ]
  },
  {
   "cell_type": "code",
   "execution_count": null,
   "metadata": {
    "scrolled": false
   },
   "outputs": [],
   "source": [
    "combined_bar_plot_multitraces(dataframe=points_by_device_by_provider,\n",
    "                              device_numbers=device_numbers,\n",
    "                              points_by_device=points_by_device,\n",
    "                              sort_value='PROVIDER',\n",
    "                              ytitle=\"Percentage of data\",\n",
    "                              title=\"Percentage of data points per device per service provider over the last \"+time_interval+ \" starting from \"+ starting_point,)"
   ]
  },
  {
   "cell_type": "code",
   "execution_count": null,
   "metadata": {},
   "outputs": [],
   "source": [
    "upload_summary=mean_max_median_by1(upload_df,'UPLOAD',index_col='PROVIDER')\n",
    "upload_line=go.Scatter(x=upload_summary[\"PROVIDER\"].unique(),y=[10] * len(upload_summary[\"PROVIDER\"].unique()), mode='markers',marker=dict(color='red'), name='10Mbps')\n",
    "combined_bar_plot_3traces(xvalues=upload_summary[\"PROVIDER\"],\n",
    "                         yvalues1=upload_summary[\"max\"],\n",
    "                         yvalues2=upload_summary[\"mean\"],\n",
    "                         yvalues3=upload_summary[\"median\"],\n",
    "                         name1=\"Max\",\n",
    "                         name2=\"Mean\",\n",
    "                         name3=\"Median\",\n",
    "                         title=\"Upload speed by provider over the last \"+time_interval+ \" starting from \"+ starting_point,\n",
    "                         ytitle=\"Mbps\",\n",
    "                         xtitle=\"Provider\",\n",
    "                         line=upload_line,\n",
    "                         stack=False,\n",
    "                         margin=True)"
   ]
  },
  {
   "cell_type": "code",
   "execution_count": null,
   "metadata": {},
   "outputs": [],
   "source": [
    "download_summary=mean_max_median_by1(download_df,'DOWNLOAD',index_col='PROVIDER')\n",
    "download_line=go.Scatter(x=upload_summary[\"PROVIDER\"].unique(),y=[50] * len(upload_summary[\"PROVIDER\"].unique()), mode='markers',marker=dict(color='red'), name='50Mbps')\n",
    "combined_bar_plot_3traces(xvalues=download_summary[\"PROVIDER\"],\n",
    "                         yvalues1=download_summary[\"max\"],\n",
    "                         yvalues2=download_summary[\"mean\"],\n",
    "                         yvalues3=download_summary[\"median\"],\n",
    "                         name1=\"Max\",\n",
    "                         name2=\"Mean\",\n",
    "                         name3=\"Median\",\n",
    "                         title=\"Download speed by provider over the last \"+time_interval+ \" starting from \"+ starting_point,\n",
    "                         ytitle=\"Mbps\",\n",
    "                         xtitle=\"Provider\",\n",
    "                         line=download_line,\n",
    "                         stack=False,\n",
    "                         margin=True)"
   ]
  },
  {
   "cell_type": "code",
   "execution_count": null,
   "metadata": {},
   "outputs": [],
   "source": [
    "ping_summary=mean_max_median_by1(ping_df,'PING',index_col='PROVIDER')\n",
    "combined_bar_plot_3traces(xvalues=ping_summary[\"PROVIDER\"],\n",
    "                         yvalues1=ping_summary[\"max\"],\n",
    "                         yvalues2=ping_summary[\"mean\"],\n",
    "                         yvalues3=ping_summary[\"median\"],\n",
    "                         name1=\"Max\",\n",
    "                         name2=\"Mean\",\n",
    "                         name3=\"Median\",\n",
    "                         title=\"Ping latency by provider over the last \"+time_interval+ \" starting from \"+ starting_point,\n",
    "                         ytitle=\"Miliseconds\",\n",
    "                         xtitle=\"Provider\",\n",
    "                         stack=False,\n",
    "                         margin=True)"
   ]
  },
  {
   "cell_type": "markdown",
   "metadata": {},
   "source": [
    "Bell MTS has largest maximum spikes and TerraGo has largest median/average. "
   ]
  },
  {
   "cell_type": "markdown",
   "metadata": {},
   "source": [
    "### How often data is collected?\n",
    "\n",
    "Let's ceck device number 5 with the larges number of datapoints and (8 test servers, 2 providers)  and device number 8 with largest number of providers (3) and 4 test servers?"
   ]
  },
  {
   "cell_type": "code",
   "execution_count": null,
   "metadata": {},
   "outputs": [],
   "source": [
    "upload_df"
   ]
  },
  {
   "cell_type": "code",
   "execution_count": null,
   "metadata": {},
   "outputs": [],
   "source": [
    "upload_df.loc[upload_df['SK_PI']==11][['time','SK_PI', 'PROVIDER', 'server','UPLOAD']].head(10)"
   ]
  },
  {
   "cell_type": "code",
   "execution_count": null,
   "metadata": {},
   "outputs": [],
   "source": [
    "upload_df.loc[upload_df['SK_PI']==11][['time','SK_PI', 'PROVIDER', 'server','UPLOAD']].tail(5)"
   ]
  },
  {
   "cell_type": "code",
   "execution_count": null,
   "metadata": {},
   "outputs": [],
   "source": [
    "upload_df.loc[upload_df['SK_PI']==34][['time','SK_PI', 'PROVIDER', 'server','UPLOAD']].head(5)"
   ]
  },
  {
   "cell_type": "code",
   "execution_count": null,
   "metadata": {},
   "outputs": [],
   "source": [
    "upload_df.loc[upload_df['SK_PI']==34][['time','SK_PI', 'PROVIDER', 'server','UPLOAD']].tail(5)"
   ]
  },
  {
   "cell_type": "markdown",
   "metadata": {},
   "source": [
    " Looks like data is collected with 3 hours 42 mins intervals using different test servers. \n",
    " How is it determined which test server to use?"
   ]
  }
 ],
 "metadata": {
  "kernelspec": {
   "display_name": "Python 3",
   "language": "python",
   "name": "python3"
  },
  "language_info": {
   "codemirror_mode": {
    "name": "ipython",
    "version": 3
   },
   "file_extension": ".py",
   "mimetype": "text/x-python",
   "name": "python",
   "nbconvert_exporter": "python",
   "pygments_lexer": "ipython3",
   "version": "3.6.9"
  },
  "nbTranslate": {
   "displayLangs": [
    "*"
   ],
   "hotkey": "alt-t",
   "langInMainMenu": true,
   "sourceLang": "en",
   "targetLang": "fr",
   "useGoogleTranslate": true
  }
 },
 "nbformat": 4,
 "nbformat_minor": 2
}
