{
 "cells": [
  {
   "cell_type": "markdown",
   "metadata": {},
   "source": [
    "## Comparing iperf data to speedtest data"
   ]
  },
  {
   "cell_type": "code",
   "execution_count": null,
   "metadata": {},
   "outputs": [],
   "source": [
    "from data_exploration import *\n",
    "import numpy as np"
   ]
  },
  {
   "cell_type": "markdown",
   "metadata": {},
   "source": [
    "Since iperf data stopped coming at December 3rd 2018, we will choose December 4rd 2018 00:00 as a starting point and will select all data collected by iperf and speedtes back from this date:"
   ]
  },
  {
   "cell_type": "code",
   "execution_count": null,
   "metadata": {},
   "outputs": [],
   "source": [
    "#Set up starting point, by default if will start from current time\n",
    "#starting_point=datetime.now().strftime('%Y-%m-%d %H:%M:%S')\n",
    "starting_point=\"2018-12-04 00:00:00\"  # to set upl alternative starting point\n",
    "print(\"Starting point:\",starting_point )\n",
    "\n",
    "title_tail=\" to the date \"+ starting_point\n",
    "query_tail=\" AND time < '\"+starting_point+\"'\""
   ]
  },
  {
   "cell_type": "code",
   "execution_count": null,
   "metadata": {},
   "outputs": [],
   "source": [
    "#Set up influxdb connection:\n",
    "client, client_df = connect_to_influxdb()"
   ]
  },
  {
   "cell_type": "markdown",
   "metadata": {},
   "source": [
    "### Statistics by device"
   ]
  },
  {
   "cell_type": "markdown",
   "metadata": {},
   "source": [
    "#### Download speed"
   ]
  },
  {
   "cell_type": "code",
   "execution_count": null,
   "metadata": {},
   "outputs": [],
   "source": [
    "query_download1 = \"SELECT * FROM SPEEDTEST_IPERF_DOWNLOAD WHERE PROVIDER!='iperf' AND DOWNLOAD>0\"+ query_tail+\";\"\n",
    "download_df1 = get_dataframe_from_influxdb(client_df=client_df,query_influx=query_download1,table_name='SPEEDTEST_IPERF_DOWNLOAD')\n",
    "device_numbers_d1=download_df1['SK_PI'].unique()\n",
    "device_numbers_d1=list(map(int, device_numbers_d1))\n",
    "device_numbers_d1= sorted(device_numbers_d1)"
   ]
  },
  {
   "cell_type": "code",
   "execution_count": null,
   "metadata": {},
   "outputs": [],
   "source": [
    "query_download2 = \"SELECT * FROM SPEEDTEST_IPERF_DOWNLOAD WHERE PROVIDER='iperf' AND DOWNLOAD>0\"+ query_tail+\";\"\n",
    "download_df2 = get_dataframe_from_influxdb(client_df=client_df,query_influx=query_download2,table_name='SPEEDTEST_IPERF_DOWNLOAD')\n",
    "download_df2['DOWNLOAD']=download_df2['DOWNLOAD']*0.001\n",
    "device_numbers_d2=download_df2['SK_PI'].unique()\n",
    "device_numbers_d2=list(map(int, device_numbers_d2))\n",
    "device_numbers_d2= sorted(device_numbers_d2)"
   ]
  },
  {
   "cell_type": "code",
   "execution_count": null,
   "metadata": {},
   "outputs": [],
   "source": [
    "result1=pd.DataFrame(download_df1.groupby('SK_PI').size())\n",
    "result1.columns=['size1']\n",
    "\n",
    "result2=pd.DataFrame(download_df2.groupby('SK_PI').size())\n",
    "result2.columns=['size2']\n",
    "result=result2.join(result1,how='outer')\n",
    "#result"
   ]
  },
  {
   "cell_type": "code",
   "execution_count": null,
   "metadata": {},
   "outputs": [],
   "source": [
    "combined_bar_plot_2traces(xvalues=result.index.astype(int),\n",
    "                          yvalues1=result['size1'],\n",
    "                          yvalues2=result['size2'],\n",
    "                          name1='speedtest',\n",
    "                          name2='iperf',\n",
    "                          title=\"Comparing number of datapoints for speedtest and iperf\"+title_tail ,\n",
    "                          ytitle=\"Number of datapoints\")"
   ]
  },
  {
   "cell_type": "code",
   "execution_count": null,
   "metadata": {},
   "outputs": [],
   "source": [
    "t=\"Download speed by hour for speedtest VS iperf data\"+title_tail\n",
    "scatterplot_2groups(title=t,dataframe1=download_df1,dataframe2=download_df2,\n",
    "                    plot_value=\"DOWNLOAD\",ytitle=\"Download speed (Mbps)\")"
   ]
  },
  {
   "cell_type": "code",
   "execution_count": null,
   "metadata": {},
   "outputs": [],
   "source": [
    "boxplot_2groups(dataframe1=download_df1,dataframe2=download_df2,plot_value='DOWNLOAD',sort_value='SK_PI',\n",
    "               title=\"Download speed by device (orange - speedtest, purple - iperf)\"+title_tail,\n",
    "               ytitle=\"Mbps\", xtitle=\"Device number\", downloadline=True)"
   ]
  },
  {
   "cell_type": "code",
   "execution_count": null,
   "metadata": {},
   "outputs": [],
   "source": [
    "result11=pd.DataFrame(download_df1.groupby('SK_PI')['DOWNLOAD'].mean())\n",
    "result11.columns=['mean1']\n",
    "result12=pd.DataFrame(download_df1.groupby('SK_PI')['DOWNLOAD'].median())\n",
    "result12.columns=['median1']\n",
    "result1=result11.join(result12,how='outer')\n",
    "\n",
    "result21=pd.DataFrame(download_df2.groupby('SK_PI')['DOWNLOAD'].mean())\n",
    "result21.columns=['mean2']\n",
    "result22=pd.DataFrame(download_df2.groupby('SK_PI')['DOWNLOAD'].median())\n",
    "result22.columns=['median2']\n",
    "result2=result21.join(result22,how='outer')\n",
    "\n",
    "result=result2.join(result1,how='outer')\n",
    "#result"
   ]
  },
  {
   "cell_type": "code",
   "execution_count": null,
   "metadata": {},
   "outputs": [],
   "source": [
    "device_numbers_d=result.index\n",
    "download_line=go.Scatter(x=device_numbers_d,y=[50] * len(device_numbers_d), mode='markers',marker=dict(color='red'), name='50Mbps')\n",
    "\n",
    "combined_bar_plot_4traces(xvalues=result.index,\n",
    "                         yvalues1=result[\"mean1\"],\n",
    "                         yvalues2=result[\"mean2\"],\n",
    "                         yvalues3=result[\"median1\"],\n",
    "                         yvalues4=result[\"median2\"],\n",
    "                         name1=\"Mean speedtest\",\n",
    "                         name2=\"Mean iperf\",\n",
    "                         name3=\"Median speedtest\",\n",
    "                         name4=\"Median iperf\",\n",
    "                         title=\"Download speed by device\" +title_tail,\n",
    "                         ytitle=\"Mbps\",\n",
    "                         line=download_line,\n",
    "                         stack=False)"
   ]
  },
  {
   "cell_type": "code",
   "execution_count": null,
   "metadata": {},
   "outputs": [],
   "source": [
    "download_df1[\"hour\"]=pd.to_numeric(download_df1[\"time\"].dt.hour)\n",
    "download_df2[\"hour\"]=pd.to_numeric(download_df2[\"time\"].dt.hour)"
   ]
  },
  {
   "cell_type": "code",
   "execution_count": null,
   "metadata": {},
   "outputs": [],
   "source": [
    "device_number=2\n",
    "subset1=download_df1[download_df1[\"SK_PI\"]==device_number]\n",
    "subset2=download_df2[download_df2[\"SK_PI\"]==device_number]\n",
    "boxplot_2groups(dataframe1=subset1,dataframe2=subset2,plot_value='DOWNLOAD',sort_value='hour',\n",
    "               title=\"Download speed by hour for device: \"+str(device_number)+\" (orange - speedtest, purple - iperf)\"+title_tail,\n",
    "               ytitle=\"Mbps\", xtitle=\"Hour of the day\", downloadline=True)"
   ]
  },
  {
   "cell_type": "markdown",
   "metadata": {},
   "source": [
    "#### Upload speed"
   ]
  },
  {
   "cell_type": "code",
   "execution_count": null,
   "metadata": {},
   "outputs": [],
   "source": [
    "query_upload1 = \"SELECT * FROM SPEEDTEST_IPERF_UPLOAD WHERE PROVIDER!='iperf' AND UPLOAD>0\"+ query_tail+\";\"\n",
    "upload_df1 = get_dataframe_from_influxdb(client_df=client_df,query_influx=query_upload1,table_name='SPEEDTEST_IPERF_UPLOAD')\n",
    "device_numbers_u1=upload_df1['SK_PI'].unique()\n",
    "device_numbers_u1=list(map(int, device_numbers_u1))\n",
    "device_numbers_u1= sorted(device_numbers_u1)"
   ]
  },
  {
   "cell_type": "code",
   "execution_count": null,
   "metadata": {},
   "outputs": [],
   "source": [
    "query_upload2 = \"SELECT * FROM SPEEDTEST_IPERF_UPLOAD WHERE PROVIDER='iperf' AND UPLOAD>0\"+ query_tail+\";\"\n",
    "upload_df2 = get_dataframe_from_influxdb(client_df=client_df,query_influx=query_upload2,table_name='SPEEDTEST_IPERF_UPLOAD')\n",
    "upload_df2['UPLOAD']=upload_df2['UPLOAD']*0.001\n",
    "device_numbers_u2=download_df2['SK_PI'].unique()\n",
    "device_numbers_u2=list(map(int, device_numbers_u2))\n",
    "device_numbers_u2= sorted(device_numbers_u2)"
   ]
  },
  {
   "cell_type": "code",
   "execution_count": null,
   "metadata": {},
   "outputs": [],
   "source": [
    "t=\"Upload speed by device for speedtest vs iperf data\"+title_tail\n",
    "scatterplot_2groups(title=t,dataframe1=upload_df1,dataframe2=upload_df2,\n",
    "                    plot_value=\"UPLOAD\",ytitle=\"Upload speed (Mbps)\")"
   ]
  },
  {
   "cell_type": "code",
   "execution_count": null,
   "metadata": {},
   "outputs": [],
   "source": [
    "boxplot_2groups(dataframe1=upload_df1,dataframe2=upload_df2,plot_value='UPLOAD',sort_value='SK_PI',\n",
    "               title=\"Upload speed by device (orange - speedtest, purple - iperf)\"+title_tail,\n",
    "               ytitle=\"Mbps\", xtitle=\"Device number\", uploadline=True)"
   ]
  },
  {
   "cell_type": "code",
   "execution_count": null,
   "metadata": {},
   "outputs": [],
   "source": [
    "result11=pd.DataFrame(upload_df1.groupby('SK_PI')['UPLOAD'].mean())\n",
    "result11.columns=['mean1']\n",
    "result12=pd.DataFrame(upload_df1.groupby('SK_PI')['UPLOAD'].median())\n",
    "result12.columns=['median1']\n",
    "result1=result11.join(result12,how='outer')\n",
    "\n",
    "result21=pd.DataFrame(upload_df2.groupby('SK_PI')['UPLOAD'].mean())\n",
    "result21.columns=['mean2']\n",
    "result22=pd.DataFrame(upload_df2.groupby('SK_PI')['UPLOAD'].median())\n",
    "result22.columns=['median2']\n",
    "result2=result21.join(result22,how='outer')\n",
    "\n",
    "result=result2.join(result1,how='outer')\n",
    "#result"
   ]
  },
  {
   "cell_type": "code",
   "execution_count": null,
   "metadata": {},
   "outputs": [],
   "source": [
    "device_numbers_u=result.index\n",
    "upload_line=go.Scatter(x=device_numbers_d,y=[10] * len(device_numbers_u), mode='markers',marker=dict(color='red'), name='10Mbps')\n",
    "\n",
    "combined_bar_plot_4traces(xvalues=result.index,\n",
    "                         yvalues1=result[\"mean1\"],\n",
    "                         yvalues2=result[\"mean2\"],\n",
    "                         yvalues3=result[\"median1\"],\n",
    "                         yvalues4=result[\"median2\"],\n",
    "                         name1=\"Mean speedtest\",\n",
    "                         name2=\"Mean iperf\",\n",
    "                         name3=\"Median speedtest\",\n",
    "                         name4=\"Median iperf\",\n",
    "                         title=\"Upload speed by device\" +title_tail,\n",
    "                         ytitle=\"Mbps\",\n",
    "                         line=upload_line,\n",
    "                         stack=False)"
   ]
  },
  {
   "cell_type": "code",
   "execution_count": null,
   "metadata": {},
   "outputs": [],
   "source": [
    "upload_df1[\"hour\"]=pd.to_numeric(upload_df1[\"time\"].dt.hour)\n",
    "upload_df2[\"hour\"]=pd.to_numeric(upload_df2[\"time\"].dt.hour)"
   ]
  },
  {
   "cell_type": "code",
   "execution_count": null,
   "metadata": {},
   "outputs": [],
   "source": [
    "device_number=7\n",
    "subset1=upload_df1[upload_df1[\"SK_PI\"]==device_number]\n",
    "subset2=upload_df2[upload_df2[\"SK_PI\"]==device_number]\n",
    "boxplot_2groups(dataframe1=subset1,dataframe2=subset2,plot_value='UPLOAD',sort_value='hour',\n",
    "               title=\"Upload speed by hour for device: \"+str(device_number)+\" (orange - speedtest, purple - iperf)\"+title_tail,\n",
    "               ytitle=\"Mbps\", xtitle=\"Hour of the day\", uploadline=True)"
   ]
  },
  {
   "cell_type": "code",
   "execution_count": null,
   "metadata": {},
   "outputs": [],
   "source": [
    "upload_df1[\"time_group\"]=\"\"\n",
    "upload_df1.loc[(upload_df1[\"hour\"]>23)|(upload_df1[\"hour\"]<=7),\"time_group\"]=\"night 23:00-07:00\"\n",
    "upload_df1.loc[(upload_df1[\"hour\"]>7)&(upload_df1[\"hour\"]<=17),\"time_group\"]=\"day 7:00-17:00\"\n",
    "upload_df1.loc[(upload_df1[\"hour\"]>17)&(upload_df1[\"hour\"]<=23),\"time_group\"]=\"evening 17:00-23:00\"\n",
    "upload_df2[\"time_group\"]=\"\"\n",
    "upload_df2.loc[(upload_df2[\"hour\"]>23)|(upload_df2[\"hour\"]<=7),\"time_group\"]=\"night 23:00-07:00\"\n",
    "upload_df2.loc[(upload_df2[\"hour\"]>7)&(upload_df2[\"hour\"]<=17),\"time_group\"]=\"day 7:00-17:00\"\n",
    "upload_df2.loc[(upload_df2[\"hour\"]>17)&(upload_df2[\"hour\"]<=23),\"time_group\"]=\"evening 17:00-23:00\""
   ]
  },
  {
   "cell_type": "code",
   "execution_count": null,
   "metadata": {},
   "outputs": [],
   "source": [
    "device_number=7\n",
    "subset1=upload_df1[upload_df1[\"SK_PI\"]==device_number]\n",
    "subset2=upload_df2[upload_df2[\"SK_PI\"]==device_number]\n",
    "boxplot_2groups(dataframe1=subset1,dataframe2=subset2,plot_value='UPLOAD',sort_value='time_group',\n",
    "               title=\"Upload speed by time of the day for device: \"+str(device_number)+\" (orange - speedtest, purple - iperf)\"+title_tail,\n",
    "               ytitle=\"Mbps\", xtitle=\"\", uploadline=True, jitter=True)"
   ]
  },
  {
   "cell_type": "markdown",
   "metadata": {},
   "source": [
    "### Ping latency"
   ]
  },
  {
   "cell_type": "code",
   "execution_count": null,
   "metadata": {},
   "outputs": [],
   "source": [
    "query_ping1 = \"SELECT * FROM SPEEDTEST_IPERF_PING WHERE PROVIDER!='iperf' AND PING>0\"+ query_tail+\";\"\n",
    "ping_df1 = get_dataframe_from_influxdb(client_df=client_df,query_influx=query_ping1,table_name='SPEEDTEST_IPERF_PING')\n",
    "device_numbers_p1=ping_df1['SK_PI'].unique()\n",
    "device_numbers_p1=list(map(int, device_numbers_p1))\n",
    "device_numbers_p1= sorted(device_numbers_p1)"
   ]
  },
  {
   "cell_type": "code",
   "execution_count": null,
   "metadata": {},
   "outputs": [],
   "source": [
    "query_ping2 = \"SELECT * FROM SPEEDTEST_IPERF_PING WHERE PROVIDER='iperf' AND PING>0\"+ query_tail+\";\"\n",
    "ping_df2 = get_dataframe_from_influxdb(client_df=client_df,query_influx=query_ping2,table_name='SPEEDTEST_IPERF_PING')\n",
    "device_numbers_p2=ping_df2['SK_PI'].unique()\n",
    "device_numbers_p2=list(map(int, device_numbers_p2))\n",
    "device_numbers_p2= sorted(device_numbers_p2)"
   ]
  },
  {
   "cell_type": "code",
   "execution_count": null,
   "metadata": {},
   "outputs": [],
   "source": [
    "t=\"Ping latency by device for speedtest vs iperf data\"+title_tail\n",
    "scatterplot_2groups(title=t,dataframe1=ping_df1,dataframe2=ping_df2,\n",
    "                    plot_value=\"PING\",ytitle=\"Ping latency(Miliseconds)\")"
   ]
  },
  {
   "cell_type": "code",
   "execution_count": null,
   "metadata": {},
   "outputs": [],
   "source": [
    "boxplot_2groups(dataframe1=ping_df1,dataframe2=ping_df2,plot_value='PING',sort_value='SK_PI',\n",
    "               title=\"Ping latency by device (orange - speedtest, purple - iperf)\"+title_tail,\n",
    "               ytitle=\"Miliseconds\", xtitle=\"Device number\")"
   ]
  },
  {
   "cell_type": "code",
   "execution_count": null,
   "metadata": {},
   "outputs": [],
   "source": [
    "result11=pd.DataFrame(ping_df1.groupby('SK_PI')['PING'].mean())\n",
    "result11.columns=['mean1']\n",
    "result12=pd.DataFrame(ping_df1.groupby('SK_PI')['PING'].median())\n",
    "result12.columns=['median1']\n",
    "result1=result11.join(result12,how='outer')\n",
    "\n",
    "result21=pd.DataFrame(ping_df2.groupby('SK_PI')['PING'].mean())\n",
    "result21.columns=['mean2']\n",
    "result22=pd.DataFrame(ping_df2.groupby('SK_PI')['PING'].median())\n",
    "result22.columns=['median2']\n",
    "result2=result21.join(result22,how='outer')\n",
    "\n",
    "result=result2.join(result1,how='outer')\n",
    "#result"
   ]
  },
  {
   "cell_type": "code",
   "execution_count": null,
   "metadata": {},
   "outputs": [],
   "source": [
    "combined_bar_plot_4traces(xvalues=result.index,\n",
    "                         yvalues1=result[\"mean1\"],\n",
    "                         yvalues2=result[\"mean2\"],\n",
    "                         yvalues3=result[\"median1\"],\n",
    "                         yvalues4=result[\"median2\"],\n",
    "                         name1=\"Mean speedtest\",\n",
    "                         name2=\"Mean iperf\",\n",
    "                         name3=\"Median speedtest\",\n",
    "                         name4=\"Median iperf\",\n",
    "                         title=\"Ping latency by device\" +title_tail,\n",
    "                         ytitle=\"Miliseconds\",\n",
    "                         stack=False)"
   ]
  },
  {
   "cell_type": "code",
   "execution_count": null,
   "metadata": {},
   "outputs": [],
   "source": [
    "ping_df1[\"hour\"]=pd.to_numeric(ping_df1[\"time\"].dt.hour)\n",
    "ping_df2[\"hour\"]=pd.to_numeric(ping_df2[\"time\"].dt.hour)"
   ]
  },
  {
   "cell_type": "code",
   "execution_count": null,
   "metadata": {},
   "outputs": [],
   "source": [
    "by_hour_by_device_p1=mean_max_median_by2(input_dataframe=ping_df1,value1=\"PING\", value2=\"PING\",\n",
    "                                          value3=\"PING\",group_by_value=\"hour\", rename_columns=True)\n",
    "by_hour_by_device_p2=mean_max_median_by2(input_dataframe=ping_df2,value1=\"PING\", value2=\"PING\",\n",
    "                                          value3=\"PING\",group_by_value=\"hour\", rename_columns=True)"
   ]
  },
  {
   "cell_type": "code",
   "execution_count": null,
   "metadata": {},
   "outputs": [],
   "source": [
    "by_hour_by_device_p1=by_hour_by_device_p1[[\"SK_PI\",\"hour\",\"mean\",\"max\"]]\n",
    "by_hour_by_device_p1.columns=[\"SK_PI\",\"hour\",\"mean1\",\"max1\"]\n",
    "\n",
    "by_hour_by_device_p2=by_hour_by_device_p2[[\"SK_PI\",\"hour\",\"mean\",\"max\"]]\n",
    "by_hour_by_device_p2.columns=[\"SK_PI\",\"hour\",\"mean2\",\"max2\"]\n",
    "\n",
    "by_hour_by_device_p=pd.merge(by_hour_by_device_p1, by_hour_by_device_p2,how='outer', left_on=['SK_PI','hour'], right_on = ['SK_PI','hour'])"
   ]
  },
  {
   "cell_type": "code",
   "execution_count": null,
   "metadata": {},
   "outputs": [],
   "source": [
    "device_number=2\n",
    "subset=by_hour_by_device_p[by_hour_by_device_p[\"SK_PI\"]==device_number]\n",
    "combined_bar_plot_4traces(xvalues=subset[\"hour\"],\n",
    "                         yvalues1=subset[\"mean1\"],\n",
    "                         yvalues2=subset[\"mean2\"],\n",
    "                         yvalues3=subset[\"max1\"],\n",
    "                         yvalues4=subset[\"max2\"],\n",
    "                         name1=\"Mean speedtest\",\n",
    "                         name2=\"Mean iperf\",\n",
    "                         name3=\"Max speedtest\",\n",
    "                         name4=\"Max iperf\",\n",
    "                         title=\"Ping latency by hour for the device \" +str(device_number)+title_tail,\n",
    "                         ytitle=\"Miliseconds\",\n",
    "                         xtitle=\"Hour of the day\",\n",
    "                         stack=False)"
   ]
  },
  {
   "cell_type": "code",
   "execution_count": null,
   "metadata": {},
   "outputs": [],
   "source": [
    "subset1=ping_df1[ping_df1[\"SK_PI\"]==device_number]\n",
    "subset2=ping_df2[ping_df2[\"SK_PI\"]==device_number]\n",
    "boxplot_2groups(dataframe1=subset1,dataframe2=subset2,plot_value='PING',sort_value='hour',\n",
    "               title=\"Ping latency by hour for device: \"+str(device_number)+\" (orange - speedtest, purple - iperf)\"+title_tail,\n",
    "               ytitle=\"Miliseconds\", xtitle=\"Hour of the day\")"
   ]
  }
 ],
 "metadata": {
  "kernelspec": {
   "display_name": "Python 3",
   "language": "python",
   "name": "python3"
  },
  "language_info": {
   "codemirror_mode": {
    "name": "ipython",
    "version": 3
   },
   "file_extension": ".py",
   "mimetype": "text/x-python",
   "name": "python",
   "nbconvert_exporter": "python",
   "pygments_lexer": "ipython3",
   "version": "3.6.9"
  },
  "nbTranslate": {
   "displayLangs": [
    "*"
   ],
   "hotkey": "alt-t",
   "langInMainMenu": true,
   "sourceLang": "en",
   "targetLang": "fr",
   "useGoogleTranslate": true
  }
 },
 "nbformat": 4,
 "nbformat_minor": 2
}
