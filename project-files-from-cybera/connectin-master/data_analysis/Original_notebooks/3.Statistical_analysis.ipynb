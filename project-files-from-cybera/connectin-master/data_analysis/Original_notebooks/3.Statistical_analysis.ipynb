{
 "cells": [
  {
   "cell_type": "code",
   "execution_count": null,
   "metadata": {},
   "outputs": [],
   "source": [
    "#Load libraries:\n",
    "from data_statistics import *\n",
    "%matplotlib inline"
   ]
  },
  {
   "cell_type": "code",
   "execution_count": null,
   "metadata": {},
   "outputs": [],
   "source": [
    "all_data=False"
   ]
  },
  {
   "cell_type": "code",
   "execution_count": null,
   "metadata": {},
   "outputs": [],
   "source": [
    "#Collect all data?\n",
    "all_data=True\n",
    "\n",
    "#Set up test time interval:\n",
    "time_interval='4w' #2w\n",
    "\n",
    "#Set up starting point, by default if will start from current time\n",
    "starting_point=datetime.now().strftime('%Y-%m-%d %H:%M:%S')\n",
    "#starting_point=\"2019-01-24 14:00:00\"  # to set upl alternative starting point\n",
    "\n",
    "title_tail=\"\"\n",
    "query_tail=\"\"\n",
    "\n",
    "if not all_data:\n",
    "    ##tail to all the titles\n",
    "    title_tail=\" over the last \"+time_interval+ \" back  from \"+ starting_point\n",
    "    ##tail for all the influxdb queries\n",
    "    query_tail=\" AND time >= '\"+starting_point+\"'-\"+time_interval"
   ]
  },
  {
   "cell_type": "code",
   "execution_count": null,
   "metadata": {},
   "outputs": [],
   "source": [
    "if not all_data:#Set up test time interval:\n",
    "    print(\"Time interval: \", time_interval)\n",
    "    print(\"Starting point:\",starting_point )\n",
    "else:\n",
    "    print(\"Selecting all data from database\")"
   ]
  },
  {
   "cell_type": "code",
   "execution_count": null,
   "metadata": {},
   "outputs": [],
   "source": [
    "#Set up influxdb connection:\n",
    "client, client_df = connect_to_influxdb()"
   ]
  },
  {
   "cell_type": "code",
   "execution_count": null,
   "metadata": {},
   "outputs": [],
   "source": [
    "min_sample_size=100\n",
    "print(\"Minimum sample size:\",min_sample_size)"
   ]
  },
  {
   "cell_type": "markdown",
   "metadata": {},
   "source": [
    "## Download speed"
   ]
  },
  {
   "cell_type": "code",
   "execution_count": null,
   "metadata": {},
   "outputs": [],
   "source": [
    "query_download = \"SELECT * FROM SPEEDTEST_IPERF_DOWNLOAD WHERE PROVIDER!='iperf' AND DOWNLOAD>0\"+ query_tail+\";\"\n",
    "download_df = get_dataframe_from_influxdb(client_df=client_df,query_influx=query_download,table_name='SPEEDTEST_IPERF_DOWNLOAD')"
   ]
  },
  {
   "cell_type": "markdown",
   "metadata": {},
   "source": [
    "How many datapoints do we have?"
   ]
  },
  {
   "cell_type": "code",
   "execution_count": null,
   "metadata": {},
   "outputs": [],
   "source": [
    "result=pd.DataFrame(download_df.groupby('SK_PI').size())\n",
    "result.columns=['size']"
   ]
  },
  {
   "cell_type": "code",
   "execution_count": null,
   "metadata": {},
   "outputs": [],
   "source": [
    "simple_bar_plot(xvalues=result.index.astype(int),\n",
    "                yvalues=result['size'],\n",
    "                name=\"downpload datapoints\",\n",
    "                title=\"Number of data points per device\"+title_tail,\n",
    "                ytitle=\"Number of datapoints\")"
   ]
  },
  {
   "cell_type": "markdown",
   "metadata": {},
   "source": [
    "Sort out only results that have more than min number of samples:"
   ]
  },
  {
   "cell_type": "code",
   "execution_count": null,
   "metadata": {},
   "outputs": [],
   "source": [
    "tobe_excluded=result[result['size']<=min_sample_size].index\n",
    "download_df=download_df[~download_df['SK_PI'].isin(tobe_excluded)]"
   ]
  },
  {
   "cell_type": "code",
   "execution_count": null,
   "metadata": {},
   "outputs": [],
   "source": [
    "device_numbers_d=download_df['SK_PI'].unique()\n",
    "device_numbers_d=list(map(int, device_numbers_d))\n",
    "device_numbers_d= sorted(device_numbers_d)\n",
    "print(\"Devices that are going to be statistically tested:\",device_numbers_d)"
   ]
  },
  {
   "cell_type": "markdown",
   "metadata": {},
   "source": [
    "### 1.Test if data is normally distributed:"
   ]
  },
  {
   "cell_type": "markdown",
   "metadata": {},
   "source": [
    "#### Visual tests - Distribution plots"
   ]
  },
  {
   "cell_type": "code",
   "execution_count": null,
   "metadata": {},
   "outputs": [],
   "source": [
    "t='Distribution plots for download speed per device'+title_tail\n",
    "dist_subplots(dataframe=download_df,plot_value='DOWNLOAD',device_numbers=device_numbers_d, title=t)"
   ]
  },
  {
   "cell_type": "markdown",
   "metadata": {},
   "source": [
    "#### Visual tests - QQ plots\n",
    "Another popular plot for checking the distribution of a data sample is the quantile-quantile plot, Q-Q plot, or QQ plot for short.\n",
    "\n",
    "This plot generates its own sample of the idealized distribution that we are comparing with, in this case the Gaussian distribution. The idealized samples are divided into groups (e.g. 5), called quantiles. Each data point in the sample is paired with a similar member from the idealized distribution at the same cumulative distribution.\n",
    "\n",
    "The resulting points are plotted as a scatter plot with the idealized value on the x-axis and the data sample on the y-axis.\n",
    "\n",
    "A perfect match for the distribution will be if  dots are as close as possible to the line."
   ]
  },
  {
   "cell_type": "code",
   "execution_count": null,
   "metadata": {},
   "outputs": [],
   "source": [
    "num_cols=4\n",
    "num_rows=int(len(device_numbers_d)/num_cols)+1\n",
    "fig = plt.figure(figsize = (15, num_rows*3), facecolor = \"white\")\n",
    "i=1\n",
    "for device in device_numbers_d:\n",
    "    subset=download_df[download_df[\"SK_PI\"]==device]\n",
    "    ax = fig.add_subplot(num_rows, num_cols, i)\n",
    "    p = qq_plot(subset['DOWNLOAD'], ax,device_number=device)\n",
    "    i=i+1\n",
    "\n",
    "fig.tight_layout()"
   ]
  },
  {
   "cell_type": "markdown",
   "metadata": {},
   "source": [
    "#### Statistical tests"
   ]
  },
  {
   "cell_type": "markdown",
   "metadata": {},
   "source": [
    "We are going to perform 3 statistical tests to check if data is normally distributed:\n",
    "Shapiro-Wilk, Kolmogorov-Smirnov and D'Agostino's K-squared:\n",
    "  \n",
    "**H0** -  null hypothesis  - sample was drawn from a Gaussian(normal) distribution  \n",
    "**Ha** - altenative hypothesis - sample was not drawn from a Gaussian(normal) distribution\n",
    "we are going 95% confidence interval.\n",
    "   \n",
    "**Evaluation**:    \n",
    "    p-value <= alpha: reject H0, not normal.  \n",
    "    p-value > alpha: fail to reject H0, normal."
   ]
  },
  {
   "cell_type": "code",
   "execution_count": null,
   "metadata": {},
   "outputs": [],
   "source": [
    "alpha = 0.05\n",
    "\n",
    "matrix_sw = []\n",
    "for device in device_numbers_d:\n",
    "    subset=download_df[download_df[\"SK_PI\"]==device]\n",
    "    shapiro_results =scipy.stats.shapiro(subset['DOWNLOAD'])\n",
    "    ks_results = scipy.stats.kstest(subset['DOWNLOAD'], cdf='norm',args=(subset['DOWNLOAD'].mean(), subset['DOWNLOAD'].std()))\n",
    "    dagostino_results = scipy.stats.normaltest(subset['DOWNLOAD'])\n",
    "    matrix_sw.append(\n",
    "    [device, len(subset['DOWNLOAD']) - 1, shapiro_results[0], shapiro_results[1], ks_results[0], ks_results[1],\n",
    "    dagostino_results[0], dagostino_results[1]])\n",
    "\n",
    "df = pd.DataFrame(matrix_sw)\n",
    "\n",
    "df.columns=['Device number', 'Degrees of freedom', 'Shapiro-Wilk Test Statistic', 'Shapiro-Wilk p-value',\n",
    "     'Kolmogorov-Smirnov test Statistic','Kolmogorov-Smirnov p-value',\n",
    "     \"D'Agostino's K-squared test Statistic\",\"D'Agostino's K-squared p-value\" ]\n",
    "\n",
    "df=df.reset_index().set_index(\"Device number\")\n",
    "df.drop(['index'], axis=1, inplace=True)\n",
    "df[\"Shapiro-Wilk\"]='n'\n",
    "df.loc[(df[\"Shapiro-Wilk p-value\"]>alpha),\"Shapiro-Wilk\"]='y'\n",
    "df[\"Kolmogorov-Smirnov\"]='n'\n",
    "df.loc[(df[\"Kolmogorov-Smirnov p-value\"]>alpha),\"Kolmogorov-Smirnov\"]='y'\n",
    "df[\"D'Agostino's K-squared\"]='n'\n",
    "df.loc[(df[\"D'Agostino's K-squared p-value\"]>alpha),\"D'Agostino's K-squared\"]='y'\n",
    "\n",
    "result=df[[\"Shapiro-Wilk\",\"Kolmogorov-Smirnov\",\"D'Agostino's K-squared\"]]\n",
    "result_table = ff.create_table(result, index=True)\n",
    "iplot(result_table)"
   ]
  },
  {
   "cell_type": "markdown",
   "metadata": {},
   "source": [
    "Comparing with visualizations, Kolmogorov-Smirinov test looks right."
   ]
  },
  {
   "cell_type": "code",
   "execution_count": null,
   "metadata": {},
   "outputs": [],
   "source": [
    "normally_distributed_d=list(result[result[\"Kolmogorov-Smirnov\"]=='y'].index)\n",
    "not_normally_distributed_d=list(result[result[\"Kolmogorov-Smirnov\"]=='n'].index)\n",
    "print(\"Normally distributed devices according to the Kolmogorov-Smirnov test: \",normally_distributed_d)"
   ]
  },
  {
   "cell_type": "markdown",
   "metadata": {},
   "source": [
    "### 2.Test if mean of the population of normally distributed data statistically different from the threshold of 50Mbps:\n",
    "A t-test is commonly used to determine whether the mean of a population significantly differs from a specific value (called the hypothesized mean) or from the mean of another population."
   ]
  },
  {
   "cell_type": "markdown",
   "metadata": {},
   "source": [
    "For normally distributed devices  - how far are they from the treshold of 50Mbps?   \n",
    "**H0** - null hypothesis - mean is = 50 (less than 50?)  \n",
    "**Ha** - altenative hypothesis -mean is greater than 50  \n",
    "\n",
    "Confidence interval 95%\n",
    "\n",
    "**1-tailed 1-sample t-test**:  \n",
    "p/2 <= alpha: reject H0    \n",
    "t-statistics> 0 and p/2 > alpha: fail to reject H0, mean is greater than 50  "
   ]
  },
  {
   "cell_type": "code",
   "execution_count": null,
   "metadata": {},
   "outputs": [],
   "source": [
    "true_mean = 50\n",
    "alpha = 0.05\n",
    "list_t = []\n",
    "for device in normally_distributed_d:\n",
    "#for device in device_numbers_d:\n",
    "    subset=download_df[download_df[\"SK_PI\"]==device]\n",
    "    onesample_results = scipy.stats.ttest_1samp(subset[\"DOWNLOAD\"], true_mean)\n",
    "    list_t.append(\n",
    "    [device, round(subset[\"DOWNLOAD\"].mean(),2), round(subset[\"DOWNLOAD\"].std(),2), round(onesample_results[0],2), onesample_results[1]/2])\n",
    "\n",
    "df1 = pd.DataFrame(list_t)\n",
    "\n",
    "df1.columns=['Device number',\"Mean\",\"Standart deviation\",\"t-statistics\",\"p-value/2\"]\n",
    "df1=df1.reset_index().set_index(\"Device number\")\n",
    "df1 = df1.drop('index', 1)\n",
    "df1[\"Statistically > 50Mbps\"]='n'\n",
    "df1.loc[(df1[\"t-statistics\"]>0) & (df1[\"p-value/2\"]< alpha),\"Statistically > 50Mbps\"]='y'\n",
    "\n",
    "result_table = ff.create_table(df1, index=True)\n",
    "iplot(result_table)\n",
    "#for device in normally_distributed_d:\n",
    "#    subset=download_df[download_df[\"SK_PI\"]==device]\n",
    "#    onesample_results = scipy.stats.ttest_1samp(subset[\"DOWNLOAD\"], true_mu)\n",
    "#   print(\"Device number: \", device)\n",
    "#    print(\"Mean: \",subset[\"DOWNLOAD\"].mean())\n",
    "#    print(\"Standart deviation: \",subset[\"DOWNLOAD\"].std())\n",
    "#    print(\" \",onesample_results)\n",
    "#    if (onesample_results[0] > 0) & (onesample_results[1]/2 < alpha):\n",
    "#        print(\"Reject the null hypothesis, mean is greater than {}\".format(true_mu))\n",
    "#    else:\n",
    "#        print(\"Accept the null hypothesis\")\n",
    "#    print(\"\")"
   ]
  },
  {
   "cell_type": "code",
   "execution_count": null,
   "metadata": {},
   "outputs": [],
   "source": [
    "t=\"Download speed by device \"+title_tail\n",
    "#simple_boxplot(dataframe=download_df,plot_value='DOWNLOAD',sort_value='SK_PI',\n",
    "simple_boxplot(dataframe=download_df[download_df[\"SK_PI\"].isin(normally_distributed_d)],plot_value='DOWNLOAD',sort_value='SK_PI',\n",
    "               title=t, \n",
    "               ytitle=\"Download speed (Mbps)\",\n",
    "               xtitle=\"Device number\", downloadline=True, jitter=True)"
   ]
  },
  {
   "cell_type": "markdown",
   "metadata": {},
   "source": [
    "### 3.Test if data that is not normally distributed  statistically different from the threshold of 50Mbps\n"
   ]
  },
  {
   "cell_type": "code",
   "execution_count": null,
   "metadata": {},
   "outputs": [],
   "source": [
    "print(\"Devices with data not normally distributed: \",not_normally_distributed_d)"
   ]
  },
  {
   "cell_type": "markdown",
   "metadata": {},
   "source": [
    "If the download speed distribution is not normal, the mean has an unknown\n",
    "distribution and strictly speaking the t-test is inapplicable. However according to\n",
    "the central limit theorem, as the sample size increases, the distribution of the\n",
    "mean tends to be normal. Therefore if the sample size is big enough, the t-test\n",
    "and confidence interval are valid even if the download speed is not from a normal\n",
    "distribution.\n",
    "\n",
    "We will create 500 samples with replacement with 45 values each and calculate mean for every sample:\n",
    "(https://drive.google.com/file/d/1SuOqkR38tB5f5-iUINXKgQvh871f-jjC/view) SamKnows recommends using 1000 samples (sample size 45)"
   ]
  },
  {
   "cell_type": "code",
   "execution_count": null,
   "metadata": {},
   "outputs": [],
   "source": [
    "sample_size_r=45\n",
    "num_samples_r=500\n",
    "matrix_r=[]\n",
    "for device in not_normally_distributed_d:\n",
    "    list_r=[]\n",
    "    subset=download_df[download_df[\"SK_PI\"]==device]\n",
    "    for i in range(num_samples_r):\n",
    "        sample = resample(subset[\"DOWNLOAD\"], replace=True, n_samples=sample_size_r, random_state=i)\n",
    "        list_r.append(sample.mean())\n",
    "    matrix_r.append([device]+list_r)\n",
    "    \n",
    "df_r = pd.DataFrame(matrix_r)\n",
    "df_r=df_r.transpose()\n",
    "df_r.columns = df_r.iloc[0]\n",
    "df_r=df_r.reindex(df_r.index.drop(0))\n",
    "df_r.head()"
   ]
  },
  {
   "cell_type": "markdown",
   "metadata": {},
   "source": [
    "#### Visual check for resampled means: QQplots"
   ]
  },
  {
   "cell_type": "code",
   "execution_count": null,
   "metadata": {},
   "outputs": [],
   "source": [
    "num_cols=4\n",
    "num_rows=int(len(not_normally_distributed_d)/num_cols)+1\n",
    "fig = plt.figure(figsize = (15, num_rows*3), facecolor = \"white\")\n",
    "i=1\n",
    "for device in not_normally_distributed_d:\n",
    "    subset=df_r[device]\n",
    "    ax = fig.add_subplot(num_rows, num_cols, i)\n",
    "    p = qq_plot(subset, ax,device_number=device)\n",
    "    i=i+1\n",
    "\n",
    "fig.tight_layout()"
   ]
  },
  {
   "cell_type": "markdown",
   "metadata": {},
   "source": [
    "#### Statistical checks for resampled means"
   ]
  },
  {
   "cell_type": "code",
   "execution_count": null,
   "metadata": {},
   "outputs": [],
   "source": [
    "alpha = 0.05\n",
    "\n",
    "matrix_sw = []\n",
    "for device in not_normally_distributed_d:\n",
    "    subset=df_r[device]\n",
    "    shapiro_results =scipy.stats.shapiro(subset)\n",
    "    ks_results = scipy.stats.kstest(subset, cdf='norm',args=(subset.mean(), subset.std()))\n",
    "    dagostino_results = scipy.stats.normaltest(subset)\n",
    "    matrix_sw.append(\n",
    "    [device, len(subset) - 1, shapiro_results[0], shapiro_results[1], ks_results[0], ks_results[1],\n",
    "     dagostino_results[0], dagostino_results[1]])\n",
    "\n",
    "df = pd.DataFrame(matrix_sw)\n",
    "\n",
    "df.columns=['Device number', 'Degrees of freedom', 'Shapiro-Wilk Test Statistic', 'Shapiro-Wilk p-value',\n",
    "     'Kolmogorov-Smirnov test Statistic','Kolmogorov-Smirnov p-value',\n",
    "     \"D'Agostino's K-squared test Statistic\",\"D'Agostino's K-squared p-value\" ]\n",
    "\n",
    "df=df.reset_index().set_index(\"Device number\")\n",
    "df.drop(['index'], axis=1, inplace=True)\n",
    "df[\"Shapiro-Wilk\"]='n'\n",
    "df.loc[(df[\"Shapiro-Wilk p-value\"]>alpha),\"Shapiro-Wilk\"]='y'\n",
    "df[\"Kolmogorov-Smirnov\"]='n'\n",
    "df.loc[(df[\"Kolmogorov-Smirnov p-value\"]>alpha),\"Kolmogorov-Smirnov\"]='y'\n",
    "df[\"D'Agostino's K-squared\"]='n'\n",
    "df.loc[(df[\"D'Agostino's K-squared p-value\"]>alpha),\"D'Agostino's K-squared\"]='y'\n",
    "\n",
    "result=df[[\"Shapiro-Wilk\",\"Kolmogorov-Smirnov\",\"D'Agostino's K-squared\"]]\n",
    "result_table = ff.create_table(result, index=True)\n",
    "iplot(result_table)"
   ]
  },
  {
   "cell_type": "markdown",
   "metadata": {},
   "source": [
    "Almost all of the resampled data loooks normaly distribured according to the Kolmogorov-Smirnov test (except for device #2)"
   ]
  },
  {
   "cell_type": "code",
   "execution_count": null,
   "metadata": {},
   "outputs": [],
   "source": [
    "normally_distributed_d1=list(result[result[\"Kolmogorov-Smirnov\"]=='y'].index)\n",
    "print(\"Normally distributed devices according to the Kolmogorov-Smirnov test: \",normally_distributed_d1)"
   ]
  },
  {
   "cell_type": "markdown",
   "metadata": {},
   "source": [
    "### t-tests for resampled means"
   ]
  },
  {
   "cell_type": "code",
   "execution_count": null,
   "metadata": {},
   "outputs": [],
   "source": [
    "true_mean = 50\n",
    "alpha = 0.05\n",
    "list_t = []\n",
    "for device in normally_distributed_d1:\n",
    "    subset=df_r[device]\n",
    "    onesample_results = scipy.stats.ttest_1samp(subset, true_mean)\n",
    "    list_t.append(\n",
    "    [device, round(subset.mean(),2), round(subset.std(),2), round(onesample_results[0],2), onesample_results[1]/2])\n",
    "\n",
    "df2 = pd.DataFrame(list_t)\n",
    "\n",
    "df2.columns=['Device number',\"Mean\",\"Standart deviation\",\"t-statistics\",\"p-value/2\"]\n",
    "df2=df2.reset_index().set_index(\"Device number\")\n",
    "df2 = df2.drop('index', 1)\n",
    "df2[\"Statistically > 50Mbps\"]='n'\n",
    "df2.loc[(df2[\"t-statistics\"]>0) & (df2[\"p-value/2\"]< alpha),\"Statistically > 50Mbps\"]='y'\n",
    "\n",
    "result_table = ff.create_table(df2, index=True)\n",
    "iplot(result_table)"
   ]
  },
  {
   "cell_type": "code",
   "execution_count": null,
   "metadata": {
    "scrolled": false
   },
   "outputs": [],
   "source": [
    "t=\"Download speed by device \"+title_tail\n",
    "#simple_boxplot(dataframe=download_df,plot_value='DOWNLOAD',sort_value='SK_PI',\n",
    "simple_boxplot(dataframe=download_df[download_df[\"SK_PI\"].isin(not_normally_distributed_d)],plot_value='DOWNLOAD',sort_value='SK_PI',\n",
    "               title=t, \n",
    "               ytitle=\"Download speed (Mbps)\",\n",
    "               xtitle=\"Device number\", downloadline=True, jitter=True)"
   ]
  },
  {
   "cell_type": "markdown",
   "metadata": {},
   "source": [
    "### Combining the results"
   ]
  },
  {
   "cell_type": "code",
   "execution_count": null,
   "metadata": {},
   "outputs": [],
   "source": [
    "df_result=df2.append(df1)\n",
    "df_result.sort_index(inplace=True)\n",
    "#df_result"
   ]
  },
  {
   "cell_type": "code",
   "execution_count": null,
   "metadata": {},
   "outputs": [],
   "source": [
    "download_df[\"above50\"]=0\n",
    "download_df.loc[(download_df[\"DOWNLOAD\"]>50),\"above50\"]=1"
   ]
  },
  {
   "cell_type": "code",
   "execution_count": null,
   "metadata": {},
   "outputs": [],
   "source": [
    "summary_download=download_df.groupby(\"SK_PI\")['above50'].count().reset_index()\n",
    "summary_download.rename(columns={'above50':'download_count'}, inplace=True)\n",
    "\n",
    "mean_download=round(download_df.groupby(\"SK_PI\")['DOWNLOAD'].mean(),2).reset_index()\n",
    "mean_download.rename(columns={'DOWNLOAD':'download_mean'}, inplace=True)\n",
    "\n",
    "std_download=round(download_df.groupby(\"SK_PI\")['DOWNLOAD'].std(),2).reset_index()\n",
    "std_download.rename(columns={'DOWNLOAD':'download_std'}, inplace=True)\n",
    "\n",
    "subset_above50=download_df[download_df['above50']==1]\n",
    "summary_above50=subset_above50.groupby(\"SK_PI\")['above50'].count().reset_index()\n",
    "summary_above50.rename(columns={'above50':'download_above50'}, inplace=True)\n",
    "\n",
    "summary_download=pd.merge(summary_download, summary_above50,  how='outer', left_on=['SK_PI'], right_on = ['SK_PI'])\n",
    "summary_download=pd.merge(summary_download, mean_download,  how='outer', left_on=['SK_PI'], right_on = ['SK_PI'])\n",
    "summary_download=pd.merge(summary_download, std_download,  how='outer', left_on=['SK_PI'], right_on = ['SK_PI'])\n",
    "\n",
    "summary_download.fillna(0, inplace=True)\n",
    "summary_download['Download speeds more than 50  Mbps  (%)']=round(summary_download['download_above50']/summary_download['download_count']*100)\n",
    "summary_download=summary_download.sort_values(by=['SK_PI'], ascending=[True])\n",
    "summary_download[\"Device number\"]=summary_download[\"SK_PI\"]\n",
    "summary_download=summary_download.reset_index().set_index(\"Device number\")\n",
    "summary_download.drop(['index','SK_PI'], axis=1, inplace=True)\n",
    "#summary_download[[\"download_mean\",\"download_std\",\"Download speeds less than 50  Mbps  (%)\"]]"
   ]
  },
  {
   "cell_type": "code",
   "execution_count": null,
   "metadata": {},
   "outputs": [],
   "source": [
    "summary_download=summary_download.join(df_result,how=\"outer\")\n",
    "summary_download[[\"download_mean\",\"download_std\",\"Download speeds more than 50  Mbps  (%)\",\"Statistically > 50Mbps\"]]"
   ]
  },
  {
   "cell_type": "code",
   "execution_count": null,
   "metadata": {},
   "outputs": [],
   "source": [
    "t=\"Download speed by device \"+title_tail\n",
    "simple_boxplot(dataframe=download_df,plot_value='DOWNLOAD',sort_value='SK_PI',\n",
    "               title=t, \n",
    "               ytitle=\"Download speed (Mbps)\",\n",
    "               xtitle=\"Device number\", downloadline=True, jitter=True)"
   ]
  },
  {
   "cell_type": "markdown",
   "metadata": {},
   "source": [
    "Its questionable for device 14 - 57%of datapoints is above 50Mbs, mean of the sample is 92Mbps and statistical tests show that mean of the population is more than 50Mbs as well."
   ]
  },
  {
   "cell_type": "markdown",
   "metadata": {},
   "source": [
    "## Ping latency(speedtest)\n",
    "We are checking data that is coming from speedtest  - so it has the same number of datapoints as download speed. We will exclude devices with number of datapoints less than minimum sample size."
   ]
  },
  {
   "cell_type": "code",
   "execution_count": null,
   "metadata": {},
   "outputs": [],
   "source": [
    "query_ping = \"SELECT * FROM SPEEDTEST_IPERF_PING WHERE PROVIDER!='iperf' AND PING>0\"+ query_tail+\";\"\n",
    "ping_df = get_dataframe_from_influxdb(client_df=client_df,query_influx=query_ping,table_name='SPEEDTEST_IPERF_PING')"
   ]
  },
  {
   "cell_type": "code",
   "execution_count": null,
   "metadata": {},
   "outputs": [],
   "source": [
    "ping_df = ping_df[ping_df.PING != 1800000.000]"
   ]
  },
  {
   "cell_type": "code",
   "execution_count": null,
   "metadata": {},
   "outputs": [],
   "source": [
    "result=pd.DataFrame(ping_df.groupby('SK_PI').size())\n",
    "result.columns=['size']"
   ]
  },
  {
   "cell_type": "code",
   "execution_count": null,
   "metadata": {},
   "outputs": [],
   "source": [
    "#simple_bar_plot(xvalues=result.index.astype(int),\n",
    "#                yvalues=result['size'],\n",
    "#                name=\"ping datapoints\",\n",
    "#                title=\"Number of data points per device\"+title_tail,\n",
    "#                ytitle=\"Number of datapoints\")"
   ]
  },
  {
   "cell_type": "code",
   "execution_count": null,
   "metadata": {},
   "outputs": [],
   "source": [
    "tobe_excluded=result[result['size']<=min_sample_size].index\n",
    "ping_df=ping_df[~ping_df['SK_PI'].isin(tobe_excluded)]\n",
    "device_numbers_p=ping_df['SK_PI'].unique()\n",
    "device_numbers_p=list(map(int, device_numbers_p))\n",
    "device_numbers_p= sorted(device_numbers_p)\n",
    "print(\"Devices that are going to be statistically tested:\",device_numbers_p)"
   ]
  },
  {
   "cell_type": "markdown",
   "metadata": {},
   "source": [
    "### 1.Test if data is normally distributed:"
   ]
  },
  {
   "cell_type": "code",
   "execution_count": null,
   "metadata": {},
   "outputs": [],
   "source": [
    "t='Distribution plots for ping latency per device'+title_tail\n",
    "dist_subplots(dataframe=ping_df,plot_value='PING',device_numbers=device_numbers_p, title=t)"
   ]
  },
  {
   "cell_type": "code",
   "execution_count": null,
   "metadata": {},
   "outputs": [],
   "source": [
    "num_cols=4\n",
    "num_rows=int(len(device_numbers_p)/num_cols)+1\n",
    "fig = plt.figure(figsize = (15, num_rows*3), facecolor = \"white\")\n",
    "i=1\n",
    "for device in device_numbers_p:\n",
    "    subset=ping_df[ping_df[\"SK_PI\"]==device]\n",
    "    ax = fig.add_subplot(num_rows, num_cols, i)\n",
    "    p = qq_plot(subset['PING'], ax,device_number=device)\n",
    "    i=i+1\n",
    "\n",
    "fig.tight_layout()"
   ]
  },
  {
   "cell_type": "code",
   "execution_count": null,
   "metadata": {},
   "outputs": [],
   "source": [
    "matrix_sw = []\n",
    "\n",
    "for device in device_numbers_p:\n",
    "    subset=ping_df[ping_df[\"SK_PI\"]==device]\n",
    "    shapiro_results =scipy.stats.shapiro(subset['PING'])\n",
    "    ks_results = scipy.stats.kstest(subset['PING'], cdf='norm',args=(subset['PING'].mean(),subset['PING'].std()))\n",
    "    dagostino_results = scipy.stats.normaltest(subset['PING'])\n",
    "\n",
    "    matrix_sw.append(\n",
    "    [device, len(subset['PING']) - 1, shapiro_results[0], shapiro_results[1], ks_results[0], ks_results[1],\n",
    "     dagostino_results[0], dagostino_results[1]])\n",
    "\n",
    "df = pd.DataFrame(matrix_sw)\n",
    "\n",
    "df.columns=['Device number', 'Degrees of freedom', 'Shapiro-Wilk Test Statistic', 'Shapiro-Wilk p-value',\n",
    "     'Kolmogorov-Smirnov test Statistic','Kolmogorov-Smirnov p-value',\n",
    "     \"D'Agostino's K-squared test Statistic\",\"D'Agostino's K-squared p-value\" ]    \n",
    "    \n",
    "df=df.reset_index().set_index(\"Device number\")\n",
    "#df.drop(['index'], axis=1, inplace=True)\n",
    "df[\"Shapiro-Wilk\"]='n'\n",
    "df.loc[(df[\"Shapiro-Wilk p-value\"]>alpha),\"Shapiro-Wilk\"]='y'\n",
    "df[\"Kolmogorov-Smirnov\"]='n'\n",
    "df.loc[(df[\"Kolmogorov-Smirnov p-value\"]>alpha),\"Kolmogorov-Smirnov\"]='y'\n",
    "df[\"D'Agostino's K-squared\"]='n'\n",
    "df.loc[(df[\"D'Agostino's K-squared p-value\"]>alpha),\"D'Agostino's K-squared\"]='y'\n",
    "\n",
    "result=df[[\"Shapiro-Wilk\",\"Kolmogorov-Smirnov\",\"D'Agostino's K-squared\"]]\n",
    "result_table = ff.create_table(result, index=True)\n",
    "iplot(result_table)"
   ]
  },
  {
   "cell_type": "code",
   "execution_count": null,
   "metadata": {},
   "outputs": [],
   "source": [
    "normally_distributed_p=list(result[result[\"Kolmogorov-Smirnov\"]=='y'].index)\n",
    "not_normally_distributed_p=list(result[result[\"Kolmogorov-Smirnov\"]=='n'].index)\n",
    "print(\"Normally distributed devices according to the Kolmogorov-Smirnov test: \",normally_distributed_p)"
   ]
  },
  {
   "cell_type": "markdown",
   "metadata": {},
   "source": [
    "### 2.Test if mean of normally distributed data statistically different from the mean of data coming  from control device #3:"
   ]
  },
  {
   "cell_type": "markdown",
   "metadata": {},
   "source": [
    "For normally distributed devices  - how far means are from the control dataset? \n",
    "\n",
    "**H0** - null hypothesis - means are equal   \n",
    "**Ha** - altenative hypothesis - means are not equal  \n",
    "confidence interval -95%\n",
    "\n",
    "**2-tailed 2-sample t-test**:  \n",
    "p <= alpha: reject H0(means are equal)  \n",
    "p > alpha: fail to reject H0, means are not equal  "
   ]
  },
  {
   "cell_type": "code",
   "execution_count": null,
   "metadata": {},
   "outputs": [],
   "source": [
    "control_subset=ping_df[ping_df[\"SK_PI\"]==3]\n",
    "alpha = 0.05\n",
    "list_t = []\n",
    "for device in normally_distributed_p:\n",
    "    subset=ping_df[ping_df[\"SK_PI\"]==device]\n",
    "    onesample_results = scipy.stats.ttest_ind(control_subset[\"PING\"],subset[\"PING\"], equal_var=False)\n",
    "    list_t.append(\n",
    "    [device, round(subset[\"PING\"].mean(),2), round(subset[\"PING\"].std(),2), round(onesample_results[0],2), onesample_results[1]])\n",
    "\n",
    "df1 = pd.DataFrame(list_t)\n",
    "\n",
    "df1.columns=['Device number',\"Mean\",\"Standart deviation\",\"t-statistics\",\"p-value\"]\n",
    "df1=df1.reset_index().set_index(\"Device number\")\n",
    "df1 = df1.drop('index', 1)\n",
    "df1[\"Statistically different to CD\"]='n'\n",
    "df1.loc[(df1[\"p-value\"]< alpha),\"Statistically different to CD\"]='y'\n",
    "\n",
    "result_table = ff.create_table(df1, index=True)\n",
    "#df1\n",
    "iplot(result_table)\n",
    "#alpha = 0.05\n",
    "#control_subset=ping_df[ping_df[\"SK_PI\"]==3]\n",
    "#print(\"Control subset device number: \", device)\n",
    "#print(\"Control subset mean: \",control_subset[\"PING\"].mean())\n",
    "#print(\"Control subset standart deviation: \",control_subset[\"PING\"].std())\n",
    "#print(\"\")\n",
    "\n",
    "#for device in normally_distributed_p:\n",
    "#    subset=ping_df[ping_df[\"SK_PI\"]==device]\n",
    "#    results = scipy.stats.ttest_ind(control_subset[\"PING\"],subset[\"PING\"], equal_var=False)\n",
    "#    print(\"Device number: \", device)\n",
    "#    print(\"Mean: \",subset[\"PING\"].mean())\n",
    "#    print(\"Standart deviation: \",subset[\"PING\"].std())\n",
    "#    print(\" \",results)\n",
    "#    if (results[1] < alpha):\n",
    "#        print(\"Reject the null hypothesis, means are not equal\")\n",
    "#    else:\n",
    "#        print(\"Accept the null hypothesis,means are equal\")\n",
    " #   print(\"\")\n",
    "\n",
    "# pvalue <<< 0.05 reject null hypothesis, weight mean between male and female are not equal"
   ]
  },
  {
   "cell_type": "code",
   "execution_count": null,
   "metadata": {},
   "outputs": [],
   "source": [
    "normally_distributed_p.append(3)\n",
    "t=\"Ping latency  by device \"+title_tail\n",
    "simple_boxplot(dataframe=ping_df[ping_df[\"SK_PI\"].isin(normally_distributed_p)],plot_value='PING',sort_value='SK_PI',\n",
    "               title=t, \n",
    "               ytitle=\"Ping latency (Miliseconds)\",\n",
    "               xtitle=\"Device number\")"
   ]
  },
  {
   "cell_type": "markdown",
   "metadata": {},
   "source": [
    "### 3.Test if mean of not normally distributed data statistically different from the mean of data coming  from control device #3:"
   ]
  },
  {
   "cell_type": "code",
   "execution_count": null,
   "metadata": {},
   "outputs": [],
   "source": [
    "print(\"Devices with data not normally distributed: \",not_normally_distributed_p)"
   ]
  },
  {
   "cell_type": "code",
   "execution_count": null,
   "metadata": {},
   "outputs": [],
   "source": [
    "sample_size_r=45\n",
    "num_samples_r=500\n",
    "matrix_r=[]\n",
    "for device in not_normally_distributed_p:\n",
    "    list_r=[]\n",
    "    subset=ping_df[ping_df[\"SK_PI\"]==device]\n",
    "    for i in range(num_samples_r):\n",
    "        sample = resample(subset[\"PING\"], replace=True, n_samples=sample_size_r, random_state=i)\n",
    "        list_r.append(sample.mean())\n",
    "    matrix_r.append([device]+list_r)\n",
    "    \n",
    "df_r = pd.DataFrame(matrix_r)\n",
    "df_r=df_r.transpose()\n",
    "df_r.columns = df_r.iloc[0]\n",
    "df_r=df_r.reindex(df_r.index.drop(0))\n",
    "df_r.head()"
   ]
  },
  {
   "cell_type": "code",
   "execution_count": null,
   "metadata": {},
   "outputs": [],
   "source": [
    "alpha = 0.05\n",
    "\n",
    "matrix_sw = []\n",
    "for device in not_normally_distributed_p:\n",
    "    subset=df_r[device]\n",
    "    shapiro_results =scipy.stats.shapiro(subset)\n",
    "    ks_results = scipy.stats.kstest(subset, cdf='norm',args=(subset.mean(), subset.std()))\n",
    "    dagostino_results = scipy.stats.normaltest(subset)\n",
    "    matrix_sw.append(\n",
    "    [device, len(subset) - 1, shapiro_results[0], shapiro_results[1], ks_results[0], ks_results[1],\n",
    "     dagostino_results[0], dagostino_results[1]])\n",
    "\n",
    "df = pd.DataFrame(matrix_sw)\n",
    "\n",
    "df.columns=['Device number', 'Degrees of freedom', 'Shapiro-Wilk Test Statistic', 'Shapiro-Wilk p-value',\n",
    "     'Kolmogorov-Smirnov test Statistic','Kolmogorov-Smirnov p-value',\n",
    "     \"D'Agostino's K-squared test Statistic\",\"D'Agostino's K-squared p-value\" ]\n",
    "\n",
    "df=df.reset_index().set_index(\"Device number\")\n",
    "df.drop(['index'], axis=1, inplace=True)\n",
    "df[\"Shapiro-Wilk\"]='n'\n",
    "df.loc[(df[\"Shapiro-Wilk p-value\"]>alpha),\"Shapiro-Wilk\"]='y'\n",
    "df[\"Kolmogorov-Smirnov\"]='n'\n",
    "df.loc[(df[\"Kolmogorov-Smirnov p-value\"]>alpha),\"Kolmogorov-Smirnov\"]='y'\n",
    "df[\"D'Agostino's K-squared\"]='n'\n",
    "df.loc[(df[\"D'Agostino's K-squared p-value\"]>alpha),\"D'Agostino's K-squared\"]='y'\n",
    "\n",
    "result=df[[\"Shapiro-Wilk\",\"Kolmogorov-Smirnov\",\"D'Agostino's K-squared\"]]\n",
    "result_table = ff.create_table(result, index=True)\n",
    "iplot(result_table)"
   ]
  },
  {
   "cell_type": "code",
   "execution_count": null,
   "metadata": {},
   "outputs": [],
   "source": [
    "num_cols=4\n",
    "num_rows=int(len(not_normally_distributed_d)/num_cols)+1\n",
    "fig = plt.figure(figsize = (15, num_rows*3), facecolor = \"white\")\n",
    "i=1\n",
    "for device in not_normally_distributed_d:\n",
    "    subset=df_r[device]\n",
    "    ax = fig.add_subplot(num_rows, num_cols, i)\n",
    "    p = qq_plot(subset, ax,device_number=device)\n",
    "    i=i+1\n",
    "\n",
    "fig.tight_layout()"
   ]
  },
  {
   "cell_type": "code",
   "execution_count": null,
   "metadata": {},
   "outputs": [],
   "source": [
    "normally_distributed_p1=list(result[result[\"Kolmogorov-Smirnov\"]=='y'].index)\n",
    "print(\"Normally distributed devices(resampled means) according to the Kolmogorov-Smirnov test: \",normally_distributed_p1)"
   ]
  },
  {
   "cell_type": "code",
   "execution_count": null,
   "metadata": {},
   "outputs": [],
   "source": [
    "control_subset=df_r[3]\n",
    "alpha = 0.05\n",
    "list_t = []\n",
    "for device in normally_distributed_p1:\n",
    "    subset=df_r[device]\n",
    "    onesample_results = scipy.stats.ttest_ind(control_subset,subset, equal_var=False)\n",
    "    list_t.append(\n",
    "    [device, round(subset.mean(),2), round(subset.std(),2), round(onesample_results[0],2), onesample_results[1]])\n",
    "\n",
    "df2 = pd.DataFrame(list_t)\n",
    "\n",
    "df2.columns=['Device number',\"Mean\",\"Standart deviation\",\"t-statistics\",\"p-value\"]\n",
    "df2=df2.reset_index().set_index(\"Device number\")\n",
    "df2 = df2.drop('index', 1)\n",
    "df2[\"Statistically different to CD\"]='n'\n",
    "df2.loc[(df2[\"p-value\"]< alpha),\"Statistically different to CD\"]='y'\n",
    "\n",
    "result_table = ff.create_table(df2, index=True)\n",
    "iplot(result_table)"
   ]
  },
  {
   "cell_type": "markdown",
   "metadata": {},
   "source": [
    "Device 3 only statistically equal to itself:"
   ]
  },
  {
   "cell_type": "code",
   "execution_count": null,
   "metadata": {},
   "outputs": [],
   "source": [
    "normally_distributed_p.append(3)\n",
    "t=\"Ping latency  by device \"+title_tail\n",
    "simple_boxplot(dataframe=ping_df[ping_df[\"SK_PI\"].isin(not_normally_distributed_p)],plot_value='PING',sort_value='SK_PI',\n",
    "               title=t, \n",
    "               ytitle=\"Ping latency (Miliseconds)\",\n",
    "               xtitle=\"Device number\")"
   ]
  }
 ],
 "metadata": {
  "kernelspec": {
   "display_name": "Python 3",
   "language": "python",
   "name": "python3"
  },
  "language_info": {
   "codemirror_mode": {
    "name": "ipython",
    "version": 3
   },
   "file_extension": ".py",
   "mimetype": "text/x-python",
   "name": "python",
   "nbconvert_exporter": "python",
   "pygments_lexer": "ipython3",
   "version": "3.6.9"
  },
  "nbTranslate": {
   "displayLangs": [
    "*"
   ],
   "hotkey": "alt-t",
   "langInMainMenu": true,
   "sourceLang": "en",
   "targetLang": "fr",
   "useGoogleTranslate": true
  }
 },
 "nbformat": 4,
 "nbformat_minor": 2
}
