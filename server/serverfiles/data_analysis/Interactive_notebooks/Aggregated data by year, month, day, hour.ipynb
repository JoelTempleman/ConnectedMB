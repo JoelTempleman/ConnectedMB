{
 "cells": [
  {
   "cell_type": "markdown",
   "metadata": {},
   "source": [
    "### Read data from influxdb"
   ]
  },
  {
   "cell_type": "code",
   "execution_count": null,
   "metadata": {},
   "outputs": [],
   "source": [
    "from data_exploration import *"
   ]
  },
  {
   "cell_type": "code",
   "execution_count": null,
   "metadata": {},
   "outputs": [],
   "source": [
    "client, client_df = connect_to_influxdb()"
   ]
  },
  {
   "cell_type": "code",
   "execution_count": null,
   "metadata": {},
   "outputs": [],
   "source": [
    "df = get_all_data(client_df)"
   ]
  },
  {
   "cell_type": "markdown",
   "metadata": {},
   "source": [
    "### Add additional columns for grouping"
   ]
  },
  {
   "cell_type": "code",
   "execution_count": null,
   "metadata": {},
   "outputs": [],
   "source": [
    "df[\"year\"]=df[\"time\"].dt.year\n",
    "df[\"month\"]=df[\"time\"].dt.month\n",
    "df[\"day\"]=df[\"time\"].dt.day\n",
    "df[\"hour\"]=df[\"time\"].dt.hour\n",
    "df[\"weekday\"]=df[\"time\"].dt.weekday_name\n",
    "df[\"weekday\"] = pd.Categorical(df[\"weekday\"], [\"Monday\", \"Tuesday\", \"Wednesday\", \"Thursday\", \"Friday\", \"Saturday\", \"Sunday\"])"
   ]
  },
  {
   "cell_type": "code",
   "execution_count": null,
   "metadata": {},
   "outputs": [],
   "source": [
    "df.head()"
   ]
  },
  {
   "cell_type": "markdown",
   "metadata": {},
   "source": [
    "## Aggregated data by device"
   ]
  },
  {
   "cell_type": "code",
   "execution_count": null,
   "metadata": {},
   "outputs": [],
   "source": [
    "## helper function\n",
    "def show_data(ev):\n",
    "    clear_output(wait=True)\n",
    "    display(Box(children = [device_name1,measurement_type1,graph_type1,aggregated_by1,show_button1]))\n",
    "                \n",
    "    subset_iperf = df[(df[\"test_type\"]==\"iperf\") & (df[\"SK_PI\"] == device_name1.value) & (df[\"MES_TYPE\"] == measurement_type1.value)]\n",
    "    subset_speedtest= df[(df[\"test_type\"]==\"speedtest\") & (df[\"SK_PI\"] == device_name1.value)& (df[\"MES_TYPE\"] == measurement_type1.value)]\n",
    "    stat_iperf = subset_iperf[[aggregated_by1.value,\"result\"]].groupby(aggregated_by1.value).agg([\"mean\",\"max\",\"size\"])[\"result\"]\n",
    "    stat_speedtest = subset_speedtest[[aggregated_by1.value,\"result\"]].groupby(aggregated_by1.value).agg([\"mean\",\"max\",\"size\"])[\"result\"]\n",
    "        \n",
    "    fig = get_fig_agg_by_device(subset_iperf,subset_speedtest,stat_iperf,stat_speedtest,\n",
    "                           aggregated_by1.value,graph_type1.value, measurement_type1.value,\n",
    "                           df[aggregated_by1.value].sort_values().unique(),\"Data by device: \")\n",
    "    fig.show()"
   ]
  },
  {
   "cell_type": "code",
   "execution_count": null,
   "metadata": {},
   "outputs": [],
   "source": [
    "device_name1 = widgets.Dropdown(options = df['SK_PI'].sort_values().unique(), description ='Device number: ',style = {'description_width': 'initial'}, disabled=False)\n",
    "measurement_type1 =  widgets.Dropdown(options = df['MES_TYPE'].unique(), description ='Measurement type: ',style = {'description_width': 'initial'}, disabled=False)\n",
    "graph_type1 = widgets.Dropdown(options = [\"boxplot\",\"mean\",'max'], description ='Graph type: ',style = {'description_width': 'initial'}, disabled=False)\n",
    "aggregated_by1 = widgets.Dropdown(options = [\"year\",\"month\",\"day\",\"weekday\",\"hour\"], description ='Aggregated by: ',style = {'description_width': 'initial'}, disabled=False)\n",
    "\n",
    "show_button1 = widgets.Button(button_style= 'info', description=\"Show Data\")\n",
    "show_button1.on_click(show_data)\n",
    "\n",
    "display(Box(children = [device_name1,measurement_type1,graph_type1,aggregated_by1,show_button1]))"
   ]
  },
  {
   "cell_type": "markdown",
   "metadata": {},
   "source": [
    "## Aggregated data for all devices over the last 6 months"
   ]
  },
  {
   "cell_type": "code",
   "execution_count": null,
   "metadata": {},
   "outputs": [],
   "source": [
    "## helper function\n",
    "def show_data_all(ev):\n",
    "    clear_output(wait=True)\n",
    "    display(Box(children = [test_type2,measurement_type2,graph_type2,aggregated_by2,show_button2]))\n",
    "    \n",
    "    subset = df[(df[\"test_type\"]==test_type2.value) &  (df[\"MES_TYPE\"] == measurement_type2.value) &(df[\"time\"]>  datetime.now() - pd.DateOffset(months=6))]\n",
    "    subset=subset.sort_values(aggregated_by2.value)\n",
    "    \n",
    "    stat = subset[[aggregated_by2.value,\"result\"]].groupby(aggregated_by2.value).agg([\"mean\",\"max\",\"size\"])[\"result\"]\n",
    "    fig = get_fig_agg_all(subset,stat,test_type2.value,\n",
    "                           aggregated_by2.value,graph_type2.value,\n",
    "                           subset[aggregated_by2.value].sort_values().unique(),\"Summary for all devices over the last 6 months: (iperf in red, speedtest in green)\")\n",
    "    fig.show()"
   ]
  },
  {
   "cell_type": "code",
   "execution_count": null,
   "metadata": {},
   "outputs": [],
   "source": [
    "test_type2 =  widgets.Dropdown(options = df['test_type'].unique(), description ='Test type: ',style = {'description_width': 'initial'}, disabled=False)\n",
    "measurement_type2 =  widgets.Dropdown(options = df['MES_TYPE'].unique(), description ='Measurement type: ',style = {'description_width': 'initial'}, disabled=False)\n",
    "graph_type2 = widgets.Dropdown(options = [\"boxplot\",\"mean\",'max'], description ='Graph type: ',style = {'description_width': 'initial'}, disabled=False)\n",
    "aggregated_by2 = widgets.Dropdown(options = [\"year\",\"month\",\"day\",\"weekday\",\"hour\"], description ='Aggregated by: ',style = {'description_width': 'initial'}, disabled=False)\n",
    "\n",
    "show_button2 = widgets.Button(button_style= 'info', description=\"Show Data\")\n",
    "show_button2.on_click(show_data_all)\n",
    "\n",
    "display(Box(children = [test_type2,measurement_type2,graph_type2,aggregated_by2,show_button2]))"
   ]
  }
 ],
 "metadata": {
  "kernelspec": {
   "display_name": "Python 3",
   "language": "python",
   "name": "python3"
  },
  "language_info": {
   "codemirror_mode": {
    "name": "ipython",
    "version": 3
   },
   "file_extension": ".py",
   "mimetype": "text/x-python",
   "name": "python",
   "nbconvert_exporter": "python",
   "pygments_lexer": "ipython3",
   "version": "3.6.9"
  }
 },
 "nbformat": 4,
 "nbformat_minor": 4
}
