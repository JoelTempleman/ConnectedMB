{
 "cells": [
  {
   "cell_type": "markdown",
   "metadata": {},
   "source": [
    "**Note**: To be able to run the dashboard only file needed is **coordinates2.csv**\n",
    "\n",
    "This notebook can help to:\n",
    " - Enter data for the coordinates2.csv manually (device number, community name, lon and lat) -> Go to section **3**\n",
    "\n",
    "Or (if you don't have device numbers but have mac addresses instead):\n",
    " \n",
    "- Enter data for mac_address, community name, lon and lat manually and find matching device numbers in database -> Go through sections **1** and **2**\n",
    "   \n",
    " "
   ]
  },
  {
   "cell_type": "markdown",
   "metadata": {},
   "source": [
    "## 1. Manually enter coordinates by mac address and write coordinates1.csv"
   ]
  },
  {
   "cell_type": "code",
   "execution_count": null,
   "metadata": {},
   "outputs": [],
   "source": [
    "coordinates_path = \"../coordinates1.csv\"\n",
    "\n",
    "from data_exploration import *"
   ]
  },
  {
   "cell_type": "markdown",
   "metadata": {},
   "source": [
    "#### Read coordinates1.csv if it exists"
   ]
  },
  {
   "cell_type": "code",
   "execution_count": null,
   "metadata": {},
   "outputs": [],
   "source": [
    "if path.exists(coordinates_path):\n",
    "    coordinates_df = pd.read_csv(coordinates_path)\n",
    "    print(\"There is location data existing, will add to existing csv:\")\n",
    "    display(coordinates_df)\n",
    "else:\n",
    "    print(\"There no location data, creating new csv\")\n",
    "    coordinates_df = pd.DataFrame(columns=('mac', 'name', 'lon','lat'))"
   ]
  },
  {
   "cell_type": "markdown",
   "metadata": {},
   "source": [
    "#### Manually add data to coordinates1.csv"
   ]
  },
  {
   "cell_type": "code",
   "execution_count": null,
   "metadata": {},
   "outputs": [],
   "source": [
    "restart = \"y\"\n",
    "while restart==\"y\":\n",
    "    print(\"Last 5 rows of location data:\")\n",
    "    display(coordinates_df.tail(5))\n",
    "    restart = input(\"Do you like to add another location?(y/n)\")\n",
    "    if restart == \"n\":\n",
    "        break\n",
    "    device_mac=input(\"Mac address in format 'xx-xx-xx-xx-xx-xx' :\").strip()\n",
    "    device_loc = input(\"Community name:\").strip()\n",
    "    device_lon = float(input(\"Longitude:\"))\n",
    "    device_lat = float(input(\"Latitude:\"))\n",
    "\n",
    "    row = [device_mac,device_loc,device_lon, device_lat]\n",
    "    print(row)\n",
    "\n",
    "    correct = input(\"Is it correct?(y/n)\")\n",
    "    if correct==\"y\":\n",
    "        coordinates_df.loc[len(coordinates_df)] = row\n",
    "        print(\"New row was added to the bottom\")\n",
    "    elif correct==\"n\":\n",
    "        print(\"New row was not added\")\n",
    "\n",
    "    restart_cell()"
   ]
  },
  {
   "cell_type": "code",
   "execution_count": null,
   "metadata": {},
   "outputs": [],
   "source": [
    "#coordinates_df"
   ]
  },
  {
   "cell_type": "markdown",
   "metadata": {},
   "source": [
    "#### Check if enetered data is corrrect and write coordinates1.csv to disk"
   ]
  },
  {
   "cell_type": "code",
   "execution_count": null,
   "metadata": {},
   "outputs": [],
   "source": [
    "display(coordinates_df)\n",
    "correct1 = input(\"Is this data correct?(y/n)\")\n",
    "if correct1==\"y\":\n",
    "    coordinates_df.to_csv('../coordinates1.csv',index=False)\n",
    "    print(\"Updated file was written to drive\")\n",
    "else:\n",
    "    print(\"Updated file was not written to drive\")"
   ]
  },
  {
   "cell_type": "markdown",
   "metadata": {},
   "source": [
    "## 2. Find matching device numbers in database and convert coordinates1.csv to coordinates2.csv"
   ]
  },
  {
   "cell_type": "code",
   "execution_count": null,
   "metadata": {},
   "outputs": [],
   "source": [
    "from data_exploration import *"
   ]
  },
  {
   "cell_type": "markdown",
   "metadata": {},
   "source": [
    "#### Read coordinates1.csv from disk and find matching device numbers"
   ]
  },
  {
   "cell_type": "code",
   "execution_count": null,
   "metadata": {},
   "outputs": [],
   "source": [
    "if path.exists(coordinates_path):\n",
    "    coordinates_df = pd.read_csv(coordinates_path)\n",
    "    cnxn = connect_to_mssql()\n",
    "    sql = \"SELECT DISTINCT PI_MAC, PK_PI FROM  DIM_PI;\"\n",
    "    df_frommssql=pd.read_sql(sql,cnxn)\n",
    "    coordinates_df2=pd.merge(coordinates_df, df_frommssql,  how='left', left_on=['mac'], right_on = ['PI_MAC'])\n",
    "    coordinates_df2.rename(columns={'PK_PI':'device_number'}, inplace=True)\n",
    "    coordinates_df2 = coordinates_df2[[\"device_number\",\"name\",\"lon\",\"lat\"]]\n",
    "    #display(coordinates_df2)\n",
    "else:\n",
    "    print(\"File coordinates1.csv does not exist, please go to the beginning of the notebook to enter data manually\")"
   ]
  },
  {
   "cell_type": "markdown",
   "metadata": {},
   "source": [
    "#### Check if data from Database is corrrect and write coordinates2.csv to disk"
   ]
  },
  {
   "cell_type": "code",
   "execution_count": null,
   "metadata": {},
   "outputs": [],
   "source": [
    "display(coordinates_df2)\n",
    "correct = input(\"Is this data correct?(y/n)\")\n",
    "if correct==\"y\":\n",
    "    coordinates_df2.to_csv('../coordinates2.csv',index=False)\n",
    "    print(\"Updated file was written to drive\")\n",
    "elif correct==\"n\":\n",
    "    print(\"Updated file was not written to drive\")"
   ]
  },
  {
   "cell_type": "markdown",
   "metadata": {},
   "source": [
    "## 3. Manually enter coordinates by device number and write coordinates2.csv"
   ]
  },
  {
   "cell_type": "code",
   "execution_count": null,
   "metadata": {},
   "outputs": [],
   "source": [
    "from data_exploration import *\n",
    "coordinates_path2 = \"../coordinates2.csv\""
   ]
  },
  {
   "cell_type": "markdown",
   "metadata": {},
   "source": [
    "#### Read coordinates2.csv if it exists"
   ]
  },
  {
   "cell_type": "code",
   "execution_count": null,
   "metadata": {},
   "outputs": [],
   "source": [
    "if path.exists(coordinates_path2):\n",
    "    coordinates_df2 = pd.read_csv(coordinates_path2)\n",
    "    print(\"There is location data existing, will add to existing csv:\")\n",
    "    display(coordinates_df2)\n",
    "else:\n",
    "    print(\"There no location data, creating new csv\")\n",
    "    coordinates_df2 = pd.DataFrame(columns=('device_number', 'name', 'lon','lat'))"
   ]
  },
  {
   "cell_type": "markdown",
   "metadata": {},
   "source": [
    "#### Manually add data to coordinates2.csv"
   ]
  },
  {
   "cell_type": "code",
   "execution_count": null,
   "metadata": {},
   "outputs": [],
   "source": [
    "restart1 = \"y\"\n",
    "while restart1==\"y\":\n",
    "    print(\"Last 5 rows of location data:\")\n",
    "    display(coordinates_df2.tail(5))\n",
    "    restart1 = input(\"Do you like to add another location?(y/n)\")\n",
    "    if restart1 == \"n\":\n",
    "        break\n",
    "    device_number=input(\"Device number :\").strip()\n",
    "    device_loc = input(\"Community name:\").strip()\n",
    "    device_lon = float(input(\"Longitude:\"))\n",
    "    device_lat = float(input(\"Latitude:\"))\n",
    "\n",
    "    row = [device_number,device_loc,device_lon, device_lat]\n",
    "    print(row)\n",
    "\n",
    "    correct = input(\"Is it correct?(y/n)\")\n",
    "    if correct==\"y\":\n",
    "        coordinates_df2.loc[len(coordinates_df2)] = row\n",
    "        print(\"New row was added to the bottom\")\n",
    "    elif correct==\"n\":\n",
    "        print(\"New row was not added\")\n",
    "\n",
    "    restart_cell()"
   ]
  },
  {
   "cell_type": "markdown",
   "metadata": {},
   "source": [
    "#### Check if enetered data is corrrect and write coordinates2.csv to disk"
   ]
  },
  {
   "cell_type": "code",
   "execution_count": null,
   "metadata": {},
   "outputs": [],
   "source": [
    "display(coordinates_df2)\n",
    "correct2 = input(\"Is this data correct?(y/n)\")\n",
    "if correct2==\"y\":\n",
    "    coordinates_df2.to_csv('../coordinates2.csv',index=False)\n",
    "    print(\"Updated file was written to drive\")\n",
    "else:\n",
    "    print(\"Updated file was not written to drive\")"
   ]
  }
 ],
 "metadata": {
  "kernelspec": {
   "display_name": "Python 3",
   "language": "python",
   "name": "python3"
  },
  "language_info": {
   "codemirror_mode": {
    "name": "ipython",
    "version": 3
   },
   "file_extension": ".py",
   "mimetype": "text/x-python",
   "name": "python",
   "nbconvert_exporter": "python",
   "pygments_lexer": "ipython3",
   "version": "3.6.9"
  }
 },
 "nbformat": 4,
 "nbformat_minor": 4
}
