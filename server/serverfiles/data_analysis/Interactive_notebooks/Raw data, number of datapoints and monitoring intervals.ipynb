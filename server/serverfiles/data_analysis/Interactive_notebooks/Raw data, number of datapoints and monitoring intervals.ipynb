{
 "cells": [
  {
   "cell_type": "markdown",
   "metadata": {},
   "source": [
    "### How data is  collected"
   ]
  },
  {
   "cell_type": "markdown",
   "metadata": {},
   "source": [
    "Data (upload, download speed and ping latency) is collected  in two different ways:\n",
    " - Running **speedtest** test similar to speedtest.net (but command line)\n",
    " - Runnning **iperf** test using test server `clearskystatus.info`"
   ]
  },
  {
   "cell_type": "markdown",
   "metadata": {},
   "source": [
    "### How data looks like\n",
    "Load libraries:"
   ]
  },
  {
   "cell_type": "code",
   "execution_count": null,
   "metadata": {},
   "outputs": [],
   "source": [
    "from data_exploration import *"
   ]
  },
  {
   "cell_type": "markdown",
   "metadata": {},
   "source": [
    "Set up influxdb and ms sql connections:"
   ]
  },
  {
   "cell_type": "code",
   "execution_count": null,
   "metadata": {},
   "outputs": [],
   "source": [
    "client, client_df = connect_to_influxdb()\n",
    "cnxn = connect_to_mssql()"
   ]
  },
  {
   "cell_type": "markdown",
   "metadata": {},
   "source": [
    "How data looks like in  MS SQL database (last 5 records):"
   ]
  },
  {
   "cell_type": "code",
   "execution_count": null,
   "metadata": {},
   "outputs": [],
   "source": [
    "sql = \"SELECT TOP 5 * FROM FCT_SPEEDTEST  ORDER BY DATA_DATE DESC;\"\n",
    "pd.read_sql(sql,cnxn)"
   ]
  },
  {
   "cell_type": "markdown",
   "metadata": {},
   "source": [
    "How data looks in influxdb (last 10 records):"
   ]
  },
  {
   "cell_type": "code",
   "execution_count": null,
   "metadata": {},
   "outputs": [],
   "source": [
    "query1 = \"SELECT * FROM SPEEDTEST_IPERF_PING ORDER BY time;\"\n",
    "df1 = get_dataframe_from_influxdb(client_df=client_df,query_influx=query1,table_name='SPEEDTEST_IPERF_PING')\n",
    "df1.head(5)"
   ]
  },
  {
   "cell_type": "markdown",
   "metadata": {},
   "source": [
    "In  MS SQL we have one record per test including ping latency, upload/download speed and additional metadata.  \n",
    "In Influxdb we have separate measurements(tables)  for ping/upload and download speed.   \n",
    "The number of records for these 3 measurements should be the same since they are coming from a single row in MS SQL table. "
   ]
  },
  {
   "cell_type": "markdown",
   "metadata": {},
   "source": [
    "For the different test types we  are going to separate data coming into  \"iperf\" and \"speedtest\" tests by PROVIDER (its always \"iperf\" for iperf tests and ISP provider name for speedtest). "
   ]
  },
  {
   "cell_type": "markdown",
   "metadata": {},
   "source": [
    "### Number  of data points per device"
   ]
  },
  {
   "cell_type": "code",
   "execution_count": null,
   "metadata": {},
   "outputs": [],
   "source": [
    "summary_stat = df1.groupby([\"SK_PI\", \"test_type\"]).size().unstack().reset_index()\n",
    "\n",
    "combined_bar_plot_2traces(xvalues=summary_stat[\"SK_PI\"],\n",
    "                          yvalues1=summary_stat[\"speedtest\"],\n",
    "                          yvalues2=summary_stat[\"iperf\"],\n",
    "                          name1='speedtest',\n",
    "                          name2='iperf',\n",
    "                          title=\"Number of datapoints per device \",\n",
    "                          ytitle=\"Number of datapoints\")"
   ]
  },
  {
   "cell_type": "markdown",
   "metadata": {},
   "source": [
    "### Raw data by device"
   ]
  },
  {
   "cell_type": "code",
   "execution_count": null,
   "metadata": {},
   "outputs": [],
   "source": [
    "df = get_all_data(client_df)"
   ]
  },
  {
   "cell_type": "code",
   "execution_count": null,
   "metadata": {},
   "outputs": [],
   "source": [
    "def show_data(ev):\n",
    "    clear_output(wait=True)\n",
    "    display(Box(children = [device_name1,measurement_type1,show_button1]))\n",
    "                \n",
    "    subset = df[(df[\"test_type\"]==\"iperf\") & (df[\"SK_PI\"] == device_name1.value)&(df[\"MES_TYPE\"]==measurement_type1.value)]\n",
    "    subset1= df[(df[\"test_type\"]==\"speedtest\") & (df[\"SK_PI\"] == device_name1.value) & (df[\"MES_TYPE\"]==measurement_type1.value)]\n",
    "  \n",
    "    fig = get_fig_raw_data_by_device(subset,subset1)\n",
    "    fig.update_layout(showlegend=True)\n",
    "    fig.show()"
   ]
  },
  {
   "cell_type": "code",
   "execution_count": null,
   "metadata": {},
   "outputs": [],
   "source": [
    "device_name1 = widgets.Dropdown(options = df['SK_PI'].sort_values().unique(), description ='Device number: ',style = {'description_width': 'initial'}, disabled=False)\n",
    "measurement_type1 = widgets.Dropdown(options = df[\"MES_TYPE\"].sort_values().unique(), description ='Measurement_type: ',style = {'description_width': 'initial'}, disabled=False)\n",
    "\n",
    "show_button1 = widgets.Button(button_style= 'info', description=\"Show Data\")\n",
    "show_button1.on_click(show_data)\n",
    "\n",
    "display(Box(children = [device_name1,measurement_type1,show_button1]))"
   ]
  },
  {
   "cell_type": "markdown",
   "metadata": {},
   "source": [
    "### Raw data for all devices over the last 6 months"
   ]
  },
  {
   "cell_type": "code",
   "execution_count": null,
   "metadata": {},
   "outputs": [],
   "source": [
    "def show_data_all_devices(ev):\n",
    "    clear_output(wait=True)\n",
    "    display(Box(children = [test_type2,measurement_type2,show_button2]))\n",
    "                \n",
    "    subset = df[(df[\"test_type\"]==test_type2.value) & (df[\"MES_TYPE\"]==measurement_type2.value)]\n",
    "    subset = subset[subset[\"time\"]>  datetime.now() - pd.DateOffset(months=6)]\n",
    "    \n",
    "    device_numbers=subset[\"SK_PI\"].unique()\n",
    "    \n",
    "    fig = get_fig_raw_data_all(subset, device_numbers)\n",
    "    fig.show()\n",
    "        "
   ]
  },
  {
   "cell_type": "code",
   "execution_count": null,
   "metadata": {},
   "outputs": [],
   "source": [
    "test_type2 = widgets.Dropdown(options = df['test_type'].unique(), description ='Test type: ',style = {'description_width': 'initial'}, disabled=False)\n",
    "measurement_type2 = widgets.Dropdown(options = df[\"MES_TYPE\"].sort_values().unique(), description ='Measurement_type: ',style = {'description_width': 'initial'}, disabled=False)\n",
    "show_button2 = widgets.Button(button_style= 'info', description=\"Show Data\")\n",
    "show_button2.on_click(show_data_all_devices)\n",
    "\n",
    "display(Box(children = [test_type2,measurement_type2,show_button2]))"
   ]
  },
  {
   "cell_type": "markdown",
   "metadata": {},
   "source": [
    "### How often data is collected?\n",
    "Finding time difference(interval) by device and sort by the most common interval  for iperf and speedtest tests."
   ]
  },
  {
   "cell_type": "code",
   "execution_count": null,
   "metadata": {},
   "outputs": [],
   "source": [
    "#separate data by test type\n",
    "iperf_df1 = df1[df1[\"test_type\"]==\"iperf\"]\n",
    "speedtest_df1 = df1[df1[\"test_type\"]==\"speedtest\"]"
   ]
  },
  {
   "cell_type": "code",
   "execution_count": null,
   "metadata": {},
   "outputs": [],
   "source": [
    "speedtest_df1[\"interval\"] = round(speedtest_df1.groupby('SK_PI')['time'].diff(-1) * (-1) / np.timedelta64(1, 'm'))\n",
    "speedtest_df1[\"interval\"].value_counts().head()\n",
    "#fig = go.Figure(data=[go.Histogram(x=speedtest_df1[\"interval\"])])\n",
    "#fig.show()"
   ]
  },
  {
   "cell_type": "code",
   "execution_count": null,
   "metadata": {},
   "outputs": [],
   "source": [
    "iperf_df1[\"interval\"] = round(iperf_df1.groupby('SK_PI')['time'].diff(-1) * (-1) / np.timedelta64(1, 'm'))\n",
    "iperf_df1[\"interval\"].value_counts().head()\n",
    "#fig = go.Figure(data=[go.Histogram(x=iperf_df[\"interval\"])])\n",
    "#fig.show()"
   ]
  },
  {
   "cell_type": "markdown",
   "metadata": {},
   "source": [
    " For both tests : speedtest and iperf - most often data is collected every 222 minutes : 3 hours 42 minutes.   \n",
    "   Looking at the graphs  - tests are iterating."
   ]
  }
 ],
 "metadata": {
  "kernelspec": {
   "display_name": "Python 3",
   "language": "python",
   "name": "python3"
  },
  "language_info": {
   "codemirror_mode": {
    "name": "ipython",
    "version": 3
   },
   "file_extension": ".py",
   "mimetype": "text/x-python",
   "name": "python",
   "nbconvert_exporter": "python",
   "pygments_lexer": "ipython3",
   "version": "3.6.9"
  },
  "nbTranslate": {
   "displayLangs": [
    "*"
   ],
   "hotkey": "alt-t",
   "langInMainMenu": true,
   "sourceLang": "en",
   "targetLang": "fr",
   "useGoogleTranslate": true
  }
 },
 "nbformat": 4,
 "nbformat_minor": 2
}
