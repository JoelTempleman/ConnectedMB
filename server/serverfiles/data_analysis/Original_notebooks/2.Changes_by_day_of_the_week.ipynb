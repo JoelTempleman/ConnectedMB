{
 "cells": [
  {
   "cell_type": "markdown",
   "metadata": {},
   "source": [
    "## Ping latency, Upload/Download speeds  by day of the week"
   ]
  },
  {
   "cell_type": "code",
   "execution_count": null,
   "metadata": {},
   "outputs": [],
   "source": [
    "#Load libraries:\n",
    "from data_exploration import *"
   ]
  },
  {
   "cell_type": "code",
   "execution_count": null,
   "metadata": {},
   "outputs": [],
   "source": [
    "#Set up test time interval:\n",
    "time_interval='2w' #5d\n",
    "print(\"Time interval: \", time_interval)"
   ]
  },
  {
   "cell_type": "code",
   "execution_count": null,
   "metadata": {},
   "outputs": [],
   "source": [
    "#Set up starting point, by default if will start from current time\n",
    "starting_point=datetime.now().strftime('%Y-%m-%d %H:%M:%S')\n",
    "#starting point=\"2019-01-10 14:00:00\"  # to set upl alternative starting point\n",
    "print(\"Starting point:\",starting_point )"
   ]
  },
  {
   "cell_type": "code",
   "execution_count": null,
   "metadata": {},
   "outputs": [],
   "source": [
    "#Set up influxdb connection:\n",
    "client, client_df = connect_to_influxdb()"
   ]
  },
  {
   "cell_type": "markdown",
   "metadata": {},
   "source": [
    "### We will use 2 approaches:\n",
    "#### By day of the week\n",
    "We will find mean, max and median ping latency/upload/download speed for all devices grouped by day of the week.\n",
    "#### By time group\n",
    "We will find mean, max and median ping latency/upload/download speed for all devices grouped by :\n",
    " - **group1** Weekday: Mon, Tue, Wed, Thur, Fri\n",
    " - **group2** Weekend: Sut, Sun"
   ]
  },
  {
   "cell_type": "markdown",
   "metadata": {},
   "source": [
    "## Ping Latency"
   ]
  },
  {
   "cell_type": "markdown",
   "metadata": {},
   "source": [
    "### Data coming from collectd\n",
    "\n",
    "**This part of code will work if data from collectd is collected**"
   ]
  },
  {
   "cell_type": "code",
   "execution_count": null,
   "metadata": {},
   "outputs": [],
   "source": [
    "#device_numbers=get_tag_values_influxdb(client_influx=client,table_name='PING', tag_name='SK_PI')\n",
    "#device_numbers=list(map(int, device_numbers))\n",
    "#device_numbers= sorted(device_numbers)\n",
    "#print(device_numbers)"
   ]
  },
  {
   "cell_type": "code",
   "execution_count": null,
   "metadata": {},
   "outputs": [],
   "source": [
    "#ping_mean_query=\"SELECT MAX(PING),MEAN(PING), MEDIAN(PING) FROM PING WHERE PING!=0 AND time >= '\"+starting_point+\"'-\"+\\\n",
    "#                time_interval+\" GROUP BY time(1h), SK_PI;\""
   ]
  },
  {
   "cell_type": "code",
   "execution_count": null,
   "metadata": {},
   "outputs": [],
   "source": [
    "#ping_hourly_dataframe=get_3_stats_influxdb(client_influx=client,\n",
    "#                                           query_influx=ping_mean_query,\n",
    "#                                           stat_name1='max',\n",
    "#                                           stat_name2='mean',\n",
    "#                                           stat_name3='median',\n",
    "#                                           device_numbers=device_numbers)"
   ]
  },
  {
   "cell_type": "code",
   "execution_count": null,
   "metadata": {},
   "outputs": [],
   "source": [
    "#To check:\n",
    "#ping_hourly_dataframe[ping_hourly_dataframe[\"SK_PI\"]==3]\n",
    "#q=\"SELECT MAX(PING), MEAN(PING), MEDIAN(PING) FROM PING WHERE PING!=0 AND time >= '\"+starting_point+\"'-4w AND SK_PI='3' GROUP BY time(1h);\"\n",
    "#ping_df = get_dataframe_from_influxdb(client_df=client_df,query_influx=q,table_name='PING')\n",
    "#ping_df"
   ]
  },
  {
   "cell_type": "code",
   "execution_count": null,
   "metadata": {},
   "outputs": [],
   "source": [
    "#ping_hourly_dataframe[\"weekday\"]=ping_hourly_dataframe[\"time\"].dt.weekday_name\n",
    "#ping_hourly_dataframe[\"weekday\"] = pd.Categorical(ping_hourly_dataframe[\"weekday\"], [\"Monday\", \"Tuesday\", \"Wednesday\", \"Thursday\", \"Friday\", \"Saturday\", \"Sunday\"])"
   ]
  },
  {
   "cell_type": "code",
   "execution_count": null,
   "metadata": {},
   "outputs": [],
   "source": [
    "#device_number=7\n",
    "#subset=ping_hourly_dataframe[ping_hourly_dataframe[\"SK_PI\"]==device_number]\n",
    "#simple_boxplot(dataframe=subset,plot_value='mean',sort_value='weekday',\n",
    "#               title=\"Ping latency(collectd) by day of the week for the device \"+str(device_number)+\" over the \"+time_interval+\" starting from \"+starting_point,\n",
    "#               ytitle=\"Miliseconds\",weekdays=True, jitter=True)"
   ]
  },
  {
   "cell_type": "code",
   "execution_count": null,
   "metadata": {},
   "outputs": [],
   "source": [
    "#by_weekday_by_device_p1=mean_max_median_by2(input_dataframe=ping_hourly_dataframe,value1=\"mean\", value2=\"max\",\n",
    "#                                          value3=\"median\",group_by_value=\"weekday\")"
   ]
  },
  {
   "cell_type": "code",
   "execution_count": null,
   "metadata": {},
   "outputs": [],
   "source": [
    "#device_number=7\n",
    "#subset=by_weekday_by_device_p1[by_weekday_by_device_p1[\"SK_PI\"]==device_number]\n",
    "#combined_bar_plot_3traces(xvalues=subset[\"weekday\"],\n",
    "#                         yvalues1=subset[\"max\"],\n",
    "#                         yvalues2=subset[\"mean\"],\n",
    "#                         yvalues3=subset[\"median\"],\n",
    "#                         name1=\"Max\",\n",
    "#                         name2=\"Mean\",\n",
    "#                         name3=\"Median\",\n",
    "#                         title=\"Ping latency(collectd) by day of the week for the device \"+str(device_number)+\" over the \"+time_interval+\" starting from \"+starting_point,\n",
    "#                         xtitle=\"weekday\",\n",
    "#                         stack=False)"
   ]
  },
  {
   "cell_type": "code",
   "execution_count": null,
   "metadata": {},
   "outputs": [],
   "source": [
    "#weekday=\"Sunday\"\n",
    "#subset=by_weekday_by_device_p1[by_weekday_by_device_p1[\"weekday\"]==weekday]\n",
    "#combined_bar_plot_3traces(xvalues=subset[\"SK_PI\"],\n",
    "#                         yvalues1=subset[\"max\"],\n",
    "#                         yvalues2=subset[\"mean\"],\n",
    "#                         yvalues3=subset[\"median\"],\n",
    "#                         name1=\"Max\",\n",
    "#                         name2=\"Mean\",\n",
    "#                         name3=\"Median\",\n",
    "#                         title=\"Ping latency(collectd) by day of the week for the day \"+str(weekday)+\" over the \"+time_interval+\" starting from \"+starting_point,\n",
    "#                         stack=False)"
   ]
  },
  {
   "cell_type": "code",
   "execution_count": null,
   "metadata": {},
   "outputs": [],
   "source": [
    "#pd.options.mode.chained_assignment = None\n",
    "#ping_hourly_dataframe[\"day_group\"]=\"Weekday\"\n",
    "#ping_hourly_dataframe.loc[(ping_hourly_dataframe[\"weekday\"]==\"Sunday\")|(ping_hourly_dataframe[\"weekday\"]==\"Saturday\"),\"day_group\"]=\"Weekend\""
   ]
  },
  {
   "cell_type": "code",
   "execution_count": null,
   "metadata": {},
   "outputs": [],
   "source": [
    "#device_number=16\n",
    "#subset=ping_hourly_dataframe[ping_hourly_dataframe[\"SK_PI\"]==device_number]\n",
    "#simple_boxplot(dataframe=subset,plot_value='mean',sort_value='day_group',\n",
    "#               title=\"Ping latency(collectd) by day group for the device \"+str(device_number)+\" over the \"+time_interval+\" starting from \"+starting_point,\n",
    "#               ytitle=\"Miliseconds\",jitter=True)"
   ]
  },
  {
   "cell_type": "code",
   "execution_count": null,
   "metadata": {},
   "outputs": [],
   "source": [
    "#by_group_by_device_p1 = mean_max_median_by2(input_dataframe=ping_hourly_dataframe,value1=\"mean\", value2=\"max\",\n",
    "#                                             value3=\"median\",group_by_value=\"day_group\")"
   ]
  },
  {
   "cell_type": "code",
   "execution_count": null,
   "metadata": {},
   "outputs": [],
   "source": [
    "#device_number=16\n",
    "#subset=by_group_by_device_p1[by_group_by_device_p1[\"SK_PI\"]==device_number]\n",
    "#combined_bar_plot_3traces(xvalues=subset[\"day_group\"],\n",
    "#                         yvalues1=subset[\"max\"],\n",
    "#                         yvalues2=subset[\"mean\"],\n",
    "#                         yvalues3=subset[\"median\"],\n",
    "#                         name1=\"Max\",\n",
    "#                         name2=\"Mean\",\n",
    "#                         name3=\"Median\",\n",
    "#                         title=\"Ping latency(collectd) by day group for the device \"+str(device_number)+\" over the \"+time_interval+\" starting from \"+starting_point,\n",
    "#                         xtitle=\"day_group\",\n",
    "#                         stack=False)"
   ]
  },
  {
   "cell_type": "code",
   "execution_count": null,
   "metadata": {},
   "outputs": [],
   "source": [
    "#day_group=\"Weekend\"\n",
    "#subset=by_group_by_device_p1[by_group_by_device_p1[\"day_group\"]==day_group]\n",
    "#combined_bar_plot_3traces(xvalues=subset[\"SK_PI\"],\n",
    "#                         yvalues1=subset[\"max\"],\n",
    "#                         yvalues2=subset[\"mean\"],\n",
    "#                        yvalues3=subset[\"median\"],\n",
    "#                         name1=\"Max\",\n",
    "#                         name2=\"Mean\",\n",
    "#                         name3=\"Median\",\n",
    "#                         title=\"Ping latency(collectd) by device for \"+day_group+\"s over the \"+time_interval+\" starting from \"+starting_point,\n",
    "#                         stack=False)"
   ]
  },
  {
   "cell_type": "markdown",
   "metadata": {},
   "source": [
    "### Data coming from speedtest"
   ]
  },
  {
   "cell_type": "code",
   "execution_count": null,
   "metadata": {},
   "outputs": [],
   "source": [
    "query_ping = \"SELECT * FROM SPEEDTEST_IPERF_PING WHERE PROVIDER!='iperf' AND time >= '\"+starting_point+\"'-\"+time_interval+\" AND PING!=0;\"\n",
    "ping_speedtest_dataframe = get_dataframe_from_influxdb(client_df=client_df,query_influx=query_ping,table_name='SPEEDTEST_IPERF_PING')"
   ]
  },
  {
   "cell_type": "code",
   "execution_count": null,
   "metadata": {},
   "outputs": [],
   "source": [
    "ping_speedtest_dataframe[\"weekday\"]=ping_speedtest_dataframe[\"time\"].dt.weekday_name\n",
    "ping_speedtest_dataframe[\"weekday\"] = pd.Categorical(ping_speedtest_dataframe[\"weekday\"], [\"Monday\", \"Tuesday\", \"Wednesday\", \"Thursday\", \"Friday\", \"Saturday\", \"Sunday\"])"
   ]
  },
  {
   "cell_type": "code",
   "execution_count": null,
   "metadata": {},
   "outputs": [],
   "source": [
    "device_number=22\n",
    "subset=ping_speedtest_dataframe[ping_speedtest_dataframe[\"SK_PI\"]==device_number]\n",
    "simple_boxplot(dataframe=subset,plot_value='PING',sort_value='weekday',\n",
    "               title=\"Ping latency(speedtest) by day of the week for the device \"+str(device_number)+\" over the \"+time_interval+\" starting from \"+starting_point,\n",
    "               ytitle=\"Miliseconds\",weekdays=True, jitter=True)"
   ]
  },
  {
   "cell_type": "code",
   "execution_count": null,
   "metadata": {},
   "outputs": [],
   "source": [
    "by_weekday_by_device_p2=mean_max_median_by2(input_dataframe=ping_speedtest_dataframe,value1=\"PING\", value2=\"PING\",\n",
    "                                          value3=\"PING\",group_by_value=\"weekday\", rename_columns=True)"
   ]
  },
  {
   "cell_type": "code",
   "execution_count": null,
   "metadata": {},
   "outputs": [],
   "source": [
    "device_number=22\n",
    "subset=by_weekday_by_device_p2[by_weekday_by_device_p2[\"SK_PI\"]==device_number]\n",
    "combined_bar_plot_3traces(xvalues=subset[\"weekday\"],\n",
    "                         yvalues1=subset[\"max\"],\n",
    "                         yvalues2=subset[\"mean\"],\n",
    "                         yvalues3=subset[\"median\"],\n",
    "                         name1=\"Max\",\n",
    "                         name2=\"Mean\",\n",
    "                         name3=\"Median\",\n",
    "                         title=\"Ping latency(speedtest) by day of the week for the device \"+str(device_number)+\" over the \"+time_interval+\" starting from \"+starting_point,\n",
    "                         xtitle=\"day of the week\",\n",
    "                         stack=False)"
   ]
  },
  {
   "cell_type": "code",
   "execution_count": null,
   "metadata": {},
   "outputs": [],
   "source": [
    "weekday=\"Tuesday\"\n",
    "subset=by_weekday_by_device_p2[by_weekday_by_device_p2[\"weekday\"]==weekday]\n",
    "combined_bar_plot_3traces(xvalues=subset[\"SK_PI\"],\n",
    "                         yvalues1=subset[\"max\"],\n",
    "                         yvalues2=subset[\"mean\"],\n",
    "                         yvalues3=subset[\"median\"],\n",
    "                         name1=\"Max\",\n",
    "                         name2=\"Mean\",\n",
    "                         name3=\"Median\",\n",
    "                         title=\"Ping latency(speedtest) by day of the week for the day \"+str(weekday)+\" over the \"+time_interval+\" starting from \"+starting_point,\n",
    "                         stack=False)"
   ]
  },
  {
   "cell_type": "code",
   "execution_count": null,
   "metadata": {},
   "outputs": [],
   "source": [
    "\n",
    "ping_speedtest_dataframe[\"day_group\"]=\"Weekday\"\n",
    "ping_speedtest_dataframe.loc[(ping_speedtest_dataframe[\"weekday\"]==\"Sunday\")|(ping_speedtest_dataframe[\"weekday\"]==\"Saturday\"),\"day_group\"]=\"Weekend\""
   ]
  },
  {
   "cell_type": "code",
   "execution_count": null,
   "metadata": {},
   "outputs": [],
   "source": [
    "device_number=22\n",
    "subset=ping_speedtest_dataframe[ping_speedtest_dataframe[\"SK_PI\"]==device_number]\n",
    "simple_boxplot(dataframe=subset,plot_value='PING',sort_value='day_group',\n",
    "               title=\"Ping latency(speedtest) by day group for the device \"+str(device_number)+\" over the \"+time_interval+\" starting from \"+starting_point,\n",
    "               ytitle=\"Miliseconds\", jitter=True)"
   ]
  },
  {
   "cell_type": "code",
   "execution_count": null,
   "metadata": {},
   "outputs": [],
   "source": [
    "by_group_by_device_p2 = mean_max_median_by2(input_dataframe=ping_speedtest_dataframe,value1=\"PING\", value2=\"PING\",\n",
    "                                             value3=\"PING\",group_by_value=\"day_group\", rename_columns=True)"
   ]
  },
  {
   "cell_type": "code",
   "execution_count": null,
   "metadata": {},
   "outputs": [],
   "source": [
    "device_number=22\n",
    "subset=by_group_by_device_p2[by_group_by_device_p2[\"SK_PI\"]==device_number]\n",
    "combined_bar_plot_3traces(xvalues=subset[\"day_group\"],\n",
    "                         yvalues1=subset[\"max\"],\n",
    "                         yvalues2=subset[\"mean\"],\n",
    "                         yvalues3=subset[\"median\"],\n",
    "                         name1=\"Max\",\n",
    "                         name2=\"Mean\",\n",
    "                         name3=\"Median\",\n",
    "                         title=\"Ping latency(speedtest) by day group for the device \"+str(device_number)+\" over the \"+time_interval+\" starting from \"+starting_point,\n",
    "                         xtitle=\"day_group\",\n",
    "                         stack=False)"
   ]
  },
  {
   "cell_type": "code",
   "execution_count": null,
   "metadata": {},
   "outputs": [],
   "source": [
    "day_group=\"Weekday\"\n",
    "subset=by_group_by_device_p2[by_group_by_device_p2[\"day_group\"]==day_group]\n",
    "combined_bar_plot_3traces(xvalues=subset[\"SK_PI\"],\n",
    "                         yvalues1=subset[\"max\"],\n",
    "                         yvalues2=subset[\"mean\"],\n",
    "                         yvalues3=subset[\"median\"],\n",
    "                         name1=\"Max\",\n",
    "                         name2=\"Mean\",\n",
    "                         name3=\"Median\",\n",
    "                         title=\"Ping latency(speedtest) by device for \"+day_group+\"s over the \"+time_interval+\" starting from \"+starting_point,\n",
    "                         stack=False)"
   ]
  },
  {
   "cell_type": "markdown",
   "metadata": {},
   "source": [
    "## Ping droprate\n",
    "**This part of the code will run only if collectd data is collected**"
   ]
  },
  {
   "cell_type": "code",
   "execution_count": null,
   "metadata": {},
   "outputs": [],
   "source": [
    "#pingdroprate_query=\"SELECT COUNT(PING_DROPRATE) FROM PING WHERE PING_DROPRATE>0 AND time >= '\"+starting_point+\"'-\"+\\\n",
    "#                time_interval+\" GROUP BY time(1h), SK_PI;\""
   ]
  },
  {
   "cell_type": "code",
   "execution_count": null,
   "metadata": {},
   "outputs": [],
   "source": [
    "#pingdroprate_dataframe=get_1_stats_influxdb(client_influx=client,\n",
    "#                               query_influx=pingdroprate_query,\n",
    "#                               stat_name='count',\n",
    "#                               device_numbers=device_numbers)"
   ]
  },
  {
   "cell_type": "code",
   "execution_count": null,
   "metadata": {},
   "outputs": [],
   "source": [
    "#pingdroprate_query_total=\"SELECT COUNT(PING_DROPRATE) FROM PING WHERE time >= '\"+starting_point+\"'-\"+\\\n",
    "#                time_interval+\" GROUP BY time(1h), SK_PI;\""
   ]
  },
  {
   "cell_type": "code",
   "execution_count": null,
   "metadata": {},
   "outputs": [],
   "source": [
    "#pingdroprate_dataframe_total=get_1_stats_influxdb(client_influx=client,\n",
    "#                               query_influx=pingdroprate_query_total,\n",
    "#                               stat_name='count',\n",
    "#                               device_numbers=device_numbers)\n",
    "#pingdroprate_dataframe_total.rename(columns={'count':'count_total'}, inplace=True)"
   ]
  },
  {
   "cell_type": "code",
   "execution_count": null,
   "metadata": {},
   "outputs": [],
   "source": [
    "#pingdroprate_dataframe = pd.merge(pingdroprate_dataframe, pingdroprate_dataframe_total,  how='outer', left_on=['SK_PI','time'], right_on = ['SK_PI','time'])\n",
    "#pingdroprate_dataframe[\"count_percent\"]=pingdroprate_dataframe[\"count\"]/pingdroprate_dataframe[\"count_total\"]*100\n",
    "#pingdroprate_dataframe[\"weekday\"]=pingdroprate_dataframe[\"time\"].dt.weekday_name\n",
    "#pingdroprate_dataframe[\"weekday\"] = pd.Categorical(pingdroprate_dataframe[\"weekday\"], [\"Monday\", \"Tuesday\", \"Wednesday\", \"Thursday\", \"Friday\", \"Saturday\", \"Sunday\"])"
   ]
  },
  {
   "cell_type": "code",
   "execution_count": null,
   "metadata": {},
   "outputs": [],
   "source": [
    "#device_number=7\n",
    "#subset=pingdroprate_dataframe[pingdroprate_dataframe[\"SK_PI\"]==device_number]\n",
    "#simple_boxplot(dataframe=subset,plot_value='count_percent',sort_value='weekday',\n",
    "#               title=\"Ping droprate by day of the week for the device \"+str(device_number)+\" over the \"+time_interval+\" starting from \"+starting_point,\n",
    "#               ytitle=\"Percentage of packets dropped\", weekdays=True, jitter=True)"
   ]
  },
  {
   "cell_type": "code",
   "execution_count": null,
   "metadata": {},
   "outputs": [],
   "source": [
    "#by_weekday_by_device_d=mean_max_median_by2(input_dataframe=pingdroprate_dataframe,value1=\"count_percent\", value2=\"count_percent\",\n",
    "#                                         value3=\"count_percent\",group_by_value=\"weekday\", rename_columns=True)"
   ]
  },
  {
   "cell_type": "code",
   "execution_count": null,
   "metadata": {},
   "outputs": [],
   "source": [
    "#device_number=7\n",
    "#subset=by_weekday_by_device_d[by_weekday_by_device_d[\"SK_PI\"]==device_number]\n",
    "#combined_bar_plot_3traces(xvalues=subset[\"weekday\"],\n",
    "#                         yvalues1=subset[\"max\"],\n",
    "#                         yvalues2=subset[\"mean\"],\n",
    "#                         yvalues3=subset[\"median\"],\n",
    "#                         name1=\"Max\",\n",
    "#                         name2=\"Mean\",\n",
    "#                         name3=\"Median\",\n",
    "#                         title=\"Ping droprate by day of the week for the device \"+str(device_number)+\" over the \"+time_interval+\" starting from \"+starting_point,\n",
    "#                         xtitle=\"weekday\",\n",
    "#                         ytitle=\"Percentage of packets dropped\",\n",
    "#                         stack=False)"
   ]
  },
  {
   "cell_type": "code",
   "execution_count": null,
   "metadata": {},
   "outputs": [],
   "source": [
    "#weekday=\"Friday\"\n",
    "#subset=by_weekday_by_device_d[by_weekday_by_device_d[\"weekday\"]==weekday]\n",
    "#combined_bar_plot_3traces(xvalues=subset[\"SK_PI\"],\n",
    "#                         yvalues1=subset[\"max\"],\n",
    "#                         yvalues2=subset[\"mean\"],\n",
    "#                         yvalues3=subset[\"median\"],\n",
    "#                         name1=\"Max\",\n",
    "#                         name2=\"Mean\",\n",
    "#                         name3=\"Median\",\n",
    "#                         title=\"Ping droprate by day of the week for the day \"+str(weekday)+\" over the \"+time_interval+\" starting from \"+starting_point,\n",
    "#                         ytitle=\"Percentage of packets dropped\",\n",
    "#                         stack=False)"
   ]
  },
  {
   "cell_type": "code",
   "execution_count": null,
   "metadata": {},
   "outputs": [],
   "source": [
    "#pingdroprate_dataframe[\"day_group\"]=\"Weekday\"\n",
    "#pingdroprate_dataframe.loc[(pingdroprate_dataframe[\"weekday\"]==\"Sunday\")|(pingdroprate_dataframe[\"weekday\"]==\"Saturday\"),\"day_group\"]=\"Weekend\""
   ]
  },
  {
   "cell_type": "code",
   "execution_count": null,
   "metadata": {},
   "outputs": [],
   "source": [
    "#device_number=16\n",
    "#subset=pingdroprate_dataframe[pingdroprate_dataframe[\"SK_PI\"]==device_number]\n",
    "#simple_boxplot(dataframe=subset,plot_value='count_percent',sort_value='day_group',\n",
    "#               title=\"Ping droprate by day group for device \"+str(device_number)+\" over the \"+time_interval+\" starting from \"+starting_point,\n",
    "#               ytitle=\"Percentage of packets dropped\", jitter=True)"
   ]
  },
  {
   "cell_type": "code",
   "execution_count": null,
   "metadata": {},
   "outputs": [],
   "source": [
    "#by_group_by_device_d = mean_max_median_by2(input_dataframe=pingdroprate_dataframe,value1=\"count_percent\", value2=\"count_percent\",\n",
    "#                                             value3=\"count_percent\",group_by_value=\"day_group\", rename_columns=True)"
   ]
  },
  {
   "cell_type": "code",
   "execution_count": null,
   "metadata": {},
   "outputs": [],
   "source": [
    "#device_number=16\n",
    "#subset=by_group_by_device_d[by_group_by_device_d[\"SK_PI\"]==device_number]\n",
    "#combined_bar_plot_3traces(xvalues=subset[\"day_group\"],\n",
    "#                         yvalues1=subset[\"max\"],\n",
    "#                         yvalues2=subset[\"mean\"],\n",
    "#                         yvalues3=subset[\"median\"],\n",
    "#                         name1=\"Max\",\n",
    "#                         name2=\"Mean\",\n",
    "#                         name3=\"Median\",\n",
    "#                         title=\"Ping droprate by day group for the device \"+str(device_number)+\" over the \"+time_interval+\" starting from \"+starting_point,\n",
    "#                         ytitle=\"Percentage of packets dropped\",\n",
    "#                         xtitle=\"day_group\",\n",
    "#                         stack=False)"
   ]
  },
  {
   "cell_type": "code",
   "execution_count": null,
   "metadata": {},
   "outputs": [],
   "source": [
    "#day_group=\"Weekend\"\n",
    "#subset=by_group_by_device_d[by_group_by_device_d[\"day_group\"]==day_group]\n",
    "#combined_bar_plot_3traces(xvalues=subset[\"SK_PI\"],\n",
    "#                         yvalues1=subset[\"max\"],\n",
    "#                         yvalues2=subset[\"mean\"],\n",
    "#                         yvalues3=subset[\"median\"],\n",
    "#                         name1=\"Max\",\n",
    "#                         name2=\"Mean\",\n",
    "#                         name3=\"Median\",\n",
    "#                         title=\"Ping droprate by device for \"+day_group+\"s over the \"+time_interval+\" starting from \"+starting_point,\n",
    "#                         ytitle=\"Percentage of packets dropped\",\n",
    "#                         stack=False)"
   ]
  },
  {
   "cell_type": "markdown",
   "metadata": {},
   "source": [
    "## Upload speed"
   ]
  },
  {
   "cell_type": "code",
   "execution_count": null,
   "metadata": {},
   "outputs": [],
   "source": [
    "query_upload = \"SELECT * FROM SPEEDTEST_IPERF_UPLOAD WHERE PROVIDER!='iperf' AND time >= '\"+starting_point+\"'-\"+time_interval+\" AND UPLOAD!=0;\"\n",
    "upload_speedtest_dataframe = get_dataframe_from_influxdb(client_df=client_df,query_influx=query_upload,table_name='SPEEDTEST_IPERF_UPLOAD')"
   ]
  },
  {
   "cell_type": "code",
   "execution_count": null,
   "metadata": {},
   "outputs": [],
   "source": [
    "upload_speedtest_dataframe[\"weekday\"]=upload_speedtest_dataframe[\"time\"].dt.weekday_name\n",
    "upload_speedtest_dataframe[\"weekday\"] = pd.Categorical(upload_speedtest_dataframe[\"weekday\"], [\"Monday\", \"Tuesday\", \"Wednesday\", \"Thursday\", \"Friday\", \"Saturday\", \"Sunday\"])"
   ]
  },
  {
   "cell_type": "code",
   "execution_count": null,
   "metadata": {},
   "outputs": [],
   "source": [
    "device_number=22\n",
    "subset=upload_speedtest_dataframe[upload_speedtest_dataframe[\"SK_PI\"]==device_number]\n",
    "simple_boxplot(dataframe=subset,plot_value='UPLOAD',sort_value='weekday',\n",
    "               title=\"Upload speed by day of the week for the device \"+str(device_number)+\" over the \"+time_interval+\" starting from \"+starting_point,\n",
    "               ytitle=\"Mbps\",uploadline=True, weekdays=True, jitter=True)"
   ]
  },
  {
   "cell_type": "code",
   "execution_count": null,
   "metadata": {},
   "outputs": [],
   "source": [
    "#by_weekday_by_device_u=mean_max_median_by2(input_dataframe=upload_speedtest_dataframe,value1=\"UPLOAD\", value2=\"UPLOAD\",\n",
    "#                                          value3=\"UPLOAD\",group_by_value=\"weekday\", rename_columns=True)\n",
    "by_weekday_by_device_u=mean_max_median_min_by2(input_dataframe=upload_speedtest_dataframe,value1=\"UPLOAD\", value2=\"UPLOAD\",\n",
    "                                          value3=\"UPLOAD\",value4=\"UPLOAD\",group_by_value=\"weekday\", rename_columns=True)"
   ]
  },
  {
   "cell_type": "code",
   "execution_count": null,
   "metadata": {},
   "outputs": [],
   "source": [
    "device_number=22\n",
    "subset=by_weekday_by_device_u[by_weekday_by_device_u[\"SK_PI\"]==device_number]\n",
    "uploadline=go.Scatter(x=subset[\"weekday\"],y=[10] * len(subset[\"weekday\"]), mode='markers',marker=dict(color='red'), name='10Mps')\n",
    "combined_bar_plot_4traces(xvalues=subset[\"weekday\"],\n",
    "                         yvalues1=subset[\"max\"],\n",
    "                         yvalues2=subset[\"mean\"],\n",
    "                         yvalues3=subset[\"median\"],\n",
    "                         yvalues4=subset[\"min\"],\n",
    "                         name1=\"Max\",\n",
    "                         name2=\"Mean\",\n",
    "                         name3=\"Median\",\n",
    "                         name4=\"Min\",\n",
    "                         title=\"Upload speed by day of the week for the device \"+str(device_number)+\" over the \"+time_interval+\" starting from \"+starting_point,\n",
    "                         xtitle=\"weekday\",\n",
    "                         ytitle=\"Mbps\",\n",
    "                         line=uploadline,\n",
    "                         stack=False)"
   ]
  },
  {
   "cell_type": "code",
   "execution_count": null,
   "metadata": {},
   "outputs": [],
   "source": [
    "weekday=\"Friday\"\n",
    "subset=by_weekday_by_device_u[by_weekday_by_device_u[\"weekday\"]==weekday]\n",
    "uploadline=go.Scatter(x=subset[\"SK_PI\"],y=[10] * len(subset[\"SK_PI\"]), mode='markers',marker=dict(color='red'), name='10Mps')\n",
    "combined_bar_plot_4traces(xvalues=subset[\"SK_PI\"],\n",
    "                         yvalues1=subset[\"max\"],\n",
    "                         yvalues2=subset[\"mean\"],\n",
    "                         yvalues3=subset[\"median\"],\n",
    "                         yvalues4=subset[\"min\"],\n",
    "                         name1=\"Max\",\n",
    "                         name2=\"Mean\",\n",
    "                         name3=\"Median\",\n",
    "                         name4=\"Min\",\n",
    "                         title=\"Upload speed by day of the week for the day \"+str(weekday)+\" over the \"+time_interval+\" starting from \"+starting_point,\n",
    "                         ytitle=\"Mbps\",\n",
    "                         line=uploadline,\n",
    "                         stack=False)"
   ]
  },
  {
   "cell_type": "code",
   "execution_count": null,
   "metadata": {},
   "outputs": [],
   "source": [
    "upload_speedtest_dataframe[\"day_group\"]=\"Weekday\"\n",
    "upload_speedtest_dataframe.loc[(upload_speedtest_dataframe[\"weekday\"]==\"Sunday\")|(upload_speedtest_dataframe[\"weekday\"]==\"Saturday\"),\"day_group\"]=\"Weekend\""
   ]
  },
  {
   "cell_type": "code",
   "execution_count": null,
   "metadata": {},
   "outputs": [],
   "source": [
    "device_number=22\n",
    "subset=upload_speedtest_dataframe[upload_speedtest_dataframe[\"SK_PI\"]==device_number]\n",
    "simple_boxplot(dataframe=subset,plot_value='UPLOAD',sort_value='day_group',\n",
    "               title=\"Upload speed by day group for device \"+str(device_number)+\" over the \"+time_interval+\" starting from \"+starting_point,\n",
    "               ytitle=\"Mbps\",uploadline=True, jitter=True)"
   ]
  },
  {
   "cell_type": "code",
   "execution_count": null,
   "metadata": {},
   "outputs": [],
   "source": [
    "by_group_by_device_u = mean_max_median_min_by2(input_dataframe=upload_speedtest_dataframe,value1=\"UPLOAD\", value2=\"UPLOAD\",\n",
    "                                             value3=\"UPLOAD\",value4=\"UPLOAD\",group_by_value=\"day_group\", rename_columns=True)"
   ]
  },
  {
   "cell_type": "code",
   "execution_count": null,
   "metadata": {},
   "outputs": [],
   "source": [
    "device_number=22\n",
    "subset=by_group_by_device_u[by_group_by_device_u[\"SK_PI\"]==device_number]\n",
    "uploadline=go.Scatter(x=subset[\"day_group\"],y=[10] * len(subset[\"day_group\"]), mode='markers',marker=dict(color='red'), name='10Mps')\n",
    "combined_bar_plot_4traces(xvalues=subset[\"day_group\"],\n",
    "                         yvalues1=subset[\"max\"],\n",
    "                         yvalues2=subset[\"mean\"],\n",
    "                         yvalues3=subset[\"median\"],\n",
    "                         yvalues4=subset[\"min\"],\n",
    "                         name1=\"Max\",\n",
    "                         name2=\"Mean\",\n",
    "                         name3=\"Median\",\n",
    "                         name4=\"Min\",\n",
    "                         title=\"Upload speed by day group for the device \"+str(device_number)+\" over the \"+time_interval+\" starting from \"+starting_point,\n",
    "                         ytitle=\"Mbps\",\n",
    "                         xtitle=\"day_group\",\n",
    "                         line=uploadline,\n",
    "                         stack=False)"
   ]
  },
  {
   "cell_type": "code",
   "execution_count": null,
   "metadata": {},
   "outputs": [],
   "source": [
    "day_group=\"Weekend\"\n",
    "subset=by_group_by_device_u[by_group_by_device_u[\"day_group\"]==day_group]\n",
    "uploadline=go.Scatter(x=subset[\"SK_PI\"],y=[10] * len(subset[\"SK_PI\"]), mode='markers',marker=dict(color='red'), name='10Mps')\n",
    "combined_bar_plot_4traces(xvalues=subset[\"SK_PI\"],\n",
    "                         yvalues1=subset[\"max\"],\n",
    "                         yvalues2=subset[\"mean\"],\n",
    "                         yvalues3=subset[\"median\"],\n",
    "                         yvalues4=subset[\"min\"],\n",
    "                         name1=\"Max\",\n",
    "                         name2=\"Mean\",\n",
    "                         name3=\"Median\",\n",
    "                         name4=\"Min\",\n",
    "                         title=\"Upload speed by device for \"+day_group+\"s over the \"+time_interval+\" starting from \"+starting_point,\n",
    "                         ytitle=\"Mbps\",\n",
    "                         line=uploadline,\n",
    "                         stack=False)"
   ]
  },
  {
   "cell_type": "markdown",
   "metadata": {},
   "source": [
    "## Download speed "
   ]
  },
  {
   "cell_type": "code",
   "execution_count": null,
   "metadata": {},
   "outputs": [],
   "source": [
    "query_download = \"SELECT * FROM SPEEDTEST_IPERF_DOWNLOAD WHERE PROVIDER!='iperf' AND time >= '\"+starting_point+\"'-\"+time_interval+\" AND DOWNLOAD!=0;\"\n",
    "download_speedtest_dataframe = get_dataframe_from_influxdb(client_df=client_df,query_influx=query_download,table_name='SPEEDTEST_IPERF_DOWNLOAD')"
   ]
  },
  {
   "cell_type": "code",
   "execution_count": null,
   "metadata": {},
   "outputs": [],
   "source": [
    "download_speedtest_dataframe[\"weekday\"]=download_speedtest_dataframe[\"time\"].dt.weekday_name\n",
    "upload_speedtest_dataframe[\"weekday\"] = pd.Categorical(upload_speedtest_dataframe[\"weekday\"], [\"Monday\", \"Tuesday\", \"Wednesday\", \"Thursday\", \"Friday\", \"Saturday\", \"Sunday\"])"
   ]
  },
  {
   "cell_type": "code",
   "execution_count": null,
   "metadata": {},
   "outputs": [],
   "source": [
    "device_number=22\n",
    "subset=download_speedtest_dataframe[download_speedtest_dataframe[\"SK_PI\"]==device_number]\n",
    "simple_boxplot(dataframe=subset,plot_value='DOWNLOAD',sort_value='weekday',\n",
    "               title=\"Download speed by day of the week for the device \"+str(device_number)+\" over the \"+time_interval+\" starting from \"+starting_point,\n",
    "               ytitle=\"Mbps\",downloadline=True, weekdays=True, jitter=True)"
   ]
  },
  {
   "cell_type": "code",
   "execution_count": null,
   "metadata": {},
   "outputs": [],
   "source": [
    "by_weekday_by_device_d=mean_max_median_min_by2(input_dataframe=download_speedtest_dataframe,value1=\"DOWNLOAD\", value2=\"DOWNLOAD\",\n",
    "                                          value3=\"DOWNLOAD\",value4=\"DOWNLOAD\",group_by_value=\"weekday\", rename_columns=True)"
   ]
  },
  {
   "cell_type": "code",
   "execution_count": null,
   "metadata": {},
   "outputs": [],
   "source": [
    "device_number=22\n",
    "subset=by_weekday_by_device_d[by_weekday_by_device_d[\"SK_PI\"]==device_number]\n",
    "downloadline=go.Scatter(x=subset[\"weekday\"],y=[50] * len(subset[\"weekday\"]), mode='markers',marker=dict(color='red'), name='50Mps')\n",
    "combined_bar_plot_4traces(xvalues=subset[\"weekday\"],\n",
    "                         yvalues1=subset[\"max\"],\n",
    "                         yvalues2=subset[\"mean\"],\n",
    "                         yvalues3=subset[\"median\"],\n",
    "                         yvalues4=subset[\"min\"],\n",
    "                         name1=\"Max\",\n",
    "                         name2=\"Mean\",\n",
    "                         name3=\"Median\",\n",
    "                         name4=\"Min\",\n",
    "                         title=\"Download speed by day of the week for the device \"+str(device_number)+\"over the \"+time_interval+\" starting from \"+starting_point,\n",
    "                         xtitle=\"hour\",\n",
    "                         ytitle=\"Mbps\",\n",
    "                         line=downloadline,\n",
    "                         stack=False)"
   ]
  },
  {
   "cell_type": "code",
   "execution_count": null,
   "metadata": {},
   "outputs": [],
   "source": [
    "weekday=\"Sunday\"\n",
    "subset=by_weekday_by_device_d[by_weekday_by_device_d[\"weekday\"]==weekday]\n",
    "downloadline=go.Scatter(x=subset[\"SK_PI\"],y=[50] * len(subset[\"SK_PI\"]), mode='markers',marker=dict(color='red'), name='50Mps')\n",
    "combined_bar_plot_4traces(xvalues=subset[\"SK_PI\"],\n",
    "                         yvalues1=subset[\"max\"],\n",
    "                         yvalues2=subset[\"mean\"],\n",
    "                         yvalues3=subset[\"median\"],\n",
    "                         yvalues4=subset[\"min\"],\n",
    "                         name1=\"Max\",\n",
    "                         name2=\"Mean\",\n",
    "                         name3=\"Median\",\n",
    "                         name4=\"Min\",\n",
    "                         title=\"Download speed by day of the week for the day \"+weekday+\" over the \"+time_interval+\" starting from \"+starting_point,\n",
    "                         ytitle=\"Mbps\",\n",
    "                         line=downloadline,\n",
    "                         stack=False)"
   ]
  },
  {
   "cell_type": "code",
   "execution_count": null,
   "metadata": {},
   "outputs": [],
   "source": [
    "download_speedtest_dataframe[\"day_group\"]=\"Weekday\"\n",
    "download_speedtest_dataframe.loc[(download_speedtest_dataframe[\"weekday\"]==\"Sunday\")|(download_speedtest_dataframe[\"weekday\"]==\"Saturday\"),\"day_group\"]=\"Weekend\""
   ]
  },
  {
   "cell_type": "code",
   "execution_count": null,
   "metadata": {},
   "outputs": [],
   "source": [
    "device_number=22\n",
    "subset=download_speedtest_dataframe[download_speedtest_dataframe[\"SK_PI\"]==device_number]\n",
    "simple_boxplot(dataframe=subset,plot_value='DOWNLOAD',sort_value='day_group',\n",
    "               title=\"Download speed by day group for device \"+str(device_number)+\" over the \"+time_interval+\" starting from \"+starting_point,\n",
    "               ytitle=\"Mbps\",downloadline=True, jitter=True)"
   ]
  },
  {
   "cell_type": "code",
   "execution_count": null,
   "metadata": {},
   "outputs": [],
   "source": [
    "by_group_by_device_d = mean_max_median_min_by2(input_dataframe=download_speedtest_dataframe,value1=\"DOWNLOAD\", value2=\"DOWNLOAD\",\n",
    "                                             value3=\"DOWNLOAD\",value4=\"DOWNLOAD\",group_by_value=\"day_group\", rename_columns=True)"
   ]
  },
  {
   "cell_type": "code",
   "execution_count": null,
   "metadata": {},
   "outputs": [],
   "source": [
    "device_number=22\n",
    "subset=by_group_by_device_d[by_group_by_device_d[\"SK_PI\"]==device_number]\n",
    "downloadline=go.Scatter(x=subset[\"day_group\"],y=[50] * len(subset[\"day_group\"]), mode='markers',marker=dict(color='red'), name='50Mps')\n",
    "combined_bar_plot_4traces(xvalues=subset[\"day_group\"],\n",
    "                         yvalues1=subset[\"max\"],\n",
    "                         yvalues2=subset[\"mean\"],\n",
    "                         yvalues3=subset[\"median\"],\n",
    "                         yvalues4=subset[\"min\"],\n",
    "                         name1=\"Max\",\n",
    "                         name2=\"Mean\",\n",
    "                         name3=\"Median\",\n",
    "                         name4=\"Min\",\n",
    "                         title=\"Download speed by day group for device \"+str(device_number)+\" over the \"+time_interval+\" starting from \"+starting_point,\n",
    "                         ytitle=\"Mbps\",\n",
    "                         xtitle=\"day_group\",\n",
    "                         line=downloadline,\n",
    "                         stack=False)"
   ]
  },
  {
   "cell_type": "code",
   "execution_count": null,
   "metadata": {},
   "outputs": [],
   "source": [
    "day_group=\"Weekend\"\n",
    "subset=by_group_by_device_d[by_group_by_device_d[\"day_group\"]==day_group]\n",
    "downloadline=go.Scatter(x=subset[\"SK_PI\"],y=[50] * len(subset[\"SK_PI\"]), mode='markers',marker=dict(color='red'), name='50Mps')\n",
    "combined_bar_plot_4traces(xvalues=subset[\"SK_PI\"],\n",
    "                         yvalues1=subset[\"max\"],\n",
    "                         yvalues2=subset[\"mean\"],\n",
    "                         yvalues3=subset[\"median\"],\n",
    "                         yvalues4=subset[\"min\"],\n",
    "                         name1=\"Max\",\n",
    "                         name2=\"Mean\",\n",
    "                         name3=\"Median\",\n",
    "                         name4=\"Min\",\n",
    "                         title=\"Download speed by device for \"+day_group+\"s over the \"+time_interval+\" starting from \"+starting_point,\n",
    "                         ytitle=\"Mbps\",\n",
    "                         line=downloadline,\n",
    "                         stack=False)"
   ]
  }
 ],
 "metadata": {
  "kernelspec": {
   "display_name": "Python 3",
   "language": "python",
   "name": "python3"
  },
  "language_info": {
   "codemirror_mode": {
    "name": "ipython",
    "version": 3
   },
   "file_extension": ".py",
   "mimetype": "text/x-python",
   "name": "python",
   "nbconvert_exporter": "python",
   "pygments_lexer": "ipython3",
   "version": "3.6.9"
  },
  "nbTranslate": {
   "displayLangs": [
    "*"
   ],
   "hotkey": "alt-t",
   "langInMainMenu": true,
   "sourceLang": "en",
   "targetLang": "fr",
   "useGoogleTranslate": true
  }
 },
 "nbformat": 4,
 "nbformat_minor": 2
}
